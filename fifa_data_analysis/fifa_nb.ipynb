{
 "cells": [
  {
   "cell_type": "code",
   "execution_count": 415,
   "metadata": {},
   "outputs": [],
   "source": [
    "import pandas as pd\n",
    "import numpy as np\n",
    "import matplotlib.pyplot as plt\n",
    "import seaborn as sns\n",
    "import plotly.express as px\n",
    "import plotly.graph_objects as go\n",
    "import math"
   ]
  },
  {
   "cell_type": "code",
   "execution_count": 416,
   "metadata": {},
   "outputs": [
    {
     "data": {
      "text/html": [
       "<div>\n",
       "<style scoped>\n",
       "    .dataframe tbody tr th:only-of-type {\n",
       "        vertical-align: middle;\n",
       "    }\n",
       "\n",
       "    .dataframe tbody tr th {\n",
       "        vertical-align: top;\n",
       "    }\n",
       "\n",
       "    .dataframe thead th {\n",
       "        text-align: right;\n",
       "    }\n",
       "</style>\n",
       "<table border=\"1\" class=\"dataframe\">\n",
       "  <thead>\n",
       "    <tr style=\"text-align: right;\">\n",
       "      <th></th>\n",
       "      <th>sofifa_id</th>\n",
       "      <th>player_url</th>\n",
       "      <th>short_name</th>\n",
       "      <th>long_name</th>\n",
       "      <th>age</th>\n",
       "      <th>dob</th>\n",
       "      <th>height_cm</th>\n",
       "      <th>weight_kg</th>\n",
       "      <th>nationality</th>\n",
       "      <th>club</th>\n",
       "      <th>...</th>\n",
       "      <th>lwb</th>\n",
       "      <th>ldm</th>\n",
       "      <th>cdm</th>\n",
       "      <th>rdm</th>\n",
       "      <th>rwb</th>\n",
       "      <th>lb</th>\n",
       "      <th>lcb</th>\n",
       "      <th>cb</th>\n",
       "      <th>rcb</th>\n",
       "      <th>rb</th>\n",
       "    </tr>\n",
       "  </thead>\n",
       "  <tbody>\n",
       "    <tr>\n",
       "      <th>0</th>\n",
       "      <td>158023</td>\n",
       "      <td>https://sofifa.com/player/158023/lionel-messi/...</td>\n",
       "      <td>L. Messi</td>\n",
       "      <td>Lionel Andrés Messi Cuccittini</td>\n",
       "      <td>32</td>\n",
       "      <td>1987-06-24</td>\n",
       "      <td>170</td>\n",
       "      <td>72</td>\n",
       "      <td>Argentina</td>\n",
       "      <td>FC Barcelona</td>\n",
       "      <td>...</td>\n",
       "      <td>68+2</td>\n",
       "      <td>66+2</td>\n",
       "      <td>66+2</td>\n",
       "      <td>66+2</td>\n",
       "      <td>68+2</td>\n",
       "      <td>63+2</td>\n",
       "      <td>52+2</td>\n",
       "      <td>52+2</td>\n",
       "      <td>52+2</td>\n",
       "      <td>63+2</td>\n",
       "    </tr>\n",
       "    <tr>\n",
       "      <th>1</th>\n",
       "      <td>20801</td>\n",
       "      <td>https://sofifa.com/player/20801/c-ronaldo-dos-...</td>\n",
       "      <td>Cristiano Ronaldo</td>\n",
       "      <td>Cristiano Ronaldo dos Santos Aveiro</td>\n",
       "      <td>34</td>\n",
       "      <td>1985-02-05</td>\n",
       "      <td>187</td>\n",
       "      <td>83</td>\n",
       "      <td>Portugal</td>\n",
       "      <td>Juventus</td>\n",
       "      <td>...</td>\n",
       "      <td>65+3</td>\n",
       "      <td>61+3</td>\n",
       "      <td>61+3</td>\n",
       "      <td>61+3</td>\n",
       "      <td>65+3</td>\n",
       "      <td>61+3</td>\n",
       "      <td>53+3</td>\n",
       "      <td>53+3</td>\n",
       "      <td>53+3</td>\n",
       "      <td>61+3</td>\n",
       "    </tr>\n",
       "    <tr>\n",
       "      <th>2</th>\n",
       "      <td>190871</td>\n",
       "      <td>https://sofifa.com/player/190871/neymar-da-sil...</td>\n",
       "      <td>Neymar Jr</td>\n",
       "      <td>Neymar da Silva Santos Junior</td>\n",
       "      <td>27</td>\n",
       "      <td>1992-02-05</td>\n",
       "      <td>175</td>\n",
       "      <td>68</td>\n",
       "      <td>Brazil</td>\n",
       "      <td>Paris Saint-Germain</td>\n",
       "      <td>...</td>\n",
       "      <td>66+3</td>\n",
       "      <td>61+3</td>\n",
       "      <td>61+3</td>\n",
       "      <td>61+3</td>\n",
       "      <td>66+3</td>\n",
       "      <td>61+3</td>\n",
       "      <td>46+3</td>\n",
       "      <td>46+3</td>\n",
       "      <td>46+3</td>\n",
       "      <td>61+3</td>\n",
       "    </tr>\n",
       "    <tr>\n",
       "      <th>3</th>\n",
       "      <td>200389</td>\n",
       "      <td>https://sofifa.com/player/200389/jan-oblak/20/...</td>\n",
       "      <td>J. Oblak</td>\n",
       "      <td>Jan Oblak</td>\n",
       "      <td>26</td>\n",
       "      <td>1993-01-07</td>\n",
       "      <td>188</td>\n",
       "      <td>87</td>\n",
       "      <td>Slovenia</td>\n",
       "      <td>Atlético Madrid</td>\n",
       "      <td>...</td>\n",
       "      <td>NaN</td>\n",
       "      <td>NaN</td>\n",
       "      <td>NaN</td>\n",
       "      <td>NaN</td>\n",
       "      <td>NaN</td>\n",
       "      <td>NaN</td>\n",
       "      <td>NaN</td>\n",
       "      <td>NaN</td>\n",
       "      <td>NaN</td>\n",
       "      <td>NaN</td>\n",
       "    </tr>\n",
       "    <tr>\n",
       "      <th>4</th>\n",
       "      <td>183277</td>\n",
       "      <td>https://sofifa.com/player/183277/eden-hazard/2...</td>\n",
       "      <td>E. Hazard</td>\n",
       "      <td>Eden Hazard</td>\n",
       "      <td>28</td>\n",
       "      <td>1991-01-07</td>\n",
       "      <td>175</td>\n",
       "      <td>74</td>\n",
       "      <td>Belgium</td>\n",
       "      <td>Real Madrid</td>\n",
       "      <td>...</td>\n",
       "      <td>66+3</td>\n",
       "      <td>63+3</td>\n",
       "      <td>63+3</td>\n",
       "      <td>63+3</td>\n",
       "      <td>66+3</td>\n",
       "      <td>61+3</td>\n",
       "      <td>49+3</td>\n",
       "      <td>49+3</td>\n",
       "      <td>49+3</td>\n",
       "      <td>61+3</td>\n",
       "    </tr>\n",
       "  </tbody>\n",
       "</table>\n",
       "<p>5 rows × 104 columns</p>\n",
       "</div>"
      ],
      "text/plain": [
       "   sofifa_id                                         player_url  \\\n",
       "0     158023  https://sofifa.com/player/158023/lionel-messi/...   \n",
       "1      20801  https://sofifa.com/player/20801/c-ronaldo-dos-...   \n",
       "2     190871  https://sofifa.com/player/190871/neymar-da-sil...   \n",
       "3     200389  https://sofifa.com/player/200389/jan-oblak/20/...   \n",
       "4     183277  https://sofifa.com/player/183277/eden-hazard/2...   \n",
       "\n",
       "          short_name                            long_name  age         dob  \\\n",
       "0           L. Messi       Lionel Andrés Messi Cuccittini   32  1987-06-24   \n",
       "1  Cristiano Ronaldo  Cristiano Ronaldo dos Santos Aveiro   34  1985-02-05   \n",
       "2          Neymar Jr        Neymar da Silva Santos Junior   27  1992-02-05   \n",
       "3           J. Oblak                            Jan Oblak   26  1993-01-07   \n",
       "4          E. Hazard                          Eden Hazard   28  1991-01-07   \n",
       "\n",
       "   height_cm  weight_kg nationality                 club  ...   lwb   ldm  \\\n",
       "0        170         72   Argentina         FC Barcelona  ...  68+2  66+2   \n",
       "1        187         83    Portugal             Juventus  ...  65+3  61+3   \n",
       "2        175         68      Brazil  Paris Saint-Germain  ...  66+3  61+3   \n",
       "3        188         87    Slovenia      Atlético Madrid  ...   NaN   NaN   \n",
       "4        175         74     Belgium          Real Madrid  ...  66+3  63+3   \n",
       "\n",
       "    cdm   rdm   rwb    lb   lcb    cb   rcb    rb  \n",
       "0  66+2  66+2  68+2  63+2  52+2  52+2  52+2  63+2  \n",
       "1  61+3  61+3  65+3  61+3  53+3  53+3  53+3  61+3  \n",
       "2  61+3  61+3  66+3  61+3  46+3  46+3  46+3  61+3  \n",
       "3   NaN   NaN   NaN   NaN   NaN   NaN   NaN   NaN  \n",
       "4  63+3  63+3  66+3  61+3  49+3  49+3  49+3  61+3  \n",
       "\n",
       "[5 rows x 104 columns]"
      ]
     },
     "execution_count": 416,
     "metadata": {},
     "output_type": "execute_result"
    }
   ],
   "source": [
    "df = pd.read_csv('/home/blair/cognixia_workspace/jumplus/JUMPlus/fifa_data_analysis/players_20.csv')\n",
    "df.drop_duplicates()\n",
    "df.dropna()\n",
    "df.head()"
   ]
  },
  {
   "cell_type": "code",
   "execution_count": 417,
   "metadata": {},
   "outputs": [
    {
     "data": {
      "text/plain": [
       "array(['sofifa_id', 'player_url', 'short_name', 'long_name', 'age', 'dob',\n",
       "       'height_cm', 'weight_kg', 'nationality', 'club', 'overall',\n",
       "       'potential', 'value_eur', 'wage_eur', 'player_positions',\n",
       "       'preferred_foot', 'international_reputation', 'weak_foot',\n",
       "       'skill_moves', 'work_rate', 'body_type', 'real_face',\n",
       "       'release_clause_eur', 'player_tags', 'team_position',\n",
       "       'team_jersey_number', 'loaned_from', 'joined',\n",
       "       'contract_valid_until', 'nation_position', 'nation_jersey_number',\n",
       "       'pace', 'shooting', 'passing', 'dribbling', 'defending', 'physic',\n",
       "       'gk_diving', 'gk_handling', 'gk_kicking', 'gk_reflexes',\n",
       "       'gk_speed', 'gk_positioning', 'player_traits',\n",
       "       'attacking_crossing', 'attacking_finishing',\n",
       "       'attacking_heading_accuracy', 'attacking_short_passing',\n",
       "       'attacking_volleys', 'skill_dribbling', 'skill_curve',\n",
       "       'skill_fk_accuracy', 'skill_long_passing', 'skill_ball_control',\n",
       "       'movement_acceleration', 'movement_sprint_speed',\n",
       "       'movement_agility', 'movement_reactions', 'movement_balance',\n",
       "       'power_shot_power', 'power_jumping', 'power_stamina',\n",
       "       'power_strength', 'power_long_shots', 'mentality_aggression',\n",
       "       'mentality_interceptions', 'mentality_positioning',\n",
       "       'mentality_vision', 'mentality_penalties', 'mentality_composure',\n",
       "       'defending_marking', 'defending_standing_tackle',\n",
       "       'defending_sliding_tackle', 'goalkeeping_diving',\n",
       "       'goalkeeping_handling', 'goalkeeping_kicking',\n",
       "       'goalkeeping_positioning', 'goalkeeping_reflexes', 'ls', 'st',\n",
       "       'rs', 'lw', 'lf', 'cf', 'rf', 'rw', 'lam', 'cam', 'ram', 'lm',\n",
       "       'lcm', 'cm', 'rcm', 'rm', 'lwb', 'ldm', 'cdm', 'rdm', 'rwb', 'lb',\n",
       "       'lcb', 'cb', 'rcb', 'rb'], dtype=object)"
      ]
     },
     "execution_count": 417,
     "metadata": {},
     "output_type": "execute_result"
    }
   ],
   "source": [
    "df.columns.values"
   ]
  },
  {
   "cell_type": "code",
   "execution_count": 418,
   "metadata": {},
   "outputs": [
    {
     "data": {
      "text/plain": [
       "'Rows = 18278 | Columns = 104'"
      ]
     },
     "execution_count": 418,
     "metadata": {},
     "output_type": "execute_result"
    }
   ],
   "source": [
    "rows = df.shape[0]\n",
    "columns = df.shape[1]\n",
    "\n",
    "f'Rows = {rows} | Columns = {columns}'"
   ]
  },
  {
   "cell_type": "code",
   "execution_count": 419,
   "metadata": {},
   "outputs": [
    {
     "data": {
      "text/html": [
       "<style type=\"text/css\">\n",
       "#T_c4f09 tr:hover {\n",
       "  background-color: green;\n",
       "}\n",
       "</style>\n",
       "<table id=\"T_c4f09\">\n",
       "  <thead>\n",
       "    <tr>\n",
       "      <th id=\"T_c4f09_level0_col0\" class=\"col_heading level0 col0\" >nationality</th>\n",
       "      <th id=\"T_c4f09_level0_col1\" class=\"col_heading level0 col1\" >name</th>\n",
       "    </tr>\n",
       "  </thead>\n",
       "  <tbody>\n",
       "    <tr>\n",
       "      <td id=\"T_c4f09_row0_col0\" class=\"data row0 col0\" >Afghanistan</td>\n",
       "      <td id=\"T_c4f09_row0_col1\" class=\"data row0 col1\" >2</td>\n",
       "    </tr>\n",
       "    <tr>\n",
       "      <td id=\"T_c4f09_row1_col0\" class=\"data row1 col0\" >Albania</td>\n",
       "      <td id=\"T_c4f09_row1_col1\" class=\"data row1 col1\" >43</td>\n",
       "    </tr>\n",
       "    <tr>\n",
       "      <td id=\"T_c4f09_row2_col0\" class=\"data row2 col0\" >Algeria</td>\n",
       "      <td id=\"T_c4f09_row2_col1\" class=\"data row2 col1\" >50</td>\n",
       "    </tr>\n",
       "    <tr>\n",
       "      <td id=\"T_c4f09_row3_col0\" class=\"data row3 col0\" >Angola</td>\n",
       "      <td id=\"T_c4f09_row3_col1\" class=\"data row3 col1\" >16</td>\n",
       "    </tr>\n",
       "    <tr>\n",
       "      <td id=\"T_c4f09_row4_col0\" class=\"data row4 col0\" >Antigua & Barbuda</td>\n",
       "      <td id=\"T_c4f09_row4_col1\" class=\"data row4 col1\" >7</td>\n",
       "    </tr>\n",
       "    <tr>\n",
       "      <td id=\"T_c4f09_row5_col0\" class=\"data row5 col0\" >Argentina</td>\n",
       "      <td id=\"T_c4f09_row5_col1\" class=\"data row5 col1\" >886</td>\n",
       "    </tr>\n",
       "    <tr>\n",
       "      <td id=\"T_c4f09_row6_col0\" class=\"data row6 col0\" >Armenia</td>\n",
       "      <td id=\"T_c4f09_row6_col1\" class=\"data row6 col1\" >8</td>\n",
       "    </tr>\n",
       "    <tr>\n",
       "      <td id=\"T_c4f09_row7_col0\" class=\"data row7 col0\" >Australia</td>\n",
       "      <td id=\"T_c4f09_row7_col1\" class=\"data row7 col1\" >196</td>\n",
       "    </tr>\n",
       "    <tr>\n",
       "      <td id=\"T_c4f09_row8_col0\" class=\"data row8 col0\" >Austria</td>\n",
       "      <td id=\"T_c4f09_row8_col1\" class=\"data row8 col1\" >319</td>\n",
       "    </tr>\n",
       "    <tr>\n",
       "      <td id=\"T_c4f09_row9_col0\" class=\"data row9 col0\" >Azerbaijan</td>\n",
       "      <td id=\"T_c4f09_row9_col1\" class=\"data row9 col1\" >6</td>\n",
       "    </tr>\n",
       "  </tbody>\n",
       "</table>\n"
      ],
      "text/plain": [
       "<pandas.io.formats.style.Styler at 0x7faeac1fd2e0>"
      ]
     },
     "execution_count": 419,
     "metadata": {},
     "output_type": "execute_result"
    }
   ],
   "source": [
    "country_count = df['long_name'].groupby(df['nationality'], group_keys=False).count()\n",
    "country_count = country_count.rename('name').to_frame()\n",
    "pd.DataFrame(country_count).head(10).reset_index().style.hide().set_table_styles([{'selector': 'tr:hover', 'props': [('background-color', 'green')]}])"
   ]
  },
  {
   "cell_type": "code",
   "execution_count": 420,
   "metadata": {},
   "outputs": [
    {
     "data": {
      "text/html": [
       "<style type=\"text/css\">\n",
       "#T_5fcca tr:hover {\n",
       "  background-color: green;\n",
       "}\n",
       "</style>\n",
       "<table id=\"T_5fcca\">\n",
       "  <thead>\n",
       "    <tr>\n",
       "      <th id=\"T_5fcca_level0_col0\" class=\"col_heading level0 col0\" >nationality</th>\n",
       "      <th id=\"T_5fcca_level0_col1\" class=\"col_heading level0 col1\" >name</th>\n",
       "    </tr>\n",
       "  </thead>\n",
       "  <tbody>\n",
       "    <tr>\n",
       "      <td id=\"T_5fcca_row0_col0\" class=\"data row0 col0\" >England</td>\n",
       "      <td id=\"T_5fcca_row0_col1\" class=\"data row0 col1\" >1667</td>\n",
       "    </tr>\n",
       "    <tr>\n",
       "      <td id=\"T_5fcca_row1_col0\" class=\"data row1 col0\" >Germany</td>\n",
       "      <td id=\"T_5fcca_row1_col1\" class=\"data row1 col1\" >1216</td>\n",
       "    </tr>\n",
       "    <tr>\n",
       "      <td id=\"T_5fcca_row2_col0\" class=\"data row2 col0\" >Spain</td>\n",
       "      <td id=\"T_5fcca_row2_col1\" class=\"data row2 col1\" >1035</td>\n",
       "    </tr>\n",
       "    <tr>\n",
       "      <td id=\"T_5fcca_row3_col0\" class=\"data row3 col0\" >France</td>\n",
       "      <td id=\"T_5fcca_row3_col1\" class=\"data row3 col1\" >984</td>\n",
       "    </tr>\n",
       "    <tr>\n",
       "      <td id=\"T_5fcca_row4_col0\" class=\"data row4 col0\" >Argentina</td>\n",
       "      <td id=\"T_5fcca_row4_col1\" class=\"data row4 col1\" >886</td>\n",
       "    </tr>\n",
       "    <tr>\n",
       "      <td id=\"T_5fcca_row5_col0\" class=\"data row5 col0\" >Brazil</td>\n",
       "      <td id=\"T_5fcca_row5_col1\" class=\"data row5 col1\" >824</td>\n",
       "    </tr>\n",
       "    <tr>\n",
       "      <td id=\"T_5fcca_row6_col0\" class=\"data row6 col0\" >Italy</td>\n",
       "      <td id=\"T_5fcca_row6_col1\" class=\"data row6 col1\" >732</td>\n",
       "    </tr>\n",
       "    <tr>\n",
       "      <td id=\"T_5fcca_row7_col0\" class=\"data row7 col0\" >Colombia</td>\n",
       "      <td id=\"T_5fcca_row7_col1\" class=\"data row7 col1\" >591</td>\n",
       "    </tr>\n",
       "    <tr>\n",
       "      <td id=\"T_5fcca_row8_col0\" class=\"data row8 col0\" >Japan</td>\n",
       "      <td id=\"T_5fcca_row8_col1\" class=\"data row8 col1\" >453</td>\n",
       "    </tr>\n",
       "    <tr>\n",
       "      <td id=\"T_5fcca_row9_col0\" class=\"data row9 col0\" >Netherlands</td>\n",
       "      <td id=\"T_5fcca_row9_col1\" class=\"data row9 col1\" >416</td>\n",
       "    </tr>\n",
       "  </tbody>\n",
       "</table>\n"
      ],
      "text/plain": [
       "<pandas.io.formats.style.Styler at 0x7faeae8387c0>"
      ]
     },
     "execution_count": 420,
     "metadata": {},
     "output_type": "execute_result"
    }
   ],
   "source": [
    "top_10_countries = country_count.sort_values(by='name', ascending=False)[:10]\n",
    "top_10_countries.reset_index().style.hide().set_table_styles([{'selector': 'tr:hover', 'props': [('background-color', 'green')]}])"
   ]
  },
  {
   "cell_type": "code",
   "execution_count": 421,
   "metadata": {},
   "outputs": [
    {
     "data": {
      "application/vnd.plotly.v1+json": {
       "config": {
        "plotlyServerURL": "https://plot.ly"
       },
       "data": [
        {
         "alignmentgroup": "True",
         "hovertemplate": "Variable=name<br>Country=%{x}<br>Player Count=%{y}<extra></extra>",
         "legendgroup": "name",
         "marker": {
          "color": "limegreen",
          "pattern": {
           "shape": ""
          }
         },
         "name": "name",
         "offsetgroup": "name",
         "orientation": "v",
         "showlegend": true,
         "textposition": "auto",
         "type": "bar",
         "x": [
          "England",
          "Germany",
          "Spain",
          "France",
          "Argentina",
          "Brazil",
          "Italy",
          "Colombia",
          "Japan",
          "Netherlands"
         ],
         "xaxis": "x",
         "y": [
          1667,
          1216,
          1035,
          984,
          886,
          824,
          732,
          591,
          453,
          416
         ],
         "yaxis": "y"
        }
       ],
       "layout": {
        "barmode": "relative",
        "legend": {
         "title": {
          "text": "Variable"
         },
         "tracegroupgap": 0
        },
        "showlegend": false,
        "template": {
         "data": {
          "bar": [
           {
            "error_x": {
             "color": "#2a3f5f"
            },
            "error_y": {
             "color": "#2a3f5f"
            },
            "marker": {
             "line": {
              "color": "#E5ECF6",
              "width": 0.5
             },
             "pattern": {
              "fillmode": "overlay",
              "size": 10,
              "solidity": 0.2
             }
            },
            "type": "bar"
           }
          ],
          "barpolar": [
           {
            "marker": {
             "line": {
              "color": "#E5ECF6",
              "width": 0.5
             },
             "pattern": {
              "fillmode": "overlay",
              "size": 10,
              "solidity": 0.2
             }
            },
            "type": "barpolar"
           }
          ],
          "carpet": [
           {
            "aaxis": {
             "endlinecolor": "#2a3f5f",
             "gridcolor": "white",
             "linecolor": "white",
             "minorgridcolor": "white",
             "startlinecolor": "#2a3f5f"
            },
            "baxis": {
             "endlinecolor": "#2a3f5f",
             "gridcolor": "white",
             "linecolor": "white",
             "minorgridcolor": "white",
             "startlinecolor": "#2a3f5f"
            },
            "type": "carpet"
           }
          ],
          "choropleth": [
           {
            "colorbar": {
             "outlinewidth": 0,
             "ticks": ""
            },
            "type": "choropleth"
           }
          ],
          "contour": [
           {
            "colorbar": {
             "outlinewidth": 0,
             "ticks": ""
            },
            "colorscale": [
             [
              0,
              "#0d0887"
             ],
             [
              0.1111111111111111,
              "#46039f"
             ],
             [
              0.2222222222222222,
              "#7201a8"
             ],
             [
              0.3333333333333333,
              "#9c179e"
             ],
             [
              0.4444444444444444,
              "#bd3786"
             ],
             [
              0.5555555555555556,
              "#d8576b"
             ],
             [
              0.6666666666666666,
              "#ed7953"
             ],
             [
              0.7777777777777778,
              "#fb9f3a"
             ],
             [
              0.8888888888888888,
              "#fdca26"
             ],
             [
              1,
              "#f0f921"
             ]
            ],
            "type": "contour"
           }
          ],
          "contourcarpet": [
           {
            "colorbar": {
             "outlinewidth": 0,
             "ticks": ""
            },
            "type": "contourcarpet"
           }
          ],
          "heatmap": [
           {
            "colorbar": {
             "outlinewidth": 0,
             "ticks": ""
            },
            "colorscale": [
             [
              0,
              "#0d0887"
             ],
             [
              0.1111111111111111,
              "#46039f"
             ],
             [
              0.2222222222222222,
              "#7201a8"
             ],
             [
              0.3333333333333333,
              "#9c179e"
             ],
             [
              0.4444444444444444,
              "#bd3786"
             ],
             [
              0.5555555555555556,
              "#d8576b"
             ],
             [
              0.6666666666666666,
              "#ed7953"
             ],
             [
              0.7777777777777778,
              "#fb9f3a"
             ],
             [
              0.8888888888888888,
              "#fdca26"
             ],
             [
              1,
              "#f0f921"
             ]
            ],
            "type": "heatmap"
           }
          ],
          "heatmapgl": [
           {
            "colorbar": {
             "outlinewidth": 0,
             "ticks": ""
            },
            "colorscale": [
             [
              0,
              "#0d0887"
             ],
             [
              0.1111111111111111,
              "#46039f"
             ],
             [
              0.2222222222222222,
              "#7201a8"
             ],
             [
              0.3333333333333333,
              "#9c179e"
             ],
             [
              0.4444444444444444,
              "#bd3786"
             ],
             [
              0.5555555555555556,
              "#d8576b"
             ],
             [
              0.6666666666666666,
              "#ed7953"
             ],
             [
              0.7777777777777778,
              "#fb9f3a"
             ],
             [
              0.8888888888888888,
              "#fdca26"
             ],
             [
              1,
              "#f0f921"
             ]
            ],
            "type": "heatmapgl"
           }
          ],
          "histogram": [
           {
            "marker": {
             "pattern": {
              "fillmode": "overlay",
              "size": 10,
              "solidity": 0.2
             }
            },
            "type": "histogram"
           }
          ],
          "histogram2d": [
           {
            "colorbar": {
             "outlinewidth": 0,
             "ticks": ""
            },
            "colorscale": [
             [
              0,
              "#0d0887"
             ],
             [
              0.1111111111111111,
              "#46039f"
             ],
             [
              0.2222222222222222,
              "#7201a8"
             ],
             [
              0.3333333333333333,
              "#9c179e"
             ],
             [
              0.4444444444444444,
              "#bd3786"
             ],
             [
              0.5555555555555556,
              "#d8576b"
             ],
             [
              0.6666666666666666,
              "#ed7953"
             ],
             [
              0.7777777777777778,
              "#fb9f3a"
             ],
             [
              0.8888888888888888,
              "#fdca26"
             ],
             [
              1,
              "#f0f921"
             ]
            ],
            "type": "histogram2d"
           }
          ],
          "histogram2dcontour": [
           {
            "colorbar": {
             "outlinewidth": 0,
             "ticks": ""
            },
            "colorscale": [
             [
              0,
              "#0d0887"
             ],
             [
              0.1111111111111111,
              "#46039f"
             ],
             [
              0.2222222222222222,
              "#7201a8"
             ],
             [
              0.3333333333333333,
              "#9c179e"
             ],
             [
              0.4444444444444444,
              "#bd3786"
             ],
             [
              0.5555555555555556,
              "#d8576b"
             ],
             [
              0.6666666666666666,
              "#ed7953"
             ],
             [
              0.7777777777777778,
              "#fb9f3a"
             ],
             [
              0.8888888888888888,
              "#fdca26"
             ],
             [
              1,
              "#f0f921"
             ]
            ],
            "type": "histogram2dcontour"
           }
          ],
          "mesh3d": [
           {
            "colorbar": {
             "outlinewidth": 0,
             "ticks": ""
            },
            "type": "mesh3d"
           }
          ],
          "parcoords": [
           {
            "line": {
             "colorbar": {
              "outlinewidth": 0,
              "ticks": ""
             }
            },
            "type": "parcoords"
           }
          ],
          "pie": [
           {
            "automargin": true,
            "type": "pie"
           }
          ],
          "scatter": [
           {
            "fillpattern": {
             "fillmode": "overlay",
             "size": 10,
             "solidity": 0.2
            },
            "type": "scatter"
           }
          ],
          "scatter3d": [
           {
            "line": {
             "colorbar": {
              "outlinewidth": 0,
              "ticks": ""
             }
            },
            "marker": {
             "colorbar": {
              "outlinewidth": 0,
              "ticks": ""
             }
            },
            "type": "scatter3d"
           }
          ],
          "scattercarpet": [
           {
            "marker": {
             "colorbar": {
              "outlinewidth": 0,
              "ticks": ""
             }
            },
            "type": "scattercarpet"
           }
          ],
          "scattergeo": [
           {
            "marker": {
             "colorbar": {
              "outlinewidth": 0,
              "ticks": ""
             }
            },
            "type": "scattergeo"
           }
          ],
          "scattergl": [
           {
            "marker": {
             "colorbar": {
              "outlinewidth": 0,
              "ticks": ""
             }
            },
            "type": "scattergl"
           }
          ],
          "scattermapbox": [
           {
            "marker": {
             "colorbar": {
              "outlinewidth": 0,
              "ticks": ""
             }
            },
            "type": "scattermapbox"
           }
          ],
          "scatterpolar": [
           {
            "marker": {
             "colorbar": {
              "outlinewidth": 0,
              "ticks": ""
             }
            },
            "type": "scatterpolar"
           }
          ],
          "scatterpolargl": [
           {
            "marker": {
             "colorbar": {
              "outlinewidth": 0,
              "ticks": ""
             }
            },
            "type": "scatterpolargl"
           }
          ],
          "scatterternary": [
           {
            "marker": {
             "colorbar": {
              "outlinewidth": 0,
              "ticks": ""
             }
            },
            "type": "scatterternary"
           }
          ],
          "surface": [
           {
            "colorbar": {
             "outlinewidth": 0,
             "ticks": ""
            },
            "colorscale": [
             [
              0,
              "#0d0887"
             ],
             [
              0.1111111111111111,
              "#46039f"
             ],
             [
              0.2222222222222222,
              "#7201a8"
             ],
             [
              0.3333333333333333,
              "#9c179e"
             ],
             [
              0.4444444444444444,
              "#bd3786"
             ],
             [
              0.5555555555555556,
              "#d8576b"
             ],
             [
              0.6666666666666666,
              "#ed7953"
             ],
             [
              0.7777777777777778,
              "#fb9f3a"
             ],
             [
              0.8888888888888888,
              "#fdca26"
             ],
             [
              1,
              "#f0f921"
             ]
            ],
            "type": "surface"
           }
          ],
          "table": [
           {
            "cells": {
             "fill": {
              "color": "#EBF0F8"
             },
             "line": {
              "color": "white"
             }
            },
            "header": {
             "fill": {
              "color": "#C8D4E3"
             },
             "line": {
              "color": "white"
             }
            },
            "type": "table"
           }
          ]
         },
         "layout": {
          "annotationdefaults": {
           "arrowcolor": "#2a3f5f",
           "arrowhead": 0,
           "arrowwidth": 1
          },
          "autotypenumbers": "strict",
          "coloraxis": {
           "colorbar": {
            "outlinewidth": 0,
            "ticks": ""
           }
          },
          "colorscale": {
           "diverging": [
            [
             0,
             "#8e0152"
            ],
            [
             0.1,
             "#c51b7d"
            ],
            [
             0.2,
             "#de77ae"
            ],
            [
             0.3,
             "#f1b6da"
            ],
            [
             0.4,
             "#fde0ef"
            ],
            [
             0.5,
             "#f7f7f7"
            ],
            [
             0.6,
             "#e6f5d0"
            ],
            [
             0.7,
             "#b8e186"
            ],
            [
             0.8,
             "#7fbc41"
            ],
            [
             0.9,
             "#4d9221"
            ],
            [
             1,
             "#276419"
            ]
           ],
           "sequential": [
            [
             0,
             "#0d0887"
            ],
            [
             0.1111111111111111,
             "#46039f"
            ],
            [
             0.2222222222222222,
             "#7201a8"
            ],
            [
             0.3333333333333333,
             "#9c179e"
            ],
            [
             0.4444444444444444,
             "#bd3786"
            ],
            [
             0.5555555555555556,
             "#d8576b"
            ],
            [
             0.6666666666666666,
             "#ed7953"
            ],
            [
             0.7777777777777778,
             "#fb9f3a"
            ],
            [
             0.8888888888888888,
             "#fdca26"
            ],
            [
             1,
             "#f0f921"
            ]
           ],
           "sequentialminus": [
            [
             0,
             "#0d0887"
            ],
            [
             0.1111111111111111,
             "#46039f"
            ],
            [
             0.2222222222222222,
             "#7201a8"
            ],
            [
             0.3333333333333333,
             "#9c179e"
            ],
            [
             0.4444444444444444,
             "#bd3786"
            ],
            [
             0.5555555555555556,
             "#d8576b"
            ],
            [
             0.6666666666666666,
             "#ed7953"
            ],
            [
             0.7777777777777778,
             "#fb9f3a"
            ],
            [
             0.8888888888888888,
             "#fdca26"
            ],
            [
             1,
             "#f0f921"
            ]
           ]
          },
          "colorway": [
           "#636efa",
           "#EF553B",
           "#00cc96",
           "#ab63fa",
           "#FFA15A",
           "#19d3f3",
           "#FF6692",
           "#B6E880",
           "#FF97FF",
           "#FECB52"
          ],
          "font": {
           "color": "#2a3f5f"
          },
          "geo": {
           "bgcolor": "white",
           "lakecolor": "white",
           "landcolor": "#E5ECF6",
           "showlakes": true,
           "showland": true,
           "subunitcolor": "white"
          },
          "hoverlabel": {
           "align": "left"
          },
          "hovermode": "closest",
          "mapbox": {
           "style": "light"
          },
          "paper_bgcolor": "white",
          "plot_bgcolor": "#E5ECF6",
          "polar": {
           "angularaxis": {
            "gridcolor": "white",
            "linecolor": "white",
            "ticks": ""
           },
           "bgcolor": "#E5ECF6",
           "radialaxis": {
            "gridcolor": "white",
            "linecolor": "white",
            "ticks": ""
           }
          },
          "scene": {
           "xaxis": {
            "backgroundcolor": "#E5ECF6",
            "gridcolor": "white",
            "gridwidth": 2,
            "linecolor": "white",
            "showbackground": true,
            "ticks": "",
            "zerolinecolor": "white"
           },
           "yaxis": {
            "backgroundcolor": "#E5ECF6",
            "gridcolor": "white",
            "gridwidth": 2,
            "linecolor": "white",
            "showbackground": true,
            "ticks": "",
            "zerolinecolor": "white"
           },
           "zaxis": {
            "backgroundcolor": "#E5ECF6",
            "gridcolor": "white",
            "gridwidth": 2,
            "linecolor": "white",
            "showbackground": true,
            "ticks": "",
            "zerolinecolor": "white"
           }
          },
          "shapedefaults": {
           "line": {
            "color": "#2a3f5f"
           }
          },
          "ternary": {
           "aaxis": {
            "gridcolor": "white",
            "linecolor": "white",
            "ticks": ""
           },
           "baxis": {
            "gridcolor": "white",
            "linecolor": "white",
            "ticks": ""
           },
           "bgcolor": "#E5ECF6",
           "caxis": {
            "gridcolor": "white",
            "linecolor": "white",
            "ticks": ""
           }
          },
          "title": {
           "x": 0.05
          },
          "xaxis": {
           "automargin": true,
           "gridcolor": "white",
           "linecolor": "white",
           "ticks": "",
           "title": {
            "standoff": 15
           },
           "zerolinecolor": "white",
           "zerolinewidth": 2
          },
          "yaxis": {
           "automargin": true,
           "gridcolor": "white",
           "linecolor": "white",
           "ticks": "",
           "title": {
            "standoff": 15
           },
           "zerolinecolor": "white",
           "zerolinewidth": 2
          }
         }
        },
        "title": {
         "text": "Top 10 Countries x Amount of Players"
        },
        "xaxis": {
         "anchor": "y",
         "domain": [
          0,
          1
         ],
         "title": {
          "text": "Country"
         }
        },
        "yaxis": {
         "anchor": "x",
         "domain": [
          0,
          1
         ],
         "title": {
          "text": "Player Count"
         }
        }
       }
      },
      "text/html": [
       "<div>                            <div id=\"6728c869-cbba-4ea3-bb91-7fb43cfe07a6\" class=\"plotly-graph-div\" style=\"height:525px; width:100%;\"></div>            <script type=\"text/javascript\">                require([\"plotly\"], function(Plotly) {                    window.PLOTLYENV=window.PLOTLYENV || {};                                    if (document.getElementById(\"6728c869-cbba-4ea3-bb91-7fb43cfe07a6\")) {                    Plotly.newPlot(                        \"6728c869-cbba-4ea3-bb91-7fb43cfe07a6\",                        [{\"alignmentgroup\":\"True\",\"hovertemplate\":\"Variable=name\\u003cbr\\u003eCountry=%{x}\\u003cbr\\u003ePlayer Count=%{y}\\u003cextra\\u003e\\u003c\\u002fextra\\u003e\",\"legendgroup\":\"name\",\"marker\":{\"color\":\"limegreen\",\"pattern\":{\"shape\":\"\"}},\"name\":\"name\",\"offsetgroup\":\"name\",\"orientation\":\"v\",\"showlegend\":true,\"textposition\":\"auto\",\"x\":[\"England\",\"Germany\",\"Spain\",\"France\",\"Argentina\",\"Brazil\",\"Italy\",\"Colombia\",\"Japan\",\"Netherlands\"],\"xaxis\":\"x\",\"y\":[1667,1216,1035,984,886,824,732,591,453,416],\"yaxis\":\"y\",\"type\":\"bar\"}],                        {\"template\":{\"data\":{\"histogram2dcontour\":[{\"type\":\"histogram2dcontour\",\"colorbar\":{\"outlinewidth\":0,\"ticks\":\"\"},\"colorscale\":[[0.0,\"#0d0887\"],[0.1111111111111111,\"#46039f\"],[0.2222222222222222,\"#7201a8\"],[0.3333333333333333,\"#9c179e\"],[0.4444444444444444,\"#bd3786\"],[0.5555555555555556,\"#d8576b\"],[0.6666666666666666,\"#ed7953\"],[0.7777777777777778,\"#fb9f3a\"],[0.8888888888888888,\"#fdca26\"],[1.0,\"#f0f921\"]]}],\"choropleth\":[{\"type\":\"choropleth\",\"colorbar\":{\"outlinewidth\":0,\"ticks\":\"\"}}],\"histogram2d\":[{\"type\":\"histogram2d\",\"colorbar\":{\"outlinewidth\":0,\"ticks\":\"\"},\"colorscale\":[[0.0,\"#0d0887\"],[0.1111111111111111,\"#46039f\"],[0.2222222222222222,\"#7201a8\"],[0.3333333333333333,\"#9c179e\"],[0.4444444444444444,\"#bd3786\"],[0.5555555555555556,\"#d8576b\"],[0.6666666666666666,\"#ed7953\"],[0.7777777777777778,\"#fb9f3a\"],[0.8888888888888888,\"#fdca26\"],[1.0,\"#f0f921\"]]}],\"heatmap\":[{\"type\":\"heatmap\",\"colorbar\":{\"outlinewidth\":0,\"ticks\":\"\"},\"colorscale\":[[0.0,\"#0d0887\"],[0.1111111111111111,\"#46039f\"],[0.2222222222222222,\"#7201a8\"],[0.3333333333333333,\"#9c179e\"],[0.4444444444444444,\"#bd3786\"],[0.5555555555555556,\"#d8576b\"],[0.6666666666666666,\"#ed7953\"],[0.7777777777777778,\"#fb9f3a\"],[0.8888888888888888,\"#fdca26\"],[1.0,\"#f0f921\"]]}],\"heatmapgl\":[{\"type\":\"heatmapgl\",\"colorbar\":{\"outlinewidth\":0,\"ticks\":\"\"},\"colorscale\":[[0.0,\"#0d0887\"],[0.1111111111111111,\"#46039f\"],[0.2222222222222222,\"#7201a8\"],[0.3333333333333333,\"#9c179e\"],[0.4444444444444444,\"#bd3786\"],[0.5555555555555556,\"#d8576b\"],[0.6666666666666666,\"#ed7953\"],[0.7777777777777778,\"#fb9f3a\"],[0.8888888888888888,\"#fdca26\"],[1.0,\"#f0f921\"]]}],\"contourcarpet\":[{\"type\":\"contourcarpet\",\"colorbar\":{\"outlinewidth\":0,\"ticks\":\"\"}}],\"contour\":[{\"type\":\"contour\",\"colorbar\":{\"outlinewidth\":0,\"ticks\":\"\"},\"colorscale\":[[0.0,\"#0d0887\"],[0.1111111111111111,\"#46039f\"],[0.2222222222222222,\"#7201a8\"],[0.3333333333333333,\"#9c179e\"],[0.4444444444444444,\"#bd3786\"],[0.5555555555555556,\"#d8576b\"],[0.6666666666666666,\"#ed7953\"],[0.7777777777777778,\"#fb9f3a\"],[0.8888888888888888,\"#fdca26\"],[1.0,\"#f0f921\"]]}],\"surface\":[{\"type\":\"surface\",\"colorbar\":{\"outlinewidth\":0,\"ticks\":\"\"},\"colorscale\":[[0.0,\"#0d0887\"],[0.1111111111111111,\"#46039f\"],[0.2222222222222222,\"#7201a8\"],[0.3333333333333333,\"#9c179e\"],[0.4444444444444444,\"#bd3786\"],[0.5555555555555556,\"#d8576b\"],[0.6666666666666666,\"#ed7953\"],[0.7777777777777778,\"#fb9f3a\"],[0.8888888888888888,\"#fdca26\"],[1.0,\"#f0f921\"]]}],\"mesh3d\":[{\"type\":\"mesh3d\",\"colorbar\":{\"outlinewidth\":0,\"ticks\":\"\"}}],\"scatter\":[{\"fillpattern\":{\"fillmode\":\"overlay\",\"size\":10,\"solidity\":0.2},\"type\":\"scatter\"}],\"parcoords\":[{\"type\":\"parcoords\",\"line\":{\"colorbar\":{\"outlinewidth\":0,\"ticks\":\"\"}}}],\"scatterpolargl\":[{\"type\":\"scatterpolargl\",\"marker\":{\"colorbar\":{\"outlinewidth\":0,\"ticks\":\"\"}}}],\"bar\":[{\"error_x\":{\"color\":\"#2a3f5f\"},\"error_y\":{\"color\":\"#2a3f5f\"},\"marker\":{\"line\":{\"color\":\"#E5ECF6\",\"width\":0.5},\"pattern\":{\"fillmode\":\"overlay\",\"size\":10,\"solidity\":0.2}},\"type\":\"bar\"}],\"scattergeo\":[{\"type\":\"scattergeo\",\"marker\":{\"colorbar\":{\"outlinewidth\":0,\"ticks\":\"\"}}}],\"scatterpolar\":[{\"type\":\"scatterpolar\",\"marker\":{\"colorbar\":{\"outlinewidth\":0,\"ticks\":\"\"}}}],\"histogram\":[{\"marker\":{\"pattern\":{\"fillmode\":\"overlay\",\"size\":10,\"solidity\":0.2}},\"type\":\"histogram\"}],\"scattergl\":[{\"type\":\"scattergl\",\"marker\":{\"colorbar\":{\"outlinewidth\":0,\"ticks\":\"\"}}}],\"scatter3d\":[{\"type\":\"scatter3d\",\"line\":{\"colorbar\":{\"outlinewidth\":0,\"ticks\":\"\"}},\"marker\":{\"colorbar\":{\"outlinewidth\":0,\"ticks\":\"\"}}}],\"scattermapbox\":[{\"type\":\"scattermapbox\",\"marker\":{\"colorbar\":{\"outlinewidth\":0,\"ticks\":\"\"}}}],\"scatterternary\":[{\"type\":\"scatterternary\",\"marker\":{\"colorbar\":{\"outlinewidth\":0,\"ticks\":\"\"}}}],\"scattercarpet\":[{\"type\":\"scattercarpet\",\"marker\":{\"colorbar\":{\"outlinewidth\":0,\"ticks\":\"\"}}}],\"carpet\":[{\"aaxis\":{\"endlinecolor\":\"#2a3f5f\",\"gridcolor\":\"white\",\"linecolor\":\"white\",\"minorgridcolor\":\"white\",\"startlinecolor\":\"#2a3f5f\"},\"baxis\":{\"endlinecolor\":\"#2a3f5f\",\"gridcolor\":\"white\",\"linecolor\":\"white\",\"minorgridcolor\":\"white\",\"startlinecolor\":\"#2a3f5f\"},\"type\":\"carpet\"}],\"table\":[{\"cells\":{\"fill\":{\"color\":\"#EBF0F8\"},\"line\":{\"color\":\"white\"}},\"header\":{\"fill\":{\"color\":\"#C8D4E3\"},\"line\":{\"color\":\"white\"}},\"type\":\"table\"}],\"barpolar\":[{\"marker\":{\"line\":{\"color\":\"#E5ECF6\",\"width\":0.5},\"pattern\":{\"fillmode\":\"overlay\",\"size\":10,\"solidity\":0.2}},\"type\":\"barpolar\"}],\"pie\":[{\"automargin\":true,\"type\":\"pie\"}]},\"layout\":{\"autotypenumbers\":\"strict\",\"colorway\":[\"#636efa\",\"#EF553B\",\"#00cc96\",\"#ab63fa\",\"#FFA15A\",\"#19d3f3\",\"#FF6692\",\"#B6E880\",\"#FF97FF\",\"#FECB52\"],\"font\":{\"color\":\"#2a3f5f\"},\"hovermode\":\"closest\",\"hoverlabel\":{\"align\":\"left\"},\"paper_bgcolor\":\"white\",\"plot_bgcolor\":\"#E5ECF6\",\"polar\":{\"bgcolor\":\"#E5ECF6\",\"angularaxis\":{\"gridcolor\":\"white\",\"linecolor\":\"white\",\"ticks\":\"\"},\"radialaxis\":{\"gridcolor\":\"white\",\"linecolor\":\"white\",\"ticks\":\"\"}},\"ternary\":{\"bgcolor\":\"#E5ECF6\",\"aaxis\":{\"gridcolor\":\"white\",\"linecolor\":\"white\",\"ticks\":\"\"},\"baxis\":{\"gridcolor\":\"white\",\"linecolor\":\"white\",\"ticks\":\"\"},\"caxis\":{\"gridcolor\":\"white\",\"linecolor\":\"white\",\"ticks\":\"\"}},\"coloraxis\":{\"colorbar\":{\"outlinewidth\":0,\"ticks\":\"\"}},\"colorscale\":{\"sequential\":[[0.0,\"#0d0887\"],[0.1111111111111111,\"#46039f\"],[0.2222222222222222,\"#7201a8\"],[0.3333333333333333,\"#9c179e\"],[0.4444444444444444,\"#bd3786\"],[0.5555555555555556,\"#d8576b\"],[0.6666666666666666,\"#ed7953\"],[0.7777777777777778,\"#fb9f3a\"],[0.8888888888888888,\"#fdca26\"],[1.0,\"#f0f921\"]],\"sequentialminus\":[[0.0,\"#0d0887\"],[0.1111111111111111,\"#46039f\"],[0.2222222222222222,\"#7201a8\"],[0.3333333333333333,\"#9c179e\"],[0.4444444444444444,\"#bd3786\"],[0.5555555555555556,\"#d8576b\"],[0.6666666666666666,\"#ed7953\"],[0.7777777777777778,\"#fb9f3a\"],[0.8888888888888888,\"#fdca26\"],[1.0,\"#f0f921\"]],\"diverging\":[[0,\"#8e0152\"],[0.1,\"#c51b7d\"],[0.2,\"#de77ae\"],[0.3,\"#f1b6da\"],[0.4,\"#fde0ef\"],[0.5,\"#f7f7f7\"],[0.6,\"#e6f5d0\"],[0.7,\"#b8e186\"],[0.8,\"#7fbc41\"],[0.9,\"#4d9221\"],[1,\"#276419\"]]},\"xaxis\":{\"gridcolor\":\"white\",\"linecolor\":\"white\",\"ticks\":\"\",\"title\":{\"standoff\":15},\"zerolinecolor\":\"white\",\"automargin\":true,\"zerolinewidth\":2},\"yaxis\":{\"gridcolor\":\"white\",\"linecolor\":\"white\",\"ticks\":\"\",\"title\":{\"standoff\":15},\"zerolinecolor\":\"white\",\"automargin\":true,\"zerolinewidth\":2},\"scene\":{\"xaxis\":{\"backgroundcolor\":\"#E5ECF6\",\"gridcolor\":\"white\",\"linecolor\":\"white\",\"showbackground\":true,\"ticks\":\"\",\"zerolinecolor\":\"white\",\"gridwidth\":2},\"yaxis\":{\"backgroundcolor\":\"#E5ECF6\",\"gridcolor\":\"white\",\"linecolor\":\"white\",\"showbackground\":true,\"ticks\":\"\",\"zerolinecolor\":\"white\",\"gridwidth\":2},\"zaxis\":{\"backgroundcolor\":\"#E5ECF6\",\"gridcolor\":\"white\",\"linecolor\":\"white\",\"showbackground\":true,\"ticks\":\"\",\"zerolinecolor\":\"white\",\"gridwidth\":2}},\"shapedefaults\":{\"line\":{\"color\":\"#2a3f5f\"}},\"annotationdefaults\":{\"arrowcolor\":\"#2a3f5f\",\"arrowhead\":0,\"arrowwidth\":1},\"geo\":{\"bgcolor\":\"white\",\"landcolor\":\"#E5ECF6\",\"subunitcolor\":\"white\",\"showland\":true,\"showlakes\":true,\"lakecolor\":\"white\"},\"title\":{\"x\":0.05},\"mapbox\":{\"style\":\"light\"}}},\"xaxis\":{\"anchor\":\"y\",\"domain\":[0.0,1.0],\"title\":{\"text\":\"Country\"}},\"yaxis\":{\"anchor\":\"x\",\"domain\":[0.0,1.0],\"title\":{\"text\":\"Player Count\"}},\"legend\":{\"title\":{\"text\":\"Variable\"},\"tracegroupgap\":0},\"title\":{\"text\":\"Top 10 Countries x Amount of Players\"},\"barmode\":\"relative\",\"showlegend\":false},                        {\"responsive\": true}                    ).then(function(){\n",
       "                            \n",
       "var gd = document.getElementById('6728c869-cbba-4ea3-bb91-7fb43cfe07a6');\n",
       "var x = new MutationObserver(function (mutations, observer) {{\n",
       "        var display = window.getComputedStyle(gd).display;\n",
       "        if (!display || display === 'none') {{\n",
       "            console.log([gd, 'removed!']);\n",
       "            Plotly.purge(gd);\n",
       "            observer.disconnect();\n",
       "        }}\n",
       "}});\n",
       "\n",
       "// Listen for the removal of the full notebook cells\n",
       "var notebookContainer = gd.closest('#notebook-container');\n",
       "if (notebookContainer) {{\n",
       "    x.observe(notebookContainer, {childList: true});\n",
       "}}\n",
       "\n",
       "// Listen for the clearing of the current output cell\n",
       "var outputEl = gd.closest('.output');\n",
       "if (outputEl) {{\n",
       "    x.observe(outputEl, {childList: true});\n",
       "}}\n",
       "\n",
       "                        })                };                });            </script>        </div>"
      ]
     },
     "metadata": {},
     "output_type": "display_data"
    }
   ],
   "source": [
    "fig = px.bar(top_10_countries, color_discrete_sequence=['limegreen'], labels={'nationality': \"Country\", 'value': 'Player Count', 'variable':'Variable'}, title='Top 10 Countries x Amount of Players')\n",
    "fig.update_layout(showlegend=False)\n",
    "fig.show()"
   ]
  },
  {
   "cell_type": "code",
   "execution_count": 422,
   "metadata": {},
   "outputs": [
    {
     "data": {
      "text/html": [
       "<style type=\"text/css\">\n",
       "#T_ba4d6 tr:hover {\n",
       "  background-color: green;\n",
       "}\n",
       "</style>\n",
       "<table id=\"T_ba4d6\">\n",
       "  <thead>\n",
       "    <tr>\n",
       "      <th id=\"T_ba4d6_level0_col0\" class=\"col_heading level0 col0\" >Name</th>\n",
       "      <th id=\"T_ba4d6_level0_col1\" class=\"col_heading level0 col1\" >Wage</th>\n",
       "      <th id=\"T_ba4d6_level0_col2\" class=\"col_heading level0 col2\" >Age</th>\n",
       "      <th id=\"T_ba4d6_level0_col3\" class=\"col_heading level0 col3\" >Overall Rating</th>\n",
       "    </tr>\n",
       "  </thead>\n",
       "  <tbody>\n",
       "    <tr>\n",
       "      <td id=\"T_ba4d6_row0_col0\" class=\"data row0 col0\" >L. Messi</td>\n",
       "      <td id=\"T_ba4d6_row0_col1\" class=\"data row0 col1\" >$ 565,000</td>\n",
       "      <td id=\"T_ba4d6_row0_col2\" class=\"data row0 col2\" >32</td>\n",
       "      <td id=\"T_ba4d6_row0_col3\" class=\"data row0 col3\" >94</td>\n",
       "    </tr>\n",
       "    <tr>\n",
       "      <td id=\"T_ba4d6_row1_col0\" class=\"data row1 col0\" >Cristiano Ronaldo</td>\n",
       "      <td id=\"T_ba4d6_row1_col1\" class=\"data row1 col1\" >$ 405,000</td>\n",
       "      <td id=\"T_ba4d6_row1_col2\" class=\"data row1 col2\" >34</td>\n",
       "      <td id=\"T_ba4d6_row1_col3\" class=\"data row1 col3\" >93</td>\n",
       "    </tr>\n",
       "    <tr>\n",
       "      <td id=\"T_ba4d6_row2_col0\" class=\"data row2 col0\" >Neymar Jr</td>\n",
       "      <td id=\"T_ba4d6_row2_col1\" class=\"data row2 col1\" >$ 290,000</td>\n",
       "      <td id=\"T_ba4d6_row2_col2\" class=\"data row2 col2\" >27</td>\n",
       "      <td id=\"T_ba4d6_row2_col3\" class=\"data row2 col3\" >92</td>\n",
       "    </tr>\n",
       "    <tr>\n",
       "      <td id=\"T_ba4d6_row3_col0\" class=\"data row3 col0\" >J. Oblak</td>\n",
       "      <td id=\"T_ba4d6_row3_col1\" class=\"data row3 col1\" >$ 125,000</td>\n",
       "      <td id=\"T_ba4d6_row3_col2\" class=\"data row3 col2\" >26</td>\n",
       "      <td id=\"T_ba4d6_row3_col3\" class=\"data row3 col3\" >91</td>\n",
       "    </tr>\n",
       "    <tr>\n",
       "      <td id=\"T_ba4d6_row4_col0\" class=\"data row4 col0\" >E. Hazard</td>\n",
       "      <td id=\"T_ba4d6_row4_col1\" class=\"data row4 col1\" >$ 470,000</td>\n",
       "      <td id=\"T_ba4d6_row4_col2\" class=\"data row4 col2\" >28</td>\n",
       "      <td id=\"T_ba4d6_row4_col3\" class=\"data row4 col3\" >91</td>\n",
       "    </tr>\n",
       "  </tbody>\n",
       "</table>\n"
      ],
      "text/plain": [
       "<pandas.io.formats.style.Styler at 0x7faeab705370>"
      ]
     },
     "execution_count": 422,
     "metadata": {},
     "output_type": "execute_result"
    }
   ],
   "source": [
    "best_players = best_players.sort_values(by='Overall Rating', ascending=False)\n",
    "best_players = pd.DataFrame({'Name':df['short_name'], 'Wage':df['wage_eur'].map('$ {:,}'.format), 'Age':df['age'], 'Overall Rating':df['overall']})\n",
    "best_players.head().style.hide().set_table_styles([{'selector': 'tr:hover', 'props': [('background-color', 'green')]}])"
   ]
  },
  {
   "cell_type": "code",
   "execution_count": 423,
   "metadata": {},
   "outputs": [
    {
     "data": {
      "text/html": [
       "<style type=\"text/css\">\n",
       "#T_1b227 tr:hover {\n",
       "  background-color: green;\n",
       "}\n",
       "</style>\n",
       "<table id=\"T_1b227\">\n",
       "  <thead>\n",
       "    <tr>\n",
       "      <th id=\"T_1b227_level0_col0\" class=\"col_heading level0 col0\" >Name</th>\n",
       "      <th id=\"T_1b227_level0_col1\" class=\"col_heading level0 col1\" >Wage</th>\n",
       "    </tr>\n",
       "  </thead>\n",
       "  <tbody>\n",
       "    <tr>\n",
       "      <td id=\"T_1b227_row0_col0\" class=\"data row0 col0\" >L. Messi</td>\n",
       "      <td id=\"T_1b227_row0_col1\" class=\"data row0 col1\" >565000</td>\n",
       "    </tr>\n",
       "    <tr>\n",
       "      <td id=\"T_1b227_row1_col0\" class=\"data row1 col0\" >E. Hazard</td>\n",
       "      <td id=\"T_1b227_row1_col1\" class=\"data row1 col1\" >470000</td>\n",
       "    </tr>\n",
       "    <tr>\n",
       "      <td id=\"T_1b227_row2_col0\" class=\"data row2 col0\" >Cristiano Ronaldo</td>\n",
       "      <td id=\"T_1b227_row2_col1\" class=\"data row2 col1\" >405000</td>\n",
       "    </tr>\n",
       "    <tr>\n",
       "      <td id=\"T_1b227_row3_col0\" class=\"data row3 col0\" >K. De Bruyne</td>\n",
       "      <td id=\"T_1b227_row3_col1\" class=\"data row3 col1\" >370000</td>\n",
       "    </tr>\n",
       "    <tr>\n",
       "      <td id=\"T_1b227_row4_col0\" class=\"data row4 col0\" >A. Griezmann</td>\n",
       "      <td id=\"T_1b227_row4_col1\" class=\"data row4 col1\" >370000</td>\n",
       "    </tr>\n",
       "  </tbody>\n",
       "</table>\n"
      ],
      "text/plain": [
       "<pandas.io.formats.style.Styler at 0x7faeaa1a14c0>"
      ]
     },
     "execution_count": 423,
     "metadata": {},
     "output_type": "execute_result"
    }
   ],
   "source": [
    "wages = df['wage_eur']\n",
    "top_5_wages = wages.sort_values(ascending=False).head(5)\n",
    "top_5_wages = pd.DataFrame(top_5_wages)\n",
    "top_5_wages['Name'] = df.loc[top_5_wages.index, 'short_name']\n",
    "top_5_wages.rename(columns={'wage_eur': 'Wage'}, inplace=True)\n",
    "top_5_wages = top_5_wages[['Name', 'Wage']]\n",
    "top_5_wages.reset_index(drop=True, inplace=True)\n",
    "top_5_wages.head().style.hide().set_table_styles([{'selector': 'tr:hover', 'props': [('background-color', 'green')]}])\n",
    "\n"
   ]
  },
  {
   "cell_type": "code",
   "execution_count": 424,
   "metadata": {},
   "outputs": [
    {
     "data": {
      "application/vnd.plotly.v1+json": {
       "config": {
        "plotlyServerURL": "https://plot.ly"
       },
       "data": [
        {
         "alignmentgroup": "True",
         "hovertemplate": "Player's Name=%{x}<br>Wage=%{y}<extra></extra>",
         "legendgroup": "",
         "marker": {
          "color": " gold",
          "pattern": {
           "shape": ""
          }
         },
         "name": "",
         "offsetgroup": "",
         "orientation": "v",
         "showlegend": false,
         "textposition": "auto",
         "type": "bar",
         "x": [
          "L. Messi",
          "E. Hazard",
          "Cristiano Ronaldo",
          "K. De Bruyne",
          "A. Griezmann"
         ],
         "xaxis": "x",
         "y": [
          565000,
          470000,
          405000,
          370000,
          370000
         ],
         "yaxis": "y"
        }
       ],
       "layout": {
        "barmode": "relative",
        "legend": {
         "tracegroupgap": 0
        },
        "template": {
         "data": {
          "bar": [
           {
            "error_x": {
             "color": "#2a3f5f"
            },
            "error_y": {
             "color": "#2a3f5f"
            },
            "marker": {
             "line": {
              "color": "#E5ECF6",
              "width": 0.5
             },
             "pattern": {
              "fillmode": "overlay",
              "size": 10,
              "solidity": 0.2
             }
            },
            "type": "bar"
           }
          ],
          "barpolar": [
           {
            "marker": {
             "line": {
              "color": "#E5ECF6",
              "width": 0.5
             },
             "pattern": {
              "fillmode": "overlay",
              "size": 10,
              "solidity": 0.2
             }
            },
            "type": "barpolar"
           }
          ],
          "carpet": [
           {
            "aaxis": {
             "endlinecolor": "#2a3f5f",
             "gridcolor": "white",
             "linecolor": "white",
             "minorgridcolor": "white",
             "startlinecolor": "#2a3f5f"
            },
            "baxis": {
             "endlinecolor": "#2a3f5f",
             "gridcolor": "white",
             "linecolor": "white",
             "minorgridcolor": "white",
             "startlinecolor": "#2a3f5f"
            },
            "type": "carpet"
           }
          ],
          "choropleth": [
           {
            "colorbar": {
             "outlinewidth": 0,
             "ticks": ""
            },
            "type": "choropleth"
           }
          ],
          "contour": [
           {
            "colorbar": {
             "outlinewidth": 0,
             "ticks": ""
            },
            "colorscale": [
             [
              0,
              "#0d0887"
             ],
             [
              0.1111111111111111,
              "#46039f"
             ],
             [
              0.2222222222222222,
              "#7201a8"
             ],
             [
              0.3333333333333333,
              "#9c179e"
             ],
             [
              0.4444444444444444,
              "#bd3786"
             ],
             [
              0.5555555555555556,
              "#d8576b"
             ],
             [
              0.6666666666666666,
              "#ed7953"
             ],
             [
              0.7777777777777778,
              "#fb9f3a"
             ],
             [
              0.8888888888888888,
              "#fdca26"
             ],
             [
              1,
              "#f0f921"
             ]
            ],
            "type": "contour"
           }
          ],
          "contourcarpet": [
           {
            "colorbar": {
             "outlinewidth": 0,
             "ticks": ""
            },
            "type": "contourcarpet"
           }
          ],
          "heatmap": [
           {
            "colorbar": {
             "outlinewidth": 0,
             "ticks": ""
            },
            "colorscale": [
             [
              0,
              "#0d0887"
             ],
             [
              0.1111111111111111,
              "#46039f"
             ],
             [
              0.2222222222222222,
              "#7201a8"
             ],
             [
              0.3333333333333333,
              "#9c179e"
             ],
             [
              0.4444444444444444,
              "#bd3786"
             ],
             [
              0.5555555555555556,
              "#d8576b"
             ],
             [
              0.6666666666666666,
              "#ed7953"
             ],
             [
              0.7777777777777778,
              "#fb9f3a"
             ],
             [
              0.8888888888888888,
              "#fdca26"
             ],
             [
              1,
              "#f0f921"
             ]
            ],
            "type": "heatmap"
           }
          ],
          "heatmapgl": [
           {
            "colorbar": {
             "outlinewidth": 0,
             "ticks": ""
            },
            "colorscale": [
             [
              0,
              "#0d0887"
             ],
             [
              0.1111111111111111,
              "#46039f"
             ],
             [
              0.2222222222222222,
              "#7201a8"
             ],
             [
              0.3333333333333333,
              "#9c179e"
             ],
             [
              0.4444444444444444,
              "#bd3786"
             ],
             [
              0.5555555555555556,
              "#d8576b"
             ],
             [
              0.6666666666666666,
              "#ed7953"
             ],
             [
              0.7777777777777778,
              "#fb9f3a"
             ],
             [
              0.8888888888888888,
              "#fdca26"
             ],
             [
              1,
              "#f0f921"
             ]
            ],
            "type": "heatmapgl"
           }
          ],
          "histogram": [
           {
            "marker": {
             "pattern": {
              "fillmode": "overlay",
              "size": 10,
              "solidity": 0.2
             }
            },
            "type": "histogram"
           }
          ],
          "histogram2d": [
           {
            "colorbar": {
             "outlinewidth": 0,
             "ticks": ""
            },
            "colorscale": [
             [
              0,
              "#0d0887"
             ],
             [
              0.1111111111111111,
              "#46039f"
             ],
             [
              0.2222222222222222,
              "#7201a8"
             ],
             [
              0.3333333333333333,
              "#9c179e"
             ],
             [
              0.4444444444444444,
              "#bd3786"
             ],
             [
              0.5555555555555556,
              "#d8576b"
             ],
             [
              0.6666666666666666,
              "#ed7953"
             ],
             [
              0.7777777777777778,
              "#fb9f3a"
             ],
             [
              0.8888888888888888,
              "#fdca26"
             ],
             [
              1,
              "#f0f921"
             ]
            ],
            "type": "histogram2d"
           }
          ],
          "histogram2dcontour": [
           {
            "colorbar": {
             "outlinewidth": 0,
             "ticks": ""
            },
            "colorscale": [
             [
              0,
              "#0d0887"
             ],
             [
              0.1111111111111111,
              "#46039f"
             ],
             [
              0.2222222222222222,
              "#7201a8"
             ],
             [
              0.3333333333333333,
              "#9c179e"
             ],
             [
              0.4444444444444444,
              "#bd3786"
             ],
             [
              0.5555555555555556,
              "#d8576b"
             ],
             [
              0.6666666666666666,
              "#ed7953"
             ],
             [
              0.7777777777777778,
              "#fb9f3a"
             ],
             [
              0.8888888888888888,
              "#fdca26"
             ],
             [
              1,
              "#f0f921"
             ]
            ],
            "type": "histogram2dcontour"
           }
          ],
          "mesh3d": [
           {
            "colorbar": {
             "outlinewidth": 0,
             "ticks": ""
            },
            "type": "mesh3d"
           }
          ],
          "parcoords": [
           {
            "line": {
             "colorbar": {
              "outlinewidth": 0,
              "ticks": ""
             }
            },
            "type": "parcoords"
           }
          ],
          "pie": [
           {
            "automargin": true,
            "type": "pie"
           }
          ],
          "scatter": [
           {
            "fillpattern": {
             "fillmode": "overlay",
             "size": 10,
             "solidity": 0.2
            },
            "type": "scatter"
           }
          ],
          "scatter3d": [
           {
            "line": {
             "colorbar": {
              "outlinewidth": 0,
              "ticks": ""
             }
            },
            "marker": {
             "colorbar": {
              "outlinewidth": 0,
              "ticks": ""
             }
            },
            "type": "scatter3d"
           }
          ],
          "scattercarpet": [
           {
            "marker": {
             "colorbar": {
              "outlinewidth": 0,
              "ticks": ""
             }
            },
            "type": "scattercarpet"
           }
          ],
          "scattergeo": [
           {
            "marker": {
             "colorbar": {
              "outlinewidth": 0,
              "ticks": ""
             }
            },
            "type": "scattergeo"
           }
          ],
          "scattergl": [
           {
            "marker": {
             "colorbar": {
              "outlinewidth": 0,
              "ticks": ""
             }
            },
            "type": "scattergl"
           }
          ],
          "scattermapbox": [
           {
            "marker": {
             "colorbar": {
              "outlinewidth": 0,
              "ticks": ""
             }
            },
            "type": "scattermapbox"
           }
          ],
          "scatterpolar": [
           {
            "marker": {
             "colorbar": {
              "outlinewidth": 0,
              "ticks": ""
             }
            },
            "type": "scatterpolar"
           }
          ],
          "scatterpolargl": [
           {
            "marker": {
             "colorbar": {
              "outlinewidth": 0,
              "ticks": ""
             }
            },
            "type": "scatterpolargl"
           }
          ],
          "scatterternary": [
           {
            "marker": {
             "colorbar": {
              "outlinewidth": 0,
              "ticks": ""
             }
            },
            "type": "scatterternary"
           }
          ],
          "surface": [
           {
            "colorbar": {
             "outlinewidth": 0,
             "ticks": ""
            },
            "colorscale": [
             [
              0,
              "#0d0887"
             ],
             [
              0.1111111111111111,
              "#46039f"
             ],
             [
              0.2222222222222222,
              "#7201a8"
             ],
             [
              0.3333333333333333,
              "#9c179e"
             ],
             [
              0.4444444444444444,
              "#bd3786"
             ],
             [
              0.5555555555555556,
              "#d8576b"
             ],
             [
              0.6666666666666666,
              "#ed7953"
             ],
             [
              0.7777777777777778,
              "#fb9f3a"
             ],
             [
              0.8888888888888888,
              "#fdca26"
             ],
             [
              1,
              "#f0f921"
             ]
            ],
            "type": "surface"
           }
          ],
          "table": [
           {
            "cells": {
             "fill": {
              "color": "#EBF0F8"
             },
             "line": {
              "color": "white"
             }
            },
            "header": {
             "fill": {
              "color": "#C8D4E3"
             },
             "line": {
              "color": "white"
             }
            },
            "type": "table"
           }
          ]
         },
         "layout": {
          "annotationdefaults": {
           "arrowcolor": "#2a3f5f",
           "arrowhead": 0,
           "arrowwidth": 1
          },
          "autotypenumbers": "strict",
          "coloraxis": {
           "colorbar": {
            "outlinewidth": 0,
            "ticks": ""
           }
          },
          "colorscale": {
           "diverging": [
            [
             0,
             "#8e0152"
            ],
            [
             0.1,
             "#c51b7d"
            ],
            [
             0.2,
             "#de77ae"
            ],
            [
             0.3,
             "#f1b6da"
            ],
            [
             0.4,
             "#fde0ef"
            ],
            [
             0.5,
             "#f7f7f7"
            ],
            [
             0.6,
             "#e6f5d0"
            ],
            [
             0.7,
             "#b8e186"
            ],
            [
             0.8,
             "#7fbc41"
            ],
            [
             0.9,
             "#4d9221"
            ],
            [
             1,
             "#276419"
            ]
           ],
           "sequential": [
            [
             0,
             "#0d0887"
            ],
            [
             0.1111111111111111,
             "#46039f"
            ],
            [
             0.2222222222222222,
             "#7201a8"
            ],
            [
             0.3333333333333333,
             "#9c179e"
            ],
            [
             0.4444444444444444,
             "#bd3786"
            ],
            [
             0.5555555555555556,
             "#d8576b"
            ],
            [
             0.6666666666666666,
             "#ed7953"
            ],
            [
             0.7777777777777778,
             "#fb9f3a"
            ],
            [
             0.8888888888888888,
             "#fdca26"
            ],
            [
             1,
             "#f0f921"
            ]
           ],
           "sequentialminus": [
            [
             0,
             "#0d0887"
            ],
            [
             0.1111111111111111,
             "#46039f"
            ],
            [
             0.2222222222222222,
             "#7201a8"
            ],
            [
             0.3333333333333333,
             "#9c179e"
            ],
            [
             0.4444444444444444,
             "#bd3786"
            ],
            [
             0.5555555555555556,
             "#d8576b"
            ],
            [
             0.6666666666666666,
             "#ed7953"
            ],
            [
             0.7777777777777778,
             "#fb9f3a"
            ],
            [
             0.8888888888888888,
             "#fdca26"
            ],
            [
             1,
             "#f0f921"
            ]
           ]
          },
          "colorway": [
           "#636efa",
           "#EF553B",
           "#00cc96",
           "#ab63fa",
           "#FFA15A",
           "#19d3f3",
           "#FF6692",
           "#B6E880",
           "#FF97FF",
           "#FECB52"
          ],
          "font": {
           "color": "#2a3f5f"
          },
          "geo": {
           "bgcolor": "white",
           "lakecolor": "white",
           "landcolor": "#E5ECF6",
           "showlakes": true,
           "showland": true,
           "subunitcolor": "white"
          },
          "hoverlabel": {
           "align": "left"
          },
          "hovermode": "closest",
          "mapbox": {
           "style": "light"
          },
          "paper_bgcolor": "white",
          "plot_bgcolor": "#E5ECF6",
          "polar": {
           "angularaxis": {
            "gridcolor": "white",
            "linecolor": "white",
            "ticks": ""
           },
           "bgcolor": "#E5ECF6",
           "radialaxis": {
            "gridcolor": "white",
            "linecolor": "white",
            "ticks": ""
           }
          },
          "scene": {
           "xaxis": {
            "backgroundcolor": "#E5ECF6",
            "gridcolor": "white",
            "gridwidth": 2,
            "linecolor": "white",
            "showbackground": true,
            "ticks": "",
            "zerolinecolor": "white"
           },
           "yaxis": {
            "backgroundcolor": "#E5ECF6",
            "gridcolor": "white",
            "gridwidth": 2,
            "linecolor": "white",
            "showbackground": true,
            "ticks": "",
            "zerolinecolor": "white"
           },
           "zaxis": {
            "backgroundcolor": "#E5ECF6",
            "gridcolor": "white",
            "gridwidth": 2,
            "linecolor": "white",
            "showbackground": true,
            "ticks": "",
            "zerolinecolor": "white"
           }
          },
          "shapedefaults": {
           "line": {
            "color": "#2a3f5f"
           }
          },
          "ternary": {
           "aaxis": {
            "gridcolor": "white",
            "linecolor": "white",
            "ticks": ""
           },
           "baxis": {
            "gridcolor": "white",
            "linecolor": "white",
            "ticks": ""
           },
           "bgcolor": "#E5ECF6",
           "caxis": {
            "gridcolor": "white",
            "linecolor": "white",
            "ticks": ""
           }
          },
          "title": {
           "x": 0.05
          },
          "xaxis": {
           "automargin": true,
           "gridcolor": "white",
           "linecolor": "white",
           "ticks": "",
           "title": {
            "standoff": 15
           },
           "zerolinecolor": "white",
           "zerolinewidth": 2
          },
          "yaxis": {
           "automargin": true,
           "gridcolor": "white",
           "linecolor": "white",
           "ticks": "",
           "title": {
            "standoff": 15
           },
           "zerolinecolor": "white",
           "zerolinewidth": 2
          }
         }
        },
        "title": {
         "text": "Top 5 Players x Wage"
        },
        "xaxis": {
         "anchor": "y",
         "domain": [
          0,
          1
         ],
         "title": {
          "text": "Player's Name"
         }
        },
        "yaxis": {
         "anchor": "x",
         "categoryorder": "total descending",
         "domain": [
          0,
          1
         ],
         "title": {
          "text": "Wage"
         }
        }
       }
      },
      "text/html": [
       "<div>                            <div id=\"ac766bb0-d668-4116-bc91-1b7f4f20d8bd\" class=\"plotly-graph-div\" style=\"height:525px; width:100%;\"></div>            <script type=\"text/javascript\">                require([\"plotly\"], function(Plotly) {                    window.PLOTLYENV=window.PLOTLYENV || {};                                    if (document.getElementById(\"ac766bb0-d668-4116-bc91-1b7f4f20d8bd\")) {                    Plotly.newPlot(                        \"ac766bb0-d668-4116-bc91-1b7f4f20d8bd\",                        [{\"alignmentgroup\":\"True\",\"hovertemplate\":\"Player's Name=%{x}\\u003cbr\\u003eWage=%{y}\\u003cextra\\u003e\\u003c\\u002fextra\\u003e\",\"legendgroup\":\"\",\"marker\":{\"color\":\" gold\",\"pattern\":{\"shape\":\"\"}},\"name\":\"\",\"offsetgroup\":\"\",\"orientation\":\"v\",\"showlegend\":false,\"textposition\":\"auto\",\"x\":[\"L. Messi\",\"E. Hazard\",\"Cristiano Ronaldo\",\"K. De Bruyne\",\"A. Griezmann\"],\"xaxis\":\"x\",\"y\":[565000,470000,405000,370000,370000],\"yaxis\":\"y\",\"type\":\"bar\"}],                        {\"template\":{\"data\":{\"histogram2dcontour\":[{\"type\":\"histogram2dcontour\",\"colorbar\":{\"outlinewidth\":0,\"ticks\":\"\"},\"colorscale\":[[0.0,\"#0d0887\"],[0.1111111111111111,\"#46039f\"],[0.2222222222222222,\"#7201a8\"],[0.3333333333333333,\"#9c179e\"],[0.4444444444444444,\"#bd3786\"],[0.5555555555555556,\"#d8576b\"],[0.6666666666666666,\"#ed7953\"],[0.7777777777777778,\"#fb9f3a\"],[0.8888888888888888,\"#fdca26\"],[1.0,\"#f0f921\"]]}],\"choropleth\":[{\"type\":\"choropleth\",\"colorbar\":{\"outlinewidth\":0,\"ticks\":\"\"}}],\"histogram2d\":[{\"type\":\"histogram2d\",\"colorbar\":{\"outlinewidth\":0,\"ticks\":\"\"},\"colorscale\":[[0.0,\"#0d0887\"],[0.1111111111111111,\"#46039f\"],[0.2222222222222222,\"#7201a8\"],[0.3333333333333333,\"#9c179e\"],[0.4444444444444444,\"#bd3786\"],[0.5555555555555556,\"#d8576b\"],[0.6666666666666666,\"#ed7953\"],[0.7777777777777778,\"#fb9f3a\"],[0.8888888888888888,\"#fdca26\"],[1.0,\"#f0f921\"]]}],\"heatmap\":[{\"type\":\"heatmap\",\"colorbar\":{\"outlinewidth\":0,\"ticks\":\"\"},\"colorscale\":[[0.0,\"#0d0887\"],[0.1111111111111111,\"#46039f\"],[0.2222222222222222,\"#7201a8\"],[0.3333333333333333,\"#9c179e\"],[0.4444444444444444,\"#bd3786\"],[0.5555555555555556,\"#d8576b\"],[0.6666666666666666,\"#ed7953\"],[0.7777777777777778,\"#fb9f3a\"],[0.8888888888888888,\"#fdca26\"],[1.0,\"#f0f921\"]]}],\"heatmapgl\":[{\"type\":\"heatmapgl\",\"colorbar\":{\"outlinewidth\":0,\"ticks\":\"\"},\"colorscale\":[[0.0,\"#0d0887\"],[0.1111111111111111,\"#46039f\"],[0.2222222222222222,\"#7201a8\"],[0.3333333333333333,\"#9c179e\"],[0.4444444444444444,\"#bd3786\"],[0.5555555555555556,\"#d8576b\"],[0.6666666666666666,\"#ed7953\"],[0.7777777777777778,\"#fb9f3a\"],[0.8888888888888888,\"#fdca26\"],[1.0,\"#f0f921\"]]}],\"contourcarpet\":[{\"type\":\"contourcarpet\",\"colorbar\":{\"outlinewidth\":0,\"ticks\":\"\"}}],\"contour\":[{\"type\":\"contour\",\"colorbar\":{\"outlinewidth\":0,\"ticks\":\"\"},\"colorscale\":[[0.0,\"#0d0887\"],[0.1111111111111111,\"#46039f\"],[0.2222222222222222,\"#7201a8\"],[0.3333333333333333,\"#9c179e\"],[0.4444444444444444,\"#bd3786\"],[0.5555555555555556,\"#d8576b\"],[0.6666666666666666,\"#ed7953\"],[0.7777777777777778,\"#fb9f3a\"],[0.8888888888888888,\"#fdca26\"],[1.0,\"#f0f921\"]]}],\"surface\":[{\"type\":\"surface\",\"colorbar\":{\"outlinewidth\":0,\"ticks\":\"\"},\"colorscale\":[[0.0,\"#0d0887\"],[0.1111111111111111,\"#46039f\"],[0.2222222222222222,\"#7201a8\"],[0.3333333333333333,\"#9c179e\"],[0.4444444444444444,\"#bd3786\"],[0.5555555555555556,\"#d8576b\"],[0.6666666666666666,\"#ed7953\"],[0.7777777777777778,\"#fb9f3a\"],[0.8888888888888888,\"#fdca26\"],[1.0,\"#f0f921\"]]}],\"mesh3d\":[{\"type\":\"mesh3d\",\"colorbar\":{\"outlinewidth\":0,\"ticks\":\"\"}}],\"scatter\":[{\"fillpattern\":{\"fillmode\":\"overlay\",\"size\":10,\"solidity\":0.2},\"type\":\"scatter\"}],\"parcoords\":[{\"type\":\"parcoords\",\"line\":{\"colorbar\":{\"outlinewidth\":0,\"ticks\":\"\"}}}],\"scatterpolargl\":[{\"type\":\"scatterpolargl\",\"marker\":{\"colorbar\":{\"outlinewidth\":0,\"ticks\":\"\"}}}],\"bar\":[{\"error_x\":{\"color\":\"#2a3f5f\"},\"error_y\":{\"color\":\"#2a3f5f\"},\"marker\":{\"line\":{\"color\":\"#E5ECF6\",\"width\":0.5},\"pattern\":{\"fillmode\":\"overlay\",\"size\":10,\"solidity\":0.2}},\"type\":\"bar\"}],\"scattergeo\":[{\"type\":\"scattergeo\",\"marker\":{\"colorbar\":{\"outlinewidth\":0,\"ticks\":\"\"}}}],\"scatterpolar\":[{\"type\":\"scatterpolar\",\"marker\":{\"colorbar\":{\"outlinewidth\":0,\"ticks\":\"\"}}}],\"histogram\":[{\"marker\":{\"pattern\":{\"fillmode\":\"overlay\",\"size\":10,\"solidity\":0.2}},\"type\":\"histogram\"}],\"scattergl\":[{\"type\":\"scattergl\",\"marker\":{\"colorbar\":{\"outlinewidth\":0,\"ticks\":\"\"}}}],\"scatter3d\":[{\"type\":\"scatter3d\",\"line\":{\"colorbar\":{\"outlinewidth\":0,\"ticks\":\"\"}},\"marker\":{\"colorbar\":{\"outlinewidth\":0,\"ticks\":\"\"}}}],\"scattermapbox\":[{\"type\":\"scattermapbox\",\"marker\":{\"colorbar\":{\"outlinewidth\":0,\"ticks\":\"\"}}}],\"scatterternary\":[{\"type\":\"scatterternary\",\"marker\":{\"colorbar\":{\"outlinewidth\":0,\"ticks\":\"\"}}}],\"scattercarpet\":[{\"type\":\"scattercarpet\",\"marker\":{\"colorbar\":{\"outlinewidth\":0,\"ticks\":\"\"}}}],\"carpet\":[{\"aaxis\":{\"endlinecolor\":\"#2a3f5f\",\"gridcolor\":\"white\",\"linecolor\":\"white\",\"minorgridcolor\":\"white\",\"startlinecolor\":\"#2a3f5f\"},\"baxis\":{\"endlinecolor\":\"#2a3f5f\",\"gridcolor\":\"white\",\"linecolor\":\"white\",\"minorgridcolor\":\"white\",\"startlinecolor\":\"#2a3f5f\"},\"type\":\"carpet\"}],\"table\":[{\"cells\":{\"fill\":{\"color\":\"#EBF0F8\"},\"line\":{\"color\":\"white\"}},\"header\":{\"fill\":{\"color\":\"#C8D4E3\"},\"line\":{\"color\":\"white\"}},\"type\":\"table\"}],\"barpolar\":[{\"marker\":{\"line\":{\"color\":\"#E5ECF6\",\"width\":0.5},\"pattern\":{\"fillmode\":\"overlay\",\"size\":10,\"solidity\":0.2}},\"type\":\"barpolar\"}],\"pie\":[{\"automargin\":true,\"type\":\"pie\"}]},\"layout\":{\"autotypenumbers\":\"strict\",\"colorway\":[\"#636efa\",\"#EF553B\",\"#00cc96\",\"#ab63fa\",\"#FFA15A\",\"#19d3f3\",\"#FF6692\",\"#B6E880\",\"#FF97FF\",\"#FECB52\"],\"font\":{\"color\":\"#2a3f5f\"},\"hovermode\":\"closest\",\"hoverlabel\":{\"align\":\"left\"},\"paper_bgcolor\":\"white\",\"plot_bgcolor\":\"#E5ECF6\",\"polar\":{\"bgcolor\":\"#E5ECF6\",\"angularaxis\":{\"gridcolor\":\"white\",\"linecolor\":\"white\",\"ticks\":\"\"},\"radialaxis\":{\"gridcolor\":\"white\",\"linecolor\":\"white\",\"ticks\":\"\"}},\"ternary\":{\"bgcolor\":\"#E5ECF6\",\"aaxis\":{\"gridcolor\":\"white\",\"linecolor\":\"white\",\"ticks\":\"\"},\"baxis\":{\"gridcolor\":\"white\",\"linecolor\":\"white\",\"ticks\":\"\"},\"caxis\":{\"gridcolor\":\"white\",\"linecolor\":\"white\",\"ticks\":\"\"}},\"coloraxis\":{\"colorbar\":{\"outlinewidth\":0,\"ticks\":\"\"}},\"colorscale\":{\"sequential\":[[0.0,\"#0d0887\"],[0.1111111111111111,\"#46039f\"],[0.2222222222222222,\"#7201a8\"],[0.3333333333333333,\"#9c179e\"],[0.4444444444444444,\"#bd3786\"],[0.5555555555555556,\"#d8576b\"],[0.6666666666666666,\"#ed7953\"],[0.7777777777777778,\"#fb9f3a\"],[0.8888888888888888,\"#fdca26\"],[1.0,\"#f0f921\"]],\"sequentialminus\":[[0.0,\"#0d0887\"],[0.1111111111111111,\"#46039f\"],[0.2222222222222222,\"#7201a8\"],[0.3333333333333333,\"#9c179e\"],[0.4444444444444444,\"#bd3786\"],[0.5555555555555556,\"#d8576b\"],[0.6666666666666666,\"#ed7953\"],[0.7777777777777778,\"#fb9f3a\"],[0.8888888888888888,\"#fdca26\"],[1.0,\"#f0f921\"]],\"diverging\":[[0,\"#8e0152\"],[0.1,\"#c51b7d\"],[0.2,\"#de77ae\"],[0.3,\"#f1b6da\"],[0.4,\"#fde0ef\"],[0.5,\"#f7f7f7\"],[0.6,\"#e6f5d0\"],[0.7,\"#b8e186\"],[0.8,\"#7fbc41\"],[0.9,\"#4d9221\"],[1,\"#276419\"]]},\"xaxis\":{\"gridcolor\":\"white\",\"linecolor\":\"white\",\"ticks\":\"\",\"title\":{\"standoff\":15},\"zerolinecolor\":\"white\",\"automargin\":true,\"zerolinewidth\":2},\"yaxis\":{\"gridcolor\":\"white\",\"linecolor\":\"white\",\"ticks\":\"\",\"title\":{\"standoff\":15},\"zerolinecolor\":\"white\",\"automargin\":true,\"zerolinewidth\":2},\"scene\":{\"xaxis\":{\"backgroundcolor\":\"#E5ECF6\",\"gridcolor\":\"white\",\"linecolor\":\"white\",\"showbackground\":true,\"ticks\":\"\",\"zerolinecolor\":\"white\",\"gridwidth\":2},\"yaxis\":{\"backgroundcolor\":\"#E5ECF6\",\"gridcolor\":\"white\",\"linecolor\":\"white\",\"showbackground\":true,\"ticks\":\"\",\"zerolinecolor\":\"white\",\"gridwidth\":2},\"zaxis\":{\"backgroundcolor\":\"#E5ECF6\",\"gridcolor\":\"white\",\"linecolor\":\"white\",\"showbackground\":true,\"ticks\":\"\",\"zerolinecolor\":\"white\",\"gridwidth\":2}},\"shapedefaults\":{\"line\":{\"color\":\"#2a3f5f\"}},\"annotationdefaults\":{\"arrowcolor\":\"#2a3f5f\",\"arrowhead\":0,\"arrowwidth\":1},\"geo\":{\"bgcolor\":\"white\",\"landcolor\":\"#E5ECF6\",\"subunitcolor\":\"white\",\"showland\":true,\"showlakes\":true,\"lakecolor\":\"white\"},\"title\":{\"x\":0.05},\"mapbox\":{\"style\":\"light\"}}},\"xaxis\":{\"anchor\":\"y\",\"domain\":[0.0,1.0],\"title\":{\"text\":\"Player's Name\"}},\"yaxis\":{\"anchor\":\"x\",\"domain\":[0.0,1.0],\"title\":{\"text\":\"Wage\"},\"categoryorder\":\"total descending\"},\"legend\":{\"tracegroupgap\":0},\"title\":{\"text\":\"Top 5 Players x Wage\"},\"barmode\":\"relative\"},                        {\"responsive\": true}                    ).then(function(){\n",
       "                            \n",
       "var gd = document.getElementById('ac766bb0-d668-4116-bc91-1b7f4f20d8bd');\n",
       "var x = new MutationObserver(function (mutations, observer) {{\n",
       "        var display = window.getComputedStyle(gd).display;\n",
       "        if (!display || display === 'none') {{\n",
       "            console.log([gd, 'removed!']);\n",
       "            Plotly.purge(gd);\n",
       "            observer.disconnect();\n",
       "        }}\n",
       "}});\n",
       "\n",
       "// Listen for the removal of the full notebook cells\n",
       "var notebookContainer = gd.closest('#notebook-container');\n",
       "if (notebookContainer) {{\n",
       "    x.observe(notebookContainer, {childList: true});\n",
       "}}\n",
       "\n",
       "// Listen for the clearing of the current output cell\n",
       "var outputEl = gd.closest('.output');\n",
       "if (outputEl) {{\n",
       "    x.observe(outputEl, {childList: true});\n",
       "}}\n",
       "\n",
       "                        })                };                });            </script>        </div>"
      ]
     },
     "metadata": {},
     "output_type": "display_data"
    }
   ],
   "source": [
    "fig = px.bar(x=top_5_wages['Name'][:5], y=top_5_wages['Wage'][:5], labels={'x':'Player\\'s Name', 'y':'Wage'}, color_discrete_sequence=[' gold'], title='Top 5 Players x Wage')\n",
    "fig.update_yaxes(categoryorder='total descending')\n",
    "fig.show()\n"
   ]
  },
  {
   "cell_type": "code",
   "execution_count": 446,
   "metadata": {},
   "outputs": [
    {
     "data": {
      "text/html": [
       "<style type=\"text/css\">\n",
       "#T_7ef71 tr:hover {\n",
       "  background-color: green;\n",
       "}\n",
       "</style>\n",
       "<table id=\"T_7ef71\">\n",
       "  <thead>\n",
       "    <tr>\n",
       "      <th id=\"T_7ef71_level0_col0\" class=\"col_heading level0 col0\" >sofifa_id</th>\n",
       "      <th id=\"T_7ef71_level0_col1\" class=\"col_heading level0 col1\" >player_url</th>\n",
       "      <th id=\"T_7ef71_level0_col2\" class=\"col_heading level0 col2\" >short_name</th>\n",
       "      <th id=\"T_7ef71_level0_col3\" class=\"col_heading level0 col3\" >long_name</th>\n",
       "      <th id=\"T_7ef71_level0_col4\" class=\"col_heading level0 col4\" >age</th>\n",
       "      <th id=\"T_7ef71_level0_col5\" class=\"col_heading level0 col5\" >dob</th>\n",
       "      <th id=\"T_7ef71_level0_col6\" class=\"col_heading level0 col6\" >height_cm</th>\n",
       "      <th id=\"T_7ef71_level0_col7\" class=\"col_heading level0 col7\" >weight_kg</th>\n",
       "      <th id=\"T_7ef71_level0_col8\" class=\"col_heading level0 col8\" >nationality</th>\n",
       "      <th id=\"T_7ef71_level0_col9\" class=\"col_heading level0 col9\" >club</th>\n",
       "      <th id=\"T_7ef71_level0_col10\" class=\"col_heading level0 col10\" >overall</th>\n",
       "      <th id=\"T_7ef71_level0_col11\" class=\"col_heading level0 col11\" >potential</th>\n",
       "      <th id=\"T_7ef71_level0_col12\" class=\"col_heading level0 col12\" >value_eur</th>\n",
       "      <th id=\"T_7ef71_level0_col13\" class=\"col_heading level0 col13\" >wage_eur</th>\n",
       "      <th id=\"T_7ef71_level0_col14\" class=\"col_heading level0 col14\" >player_positions</th>\n",
       "      <th id=\"T_7ef71_level0_col15\" class=\"col_heading level0 col15\" >preferred_foot</th>\n",
       "      <th id=\"T_7ef71_level0_col16\" class=\"col_heading level0 col16\" >international_reputation</th>\n",
       "      <th id=\"T_7ef71_level0_col17\" class=\"col_heading level0 col17\" >weak_foot</th>\n",
       "      <th id=\"T_7ef71_level0_col18\" class=\"col_heading level0 col18\" >skill_moves</th>\n",
       "      <th id=\"T_7ef71_level0_col19\" class=\"col_heading level0 col19\" >work_rate</th>\n",
       "      <th id=\"T_7ef71_level0_col20\" class=\"col_heading level0 col20\" >body_type</th>\n",
       "      <th id=\"T_7ef71_level0_col21\" class=\"col_heading level0 col21\" >real_face</th>\n",
       "      <th id=\"T_7ef71_level0_col22\" class=\"col_heading level0 col22\" >release_clause_eur</th>\n",
       "      <th id=\"T_7ef71_level0_col23\" class=\"col_heading level0 col23\" >player_tags</th>\n",
       "      <th id=\"T_7ef71_level0_col24\" class=\"col_heading level0 col24\" >team_position</th>\n",
       "      <th id=\"T_7ef71_level0_col25\" class=\"col_heading level0 col25\" >team_jersey_number</th>\n",
       "      <th id=\"T_7ef71_level0_col26\" class=\"col_heading level0 col26\" >loaned_from</th>\n",
       "      <th id=\"T_7ef71_level0_col27\" class=\"col_heading level0 col27\" >joined</th>\n",
       "      <th id=\"T_7ef71_level0_col28\" class=\"col_heading level0 col28\" >contract_valid_until</th>\n",
       "      <th id=\"T_7ef71_level0_col29\" class=\"col_heading level0 col29\" >nation_position</th>\n",
       "      <th id=\"T_7ef71_level0_col30\" class=\"col_heading level0 col30\" >nation_jersey_number</th>\n",
       "      <th id=\"T_7ef71_level0_col31\" class=\"col_heading level0 col31\" >pace</th>\n",
       "      <th id=\"T_7ef71_level0_col32\" class=\"col_heading level0 col32\" >shooting</th>\n",
       "      <th id=\"T_7ef71_level0_col33\" class=\"col_heading level0 col33\" >passing</th>\n",
       "      <th id=\"T_7ef71_level0_col34\" class=\"col_heading level0 col34\" >dribbling</th>\n",
       "      <th id=\"T_7ef71_level0_col35\" class=\"col_heading level0 col35\" >defending</th>\n",
       "      <th id=\"T_7ef71_level0_col36\" class=\"col_heading level0 col36\" >physic</th>\n",
       "      <th id=\"T_7ef71_level0_col37\" class=\"col_heading level0 col37\" >gk_diving</th>\n",
       "      <th id=\"T_7ef71_level0_col38\" class=\"col_heading level0 col38\" >gk_handling</th>\n",
       "      <th id=\"T_7ef71_level0_col39\" class=\"col_heading level0 col39\" >gk_kicking</th>\n",
       "      <th id=\"T_7ef71_level0_col40\" class=\"col_heading level0 col40\" >gk_reflexes</th>\n",
       "      <th id=\"T_7ef71_level0_col41\" class=\"col_heading level0 col41\" >gk_speed</th>\n",
       "      <th id=\"T_7ef71_level0_col42\" class=\"col_heading level0 col42\" >gk_positioning</th>\n",
       "      <th id=\"T_7ef71_level0_col43\" class=\"col_heading level0 col43\" >player_traits</th>\n",
       "      <th id=\"T_7ef71_level0_col44\" class=\"col_heading level0 col44\" >attacking_crossing</th>\n",
       "      <th id=\"T_7ef71_level0_col45\" class=\"col_heading level0 col45\" >attacking_finishing</th>\n",
       "      <th id=\"T_7ef71_level0_col46\" class=\"col_heading level0 col46\" >attacking_heading_accuracy</th>\n",
       "      <th id=\"T_7ef71_level0_col47\" class=\"col_heading level0 col47\" >attacking_short_passing</th>\n",
       "      <th id=\"T_7ef71_level0_col48\" class=\"col_heading level0 col48\" >attacking_volleys</th>\n",
       "      <th id=\"T_7ef71_level0_col49\" class=\"col_heading level0 col49\" >skill_dribbling</th>\n",
       "      <th id=\"T_7ef71_level0_col50\" class=\"col_heading level0 col50\" >skill_curve</th>\n",
       "      <th id=\"T_7ef71_level0_col51\" class=\"col_heading level0 col51\" >skill_fk_accuracy</th>\n",
       "      <th id=\"T_7ef71_level0_col52\" class=\"col_heading level0 col52\" >skill_long_passing</th>\n",
       "      <th id=\"T_7ef71_level0_col53\" class=\"col_heading level0 col53\" >skill_ball_control</th>\n",
       "      <th id=\"T_7ef71_level0_col54\" class=\"col_heading level0 col54\" >movement_acceleration</th>\n",
       "      <th id=\"T_7ef71_level0_col55\" class=\"col_heading level0 col55\" >movement_sprint_speed</th>\n",
       "      <th id=\"T_7ef71_level0_col56\" class=\"col_heading level0 col56\" >movement_agility</th>\n",
       "      <th id=\"T_7ef71_level0_col57\" class=\"col_heading level0 col57\" >movement_reactions</th>\n",
       "      <th id=\"T_7ef71_level0_col58\" class=\"col_heading level0 col58\" >movement_balance</th>\n",
       "      <th id=\"T_7ef71_level0_col59\" class=\"col_heading level0 col59\" >power_shot_power</th>\n",
       "      <th id=\"T_7ef71_level0_col60\" class=\"col_heading level0 col60\" >power_jumping</th>\n",
       "      <th id=\"T_7ef71_level0_col61\" class=\"col_heading level0 col61\" >power_stamina</th>\n",
       "      <th id=\"T_7ef71_level0_col62\" class=\"col_heading level0 col62\" >power_strength</th>\n",
       "      <th id=\"T_7ef71_level0_col63\" class=\"col_heading level0 col63\" >power_long_shots</th>\n",
       "      <th id=\"T_7ef71_level0_col64\" class=\"col_heading level0 col64\" >mentality_aggression</th>\n",
       "      <th id=\"T_7ef71_level0_col65\" class=\"col_heading level0 col65\" >mentality_interceptions</th>\n",
       "      <th id=\"T_7ef71_level0_col66\" class=\"col_heading level0 col66\" >mentality_positioning</th>\n",
       "      <th id=\"T_7ef71_level0_col67\" class=\"col_heading level0 col67\" >mentality_vision</th>\n",
       "      <th id=\"T_7ef71_level0_col68\" class=\"col_heading level0 col68\" >mentality_penalties</th>\n",
       "      <th id=\"T_7ef71_level0_col69\" class=\"col_heading level0 col69\" >mentality_composure</th>\n",
       "      <th id=\"T_7ef71_level0_col70\" class=\"col_heading level0 col70\" >defending_marking</th>\n",
       "      <th id=\"T_7ef71_level0_col71\" class=\"col_heading level0 col71\" >defending_standing_tackle</th>\n",
       "      <th id=\"T_7ef71_level0_col72\" class=\"col_heading level0 col72\" >defending_sliding_tackle</th>\n",
       "      <th id=\"T_7ef71_level0_col73\" class=\"col_heading level0 col73\" >goalkeeping_diving</th>\n",
       "      <th id=\"T_7ef71_level0_col74\" class=\"col_heading level0 col74\" >goalkeeping_handling</th>\n",
       "      <th id=\"T_7ef71_level0_col75\" class=\"col_heading level0 col75\" >goalkeeping_kicking</th>\n",
       "      <th id=\"T_7ef71_level0_col76\" class=\"col_heading level0 col76\" >goalkeeping_positioning</th>\n",
       "      <th id=\"T_7ef71_level0_col77\" class=\"col_heading level0 col77\" >goalkeeping_reflexes</th>\n",
       "      <th id=\"T_7ef71_level0_col78\" class=\"col_heading level0 col78\" >ls</th>\n",
       "      <th id=\"T_7ef71_level0_col79\" class=\"col_heading level0 col79\" >st</th>\n",
       "      <th id=\"T_7ef71_level0_col80\" class=\"col_heading level0 col80\" >rs</th>\n",
       "      <th id=\"T_7ef71_level0_col81\" class=\"col_heading level0 col81\" >lw</th>\n",
       "      <th id=\"T_7ef71_level0_col82\" class=\"col_heading level0 col82\" >lf</th>\n",
       "      <th id=\"T_7ef71_level0_col83\" class=\"col_heading level0 col83\" >cf</th>\n",
       "      <th id=\"T_7ef71_level0_col84\" class=\"col_heading level0 col84\" >rf</th>\n",
       "      <th id=\"T_7ef71_level0_col85\" class=\"col_heading level0 col85\" >rw</th>\n",
       "      <th id=\"T_7ef71_level0_col86\" class=\"col_heading level0 col86\" >lam</th>\n",
       "      <th id=\"T_7ef71_level0_col87\" class=\"col_heading level0 col87\" >cam</th>\n",
       "      <th id=\"T_7ef71_level0_col88\" class=\"col_heading level0 col88\" >ram</th>\n",
       "      <th id=\"T_7ef71_level0_col89\" class=\"col_heading level0 col89\" >lm</th>\n",
       "      <th id=\"T_7ef71_level0_col90\" class=\"col_heading level0 col90\" >lcm</th>\n",
       "      <th id=\"T_7ef71_level0_col91\" class=\"col_heading level0 col91\" >cm</th>\n",
       "      <th id=\"T_7ef71_level0_col92\" class=\"col_heading level0 col92\" >rcm</th>\n",
       "      <th id=\"T_7ef71_level0_col93\" class=\"col_heading level0 col93\" >rm</th>\n",
       "      <th id=\"T_7ef71_level0_col94\" class=\"col_heading level0 col94\" >lwb</th>\n",
       "      <th id=\"T_7ef71_level0_col95\" class=\"col_heading level0 col95\" >ldm</th>\n",
       "      <th id=\"T_7ef71_level0_col96\" class=\"col_heading level0 col96\" >cdm</th>\n",
       "      <th id=\"T_7ef71_level0_col97\" class=\"col_heading level0 col97\" >rdm</th>\n",
       "      <th id=\"T_7ef71_level0_col98\" class=\"col_heading level0 col98\" >rwb</th>\n",
       "      <th id=\"T_7ef71_level0_col99\" class=\"col_heading level0 col99\" >lb</th>\n",
       "      <th id=\"T_7ef71_level0_col100\" class=\"col_heading level0 col100\" >lcb</th>\n",
       "      <th id=\"T_7ef71_level0_col101\" class=\"col_heading level0 col101\" >cb</th>\n",
       "      <th id=\"T_7ef71_level0_col102\" class=\"col_heading level0 col102\" >rcb</th>\n",
       "      <th id=\"T_7ef71_level0_col103\" class=\"col_heading level0 col103\" >rb</th>\n",
       "    </tr>\n",
       "  </thead>\n",
       "  <tbody>\n",
       "    <tr>\n",
       "      <td id=\"T_7ef71_row0_col0\" class=\"data row0 col0\" >192448</td>\n",
       "      <td id=\"T_7ef71_row0_col1\" class=\"data row0 col1\" >https://sofifa.com/player/192448/marc-andre-ter-stegen/20/159586</td>\n",
       "      <td id=\"T_7ef71_row0_col2\" class=\"data row0 col2\" >M. ter Stegen</td>\n",
       "      <td id=\"T_7ef71_row0_col3\" class=\"data row0 col3\" >Marc-André ter Stegen</td>\n",
       "      <td id=\"T_7ef71_row0_col4\" class=\"data row0 col4\" >27</td>\n",
       "      <td id=\"T_7ef71_row0_col5\" class=\"data row0 col5\" >1992-04-30</td>\n",
       "      <td id=\"T_7ef71_row0_col6\" class=\"data row0 col6\" >187</td>\n",
       "      <td id=\"T_7ef71_row0_col7\" class=\"data row0 col7\" >85</td>\n",
       "      <td id=\"T_7ef71_row0_col8\" class=\"data row0 col8\" >Germany</td>\n",
       "      <td id=\"T_7ef71_row0_col9\" class=\"data row0 col9\" >FC Barcelona</td>\n",
       "      <td id=\"T_7ef71_row0_col10\" class=\"data row0 col10\" >90</td>\n",
       "      <td id=\"T_7ef71_row0_col11\" class=\"data row0 col11\" >93</td>\n",
       "      <td id=\"T_7ef71_row0_col12\" class=\"data row0 col12\" >67500000</td>\n",
       "      <td id=\"T_7ef71_row0_col13\" class=\"data row0 col13\" >250000</td>\n",
       "      <td id=\"T_7ef71_row0_col14\" class=\"data row0 col14\" >GK</td>\n",
       "      <td id=\"T_7ef71_row0_col15\" class=\"data row0 col15\" >Right</td>\n",
       "      <td id=\"T_7ef71_row0_col16\" class=\"data row0 col16\" >3</td>\n",
       "      <td id=\"T_7ef71_row0_col17\" class=\"data row0 col17\" >4</td>\n",
       "      <td id=\"T_7ef71_row0_col18\" class=\"data row0 col18\" >1</td>\n",
       "      <td id=\"T_7ef71_row0_col19\" class=\"data row0 col19\" >Medium/Medium</td>\n",
       "      <td id=\"T_7ef71_row0_col20\" class=\"data row0 col20\" >Normal</td>\n",
       "      <td id=\"T_7ef71_row0_col21\" class=\"data row0 col21\" >Yes</td>\n",
       "      <td id=\"T_7ef71_row0_col22\" class=\"data row0 col22\" >143400000.000000</td>\n",
       "      <td id=\"T_7ef71_row0_col23\" class=\"data row0 col23\" >nan</td>\n",
       "      <td id=\"T_7ef71_row0_col24\" class=\"data row0 col24\" >GK</td>\n",
       "      <td id=\"T_7ef71_row0_col25\" class=\"data row0 col25\" >1.000000</td>\n",
       "      <td id=\"T_7ef71_row0_col26\" class=\"data row0 col26\" >nan</td>\n",
       "      <td id=\"T_7ef71_row0_col27\" class=\"data row0 col27\" >2014-07-01</td>\n",
       "      <td id=\"T_7ef71_row0_col28\" class=\"data row0 col28\" >2022.000000</td>\n",
       "      <td id=\"T_7ef71_row0_col29\" class=\"data row0 col29\" >SUB</td>\n",
       "      <td id=\"T_7ef71_row0_col30\" class=\"data row0 col30\" >22.000000</td>\n",
       "      <td id=\"T_7ef71_row0_col31\" class=\"data row0 col31\" >nan</td>\n",
       "      <td id=\"T_7ef71_row0_col32\" class=\"data row0 col32\" >nan</td>\n",
       "      <td id=\"T_7ef71_row0_col33\" class=\"data row0 col33\" >nan</td>\n",
       "      <td id=\"T_7ef71_row0_col34\" class=\"data row0 col34\" >nan</td>\n",
       "      <td id=\"T_7ef71_row0_col35\" class=\"data row0 col35\" >nan</td>\n",
       "      <td id=\"T_7ef71_row0_col36\" class=\"data row0 col36\" >nan</td>\n",
       "      <td id=\"T_7ef71_row0_col37\" class=\"data row0 col37\" >88.000000</td>\n",
       "      <td id=\"T_7ef71_row0_col38\" class=\"data row0 col38\" >85.000000</td>\n",
       "      <td id=\"T_7ef71_row0_col39\" class=\"data row0 col39\" >88.000000</td>\n",
       "      <td id=\"T_7ef71_row0_col40\" class=\"data row0 col40\" >90.000000</td>\n",
       "      <td id=\"T_7ef71_row0_col41\" class=\"data row0 col41\" >45.000000</td>\n",
       "      <td id=\"T_7ef71_row0_col42\" class=\"data row0 col42\" >88.000000</td>\n",
       "      <td id=\"T_7ef71_row0_col43\" class=\"data row0 col43\" >Swerve Pass, Acrobatic Clearance, Flair Passes</td>\n",
       "      <td id=\"T_7ef71_row0_col44\" class=\"data row0 col44\" >18</td>\n",
       "      <td id=\"T_7ef71_row0_col45\" class=\"data row0 col45\" >14</td>\n",
       "      <td id=\"T_7ef71_row0_col46\" class=\"data row0 col46\" >11</td>\n",
       "      <td id=\"T_7ef71_row0_col47\" class=\"data row0 col47\" >61</td>\n",
       "      <td id=\"T_7ef71_row0_col48\" class=\"data row0 col48\" >14</td>\n",
       "      <td id=\"T_7ef71_row0_col49\" class=\"data row0 col49\" >21</td>\n",
       "      <td id=\"T_7ef71_row0_col50\" class=\"data row0 col50\" >18</td>\n",
       "      <td id=\"T_7ef71_row0_col51\" class=\"data row0 col51\" >12</td>\n",
       "      <td id=\"T_7ef71_row0_col52\" class=\"data row0 col52\" >63</td>\n",
       "      <td id=\"T_7ef71_row0_col53\" class=\"data row0 col53\" >30</td>\n",
       "      <td id=\"T_7ef71_row0_col54\" class=\"data row0 col54\" >38</td>\n",
       "      <td id=\"T_7ef71_row0_col55\" class=\"data row0 col55\" >50</td>\n",
       "      <td id=\"T_7ef71_row0_col56\" class=\"data row0 col56\" >37</td>\n",
       "      <td id=\"T_7ef71_row0_col57\" class=\"data row0 col57\" >86</td>\n",
       "      <td id=\"T_7ef71_row0_col58\" class=\"data row0 col58\" >43</td>\n",
       "      <td id=\"T_7ef71_row0_col59\" class=\"data row0 col59\" >66</td>\n",
       "      <td id=\"T_7ef71_row0_col60\" class=\"data row0 col60\" >79</td>\n",
       "      <td id=\"T_7ef71_row0_col61\" class=\"data row0 col61\" >35</td>\n",
       "      <td id=\"T_7ef71_row0_col62\" class=\"data row0 col62\" >78</td>\n",
       "      <td id=\"T_7ef71_row0_col63\" class=\"data row0 col63\" >10</td>\n",
       "      <td id=\"T_7ef71_row0_col64\" class=\"data row0 col64\" >43</td>\n",
       "      <td id=\"T_7ef71_row0_col65\" class=\"data row0 col65\" >22</td>\n",
       "      <td id=\"T_7ef71_row0_col66\" class=\"data row0 col66\" >11</td>\n",
       "      <td id=\"T_7ef71_row0_col67\" class=\"data row0 col67\" >70</td>\n",
       "      <td id=\"T_7ef71_row0_col68\" class=\"data row0 col68\" >25</td>\n",
       "      <td id=\"T_7ef71_row0_col69\" class=\"data row0 col69\" >70</td>\n",
       "      <td id=\"T_7ef71_row0_col70\" class=\"data row0 col70\" >25</td>\n",
       "      <td id=\"T_7ef71_row0_col71\" class=\"data row0 col71\" >13</td>\n",
       "      <td id=\"T_7ef71_row0_col72\" class=\"data row0 col72\" >10</td>\n",
       "      <td id=\"T_7ef71_row0_col73\" class=\"data row0 col73\" >88</td>\n",
       "      <td id=\"T_7ef71_row0_col74\" class=\"data row0 col74\" >85</td>\n",
       "      <td id=\"T_7ef71_row0_col75\" class=\"data row0 col75\" >88</td>\n",
       "      <td id=\"T_7ef71_row0_col76\" class=\"data row0 col76\" >88</td>\n",
       "      <td id=\"T_7ef71_row0_col77\" class=\"data row0 col77\" >90</td>\n",
       "      <td id=\"T_7ef71_row0_col78\" class=\"data row0 col78\" >nan</td>\n",
       "      <td id=\"T_7ef71_row0_col79\" class=\"data row0 col79\" >nan</td>\n",
       "      <td id=\"T_7ef71_row0_col80\" class=\"data row0 col80\" >nan</td>\n",
       "      <td id=\"T_7ef71_row0_col81\" class=\"data row0 col81\" >nan</td>\n",
       "      <td id=\"T_7ef71_row0_col82\" class=\"data row0 col82\" >nan</td>\n",
       "      <td id=\"T_7ef71_row0_col83\" class=\"data row0 col83\" >nan</td>\n",
       "      <td id=\"T_7ef71_row0_col84\" class=\"data row0 col84\" >nan</td>\n",
       "      <td id=\"T_7ef71_row0_col85\" class=\"data row0 col85\" >nan</td>\n",
       "      <td id=\"T_7ef71_row0_col86\" class=\"data row0 col86\" >nan</td>\n",
       "      <td id=\"T_7ef71_row0_col87\" class=\"data row0 col87\" >nan</td>\n",
       "      <td id=\"T_7ef71_row0_col88\" class=\"data row0 col88\" >nan</td>\n",
       "      <td id=\"T_7ef71_row0_col89\" class=\"data row0 col89\" >nan</td>\n",
       "      <td id=\"T_7ef71_row0_col90\" class=\"data row0 col90\" >nan</td>\n",
       "      <td id=\"T_7ef71_row0_col91\" class=\"data row0 col91\" >nan</td>\n",
       "      <td id=\"T_7ef71_row0_col92\" class=\"data row0 col92\" >nan</td>\n",
       "      <td id=\"T_7ef71_row0_col93\" class=\"data row0 col93\" >nan</td>\n",
       "      <td id=\"T_7ef71_row0_col94\" class=\"data row0 col94\" >nan</td>\n",
       "      <td id=\"T_7ef71_row0_col95\" class=\"data row0 col95\" >nan</td>\n",
       "      <td id=\"T_7ef71_row0_col96\" class=\"data row0 col96\" >nan</td>\n",
       "      <td id=\"T_7ef71_row0_col97\" class=\"data row0 col97\" >nan</td>\n",
       "      <td id=\"T_7ef71_row0_col98\" class=\"data row0 col98\" >nan</td>\n",
       "      <td id=\"T_7ef71_row0_col99\" class=\"data row0 col99\" >nan</td>\n",
       "      <td id=\"T_7ef71_row0_col100\" class=\"data row0 col100\" >nan</td>\n",
       "      <td id=\"T_7ef71_row0_col101\" class=\"data row0 col101\" >nan</td>\n",
       "      <td id=\"T_7ef71_row0_col102\" class=\"data row0 col102\" >nan</td>\n",
       "      <td id=\"T_7ef71_row0_col103\" class=\"data row0 col103\" >nan</td>\n",
       "    </tr>\n",
       "    <tr>\n",
       "      <td id=\"T_7ef71_row1_col0\" class=\"data row1 col0\" >167495</td>\n",
       "      <td id=\"T_7ef71_row1_col1\" class=\"data row1 col1\" >https://sofifa.com/player/167495/manuel-neuer/20/159586</td>\n",
       "      <td id=\"T_7ef71_row1_col2\" class=\"data row1 col2\" >M. Neuer</td>\n",
       "      <td id=\"T_7ef71_row1_col3\" class=\"data row1 col3\" >Manuel Neuer</td>\n",
       "      <td id=\"T_7ef71_row1_col4\" class=\"data row1 col4\" >33</td>\n",
       "      <td id=\"T_7ef71_row1_col5\" class=\"data row1 col5\" >1986-03-27</td>\n",
       "      <td id=\"T_7ef71_row1_col6\" class=\"data row1 col6\" >193</td>\n",
       "      <td id=\"T_7ef71_row1_col7\" class=\"data row1 col7\" >92</td>\n",
       "      <td id=\"T_7ef71_row1_col8\" class=\"data row1 col8\" >Germany</td>\n",
       "      <td id=\"T_7ef71_row1_col9\" class=\"data row1 col9\" >FC Bayern München</td>\n",
       "      <td id=\"T_7ef71_row1_col10\" class=\"data row1 col10\" >88</td>\n",
       "      <td id=\"T_7ef71_row1_col11\" class=\"data row1 col11\" >88</td>\n",
       "      <td id=\"T_7ef71_row1_col12\" class=\"data row1 col12\" >32000000</td>\n",
       "      <td id=\"T_7ef71_row1_col13\" class=\"data row1 col13\" >155000</td>\n",
       "      <td id=\"T_7ef71_row1_col14\" class=\"data row1 col14\" >GK</td>\n",
       "      <td id=\"T_7ef71_row1_col15\" class=\"data row1 col15\" >Right</td>\n",
       "      <td id=\"T_7ef71_row1_col16\" class=\"data row1 col16\" >5</td>\n",
       "      <td id=\"T_7ef71_row1_col17\" class=\"data row1 col17\" >4</td>\n",
       "      <td id=\"T_7ef71_row1_col18\" class=\"data row1 col18\" >1</td>\n",
       "      <td id=\"T_7ef71_row1_col19\" class=\"data row1 col19\" >Medium/Medium</td>\n",
       "      <td id=\"T_7ef71_row1_col20\" class=\"data row1 col20\" >Normal</td>\n",
       "      <td id=\"T_7ef71_row1_col21\" class=\"data row1 col21\" >Yes</td>\n",
       "      <td id=\"T_7ef71_row1_col22\" class=\"data row1 col22\" >52800000.000000</td>\n",
       "      <td id=\"T_7ef71_row1_col23\" class=\"data row1 col23\" >nan</td>\n",
       "      <td id=\"T_7ef71_row1_col24\" class=\"data row1 col24\" >GK</td>\n",
       "      <td id=\"T_7ef71_row1_col25\" class=\"data row1 col25\" >1.000000</td>\n",
       "      <td id=\"T_7ef71_row1_col26\" class=\"data row1 col26\" >nan</td>\n",
       "      <td id=\"T_7ef71_row1_col27\" class=\"data row1 col27\" >2011-07-01</td>\n",
       "      <td id=\"T_7ef71_row1_col28\" class=\"data row1 col28\" >2021.000000</td>\n",
       "      <td id=\"T_7ef71_row1_col29\" class=\"data row1 col29\" >GK</td>\n",
       "      <td id=\"T_7ef71_row1_col30\" class=\"data row1 col30\" >1.000000</td>\n",
       "      <td id=\"T_7ef71_row1_col31\" class=\"data row1 col31\" >nan</td>\n",
       "      <td id=\"T_7ef71_row1_col32\" class=\"data row1 col32\" >nan</td>\n",
       "      <td id=\"T_7ef71_row1_col33\" class=\"data row1 col33\" >nan</td>\n",
       "      <td id=\"T_7ef71_row1_col34\" class=\"data row1 col34\" >nan</td>\n",
       "      <td id=\"T_7ef71_row1_col35\" class=\"data row1 col35\" >nan</td>\n",
       "      <td id=\"T_7ef71_row1_col36\" class=\"data row1 col36\" >nan</td>\n",
       "      <td id=\"T_7ef71_row1_col37\" class=\"data row1 col37\" >87.000000</td>\n",
       "      <td id=\"T_7ef71_row1_col38\" class=\"data row1 col38\" >87.000000</td>\n",
       "      <td id=\"T_7ef71_row1_col39\" class=\"data row1 col39\" >91.000000</td>\n",
       "      <td id=\"T_7ef71_row1_col40\" class=\"data row1 col40\" >87.000000</td>\n",
       "      <td id=\"T_7ef71_row1_col41\" class=\"data row1 col41\" >57.000000</td>\n",
       "      <td id=\"T_7ef71_row1_col42\" class=\"data row1 col42\" >85.000000</td>\n",
       "      <td id=\"T_7ef71_row1_col43\" class=\"data row1 col43\" >Power Free-Kick, Flair, Swerve Pass, Acrobatic Clearance</td>\n",
       "      <td id=\"T_7ef71_row1_col44\" class=\"data row1 col44\" >15</td>\n",
       "      <td id=\"T_7ef71_row1_col45\" class=\"data row1 col45\" >13</td>\n",
       "      <td id=\"T_7ef71_row1_col46\" class=\"data row1 col46\" >25</td>\n",
       "      <td id=\"T_7ef71_row1_col47\" class=\"data row1 col47\" >55</td>\n",
       "      <td id=\"T_7ef71_row1_col48\" class=\"data row1 col48\" >11</td>\n",
       "      <td id=\"T_7ef71_row1_col49\" class=\"data row1 col49\" >30</td>\n",
       "      <td id=\"T_7ef71_row1_col50\" class=\"data row1 col50\" >14</td>\n",
       "      <td id=\"T_7ef71_row1_col51\" class=\"data row1 col51\" >11</td>\n",
       "      <td id=\"T_7ef71_row1_col52\" class=\"data row1 col52\" >59</td>\n",
       "      <td id=\"T_7ef71_row1_col53\" class=\"data row1 col53\" >46</td>\n",
       "      <td id=\"T_7ef71_row1_col54\" class=\"data row1 col54\" >54</td>\n",
       "      <td id=\"T_7ef71_row1_col55\" class=\"data row1 col55\" >60</td>\n",
       "      <td id=\"T_7ef71_row1_col56\" class=\"data row1 col56\" >51</td>\n",
       "      <td id=\"T_7ef71_row1_col57\" class=\"data row1 col57\" >84</td>\n",
       "      <td id=\"T_7ef71_row1_col58\" class=\"data row1 col58\" >35</td>\n",
       "      <td id=\"T_7ef71_row1_col59\" class=\"data row1 col59\" >68</td>\n",
       "      <td id=\"T_7ef71_row1_col60\" class=\"data row1 col60\" >77</td>\n",
       "      <td id=\"T_7ef71_row1_col61\" class=\"data row1 col61\" >43</td>\n",
       "      <td id=\"T_7ef71_row1_col62\" class=\"data row1 col62\" >80</td>\n",
       "      <td id=\"T_7ef71_row1_col63\" class=\"data row1 col63\" >16</td>\n",
       "      <td id=\"T_7ef71_row1_col64\" class=\"data row1 col64\" >29</td>\n",
       "      <td id=\"T_7ef71_row1_col65\" class=\"data row1 col65\" >30</td>\n",
       "      <td id=\"T_7ef71_row1_col66\" class=\"data row1 col66\" >12</td>\n",
       "      <td id=\"T_7ef71_row1_col67\" class=\"data row1 col67\" >70</td>\n",
       "      <td id=\"T_7ef71_row1_col68\" class=\"data row1 col68\" >47</td>\n",
       "      <td id=\"T_7ef71_row1_col69\" class=\"data row1 col69\" >70</td>\n",
       "      <td id=\"T_7ef71_row1_col70\" class=\"data row1 col70\" >17</td>\n",
       "      <td id=\"T_7ef71_row1_col71\" class=\"data row1 col71\" >10</td>\n",
       "      <td id=\"T_7ef71_row1_col72\" class=\"data row1 col72\" >11</td>\n",
       "      <td id=\"T_7ef71_row1_col73\" class=\"data row1 col73\" >87</td>\n",
       "      <td id=\"T_7ef71_row1_col74\" class=\"data row1 col74\" >87</td>\n",
       "      <td id=\"T_7ef71_row1_col75\" class=\"data row1 col75\" >91</td>\n",
       "      <td id=\"T_7ef71_row1_col76\" class=\"data row1 col76\" >85</td>\n",
       "      <td id=\"T_7ef71_row1_col77\" class=\"data row1 col77\" >87</td>\n",
       "      <td id=\"T_7ef71_row1_col78\" class=\"data row1 col78\" >nan</td>\n",
       "      <td id=\"T_7ef71_row1_col79\" class=\"data row1 col79\" >nan</td>\n",
       "      <td id=\"T_7ef71_row1_col80\" class=\"data row1 col80\" >nan</td>\n",
       "      <td id=\"T_7ef71_row1_col81\" class=\"data row1 col81\" >nan</td>\n",
       "      <td id=\"T_7ef71_row1_col82\" class=\"data row1 col82\" >nan</td>\n",
       "      <td id=\"T_7ef71_row1_col83\" class=\"data row1 col83\" >nan</td>\n",
       "      <td id=\"T_7ef71_row1_col84\" class=\"data row1 col84\" >nan</td>\n",
       "      <td id=\"T_7ef71_row1_col85\" class=\"data row1 col85\" >nan</td>\n",
       "      <td id=\"T_7ef71_row1_col86\" class=\"data row1 col86\" >nan</td>\n",
       "      <td id=\"T_7ef71_row1_col87\" class=\"data row1 col87\" >nan</td>\n",
       "      <td id=\"T_7ef71_row1_col88\" class=\"data row1 col88\" >nan</td>\n",
       "      <td id=\"T_7ef71_row1_col89\" class=\"data row1 col89\" >nan</td>\n",
       "      <td id=\"T_7ef71_row1_col90\" class=\"data row1 col90\" >nan</td>\n",
       "      <td id=\"T_7ef71_row1_col91\" class=\"data row1 col91\" >nan</td>\n",
       "      <td id=\"T_7ef71_row1_col92\" class=\"data row1 col92\" >nan</td>\n",
       "      <td id=\"T_7ef71_row1_col93\" class=\"data row1 col93\" >nan</td>\n",
       "      <td id=\"T_7ef71_row1_col94\" class=\"data row1 col94\" >nan</td>\n",
       "      <td id=\"T_7ef71_row1_col95\" class=\"data row1 col95\" >nan</td>\n",
       "      <td id=\"T_7ef71_row1_col96\" class=\"data row1 col96\" >nan</td>\n",
       "      <td id=\"T_7ef71_row1_col97\" class=\"data row1 col97\" >nan</td>\n",
       "      <td id=\"T_7ef71_row1_col98\" class=\"data row1 col98\" >nan</td>\n",
       "      <td id=\"T_7ef71_row1_col99\" class=\"data row1 col99\" >nan</td>\n",
       "      <td id=\"T_7ef71_row1_col100\" class=\"data row1 col100\" >nan</td>\n",
       "      <td id=\"T_7ef71_row1_col101\" class=\"data row1 col101\" >nan</td>\n",
       "      <td id=\"T_7ef71_row1_col102\" class=\"data row1 col102\" >nan</td>\n",
       "      <td id=\"T_7ef71_row1_col103\" class=\"data row1 col103\" >nan</td>\n",
       "    </tr>\n",
       "    <tr>\n",
       "      <td id=\"T_7ef71_row2_col0\" class=\"data row2 col0\" >182521</td>\n",
       "      <td id=\"T_7ef71_row2_col1\" class=\"data row2 col1\" >https://sofifa.com/player/182521/toni-kroos/20/159586</td>\n",
       "      <td id=\"T_7ef71_row2_col2\" class=\"data row2 col2\" >T. Kroos</td>\n",
       "      <td id=\"T_7ef71_row2_col3\" class=\"data row2 col3\" >Toni Kroos</td>\n",
       "      <td id=\"T_7ef71_row2_col4\" class=\"data row2 col4\" >29</td>\n",
       "      <td id=\"T_7ef71_row2_col5\" class=\"data row2 col5\" >1990-01-04</td>\n",
       "      <td id=\"T_7ef71_row2_col6\" class=\"data row2 col6\" >183</td>\n",
       "      <td id=\"T_7ef71_row2_col7\" class=\"data row2 col7\" >76</td>\n",
       "      <td id=\"T_7ef71_row2_col8\" class=\"data row2 col8\" >Germany</td>\n",
       "      <td id=\"T_7ef71_row2_col9\" class=\"data row2 col9\" >Real Madrid</td>\n",
       "      <td id=\"T_7ef71_row2_col10\" class=\"data row2 col10\" >88</td>\n",
       "      <td id=\"T_7ef71_row2_col11\" class=\"data row2 col11\" >88</td>\n",
       "      <td id=\"T_7ef71_row2_col12\" class=\"data row2 col12\" >57000000</td>\n",
       "      <td id=\"T_7ef71_row2_col13\" class=\"data row2 col13\" >330000</td>\n",
       "      <td id=\"T_7ef71_row2_col14\" class=\"data row2 col14\" >CM</td>\n",
       "      <td id=\"T_7ef71_row2_col15\" class=\"data row2 col15\" >Right</td>\n",
       "      <td id=\"T_7ef71_row2_col16\" class=\"data row2 col16\" >4</td>\n",
       "      <td id=\"T_7ef71_row2_col17\" class=\"data row2 col17\" >5</td>\n",
       "      <td id=\"T_7ef71_row2_col18\" class=\"data row2 col18\" >3</td>\n",
       "      <td id=\"T_7ef71_row2_col19\" class=\"data row2 col19\" >Medium/Medium</td>\n",
       "      <td id=\"T_7ef71_row2_col20\" class=\"data row2 col20\" >Normal</td>\n",
       "      <td id=\"T_7ef71_row2_col21\" class=\"data row2 col21\" >Yes</td>\n",
       "      <td id=\"T_7ef71_row2_col22\" class=\"data row2 col22\" >116900000.000000</td>\n",
       "      <td id=\"T_7ef71_row2_col23\" class=\"data row2 col23\" >#Playmaker  , #Crosser, #Complete Midfielder</td>\n",
       "      <td id=\"T_7ef71_row2_col24\" class=\"data row2 col24\" >LCM</td>\n",
       "      <td id=\"T_7ef71_row2_col25\" class=\"data row2 col25\" >8.000000</td>\n",
       "      <td id=\"T_7ef71_row2_col26\" class=\"data row2 col26\" >nan</td>\n",
       "      <td id=\"T_7ef71_row2_col27\" class=\"data row2 col27\" >2014-07-17</td>\n",
       "      <td id=\"T_7ef71_row2_col28\" class=\"data row2 col28\" >2023.000000</td>\n",
       "      <td id=\"T_7ef71_row2_col29\" class=\"data row2 col29\" >SUB</td>\n",
       "      <td id=\"T_7ef71_row2_col30\" class=\"data row2 col30\" >8.000000</td>\n",
       "      <td id=\"T_7ef71_row2_col31\" class=\"data row2 col31\" >45.000000</td>\n",
       "      <td id=\"T_7ef71_row2_col32\" class=\"data row2 col32\" >80.000000</td>\n",
       "      <td id=\"T_7ef71_row2_col33\" class=\"data row2 col33\" >90.000000</td>\n",
       "      <td id=\"T_7ef71_row2_col34\" class=\"data row2 col34\" >81.000000</td>\n",
       "      <td id=\"T_7ef71_row2_col35\" class=\"data row2 col35\" >70.000000</td>\n",
       "      <td id=\"T_7ef71_row2_col36\" class=\"data row2 col36\" >69.000000</td>\n",
       "      <td id=\"T_7ef71_row2_col37\" class=\"data row2 col37\" >nan</td>\n",
       "      <td id=\"T_7ef71_row2_col38\" class=\"data row2 col38\" >nan</td>\n",
       "      <td id=\"T_7ef71_row2_col39\" class=\"data row2 col39\" >nan</td>\n",
       "      <td id=\"T_7ef71_row2_col40\" class=\"data row2 col40\" >nan</td>\n",
       "      <td id=\"T_7ef71_row2_col41\" class=\"data row2 col41\" >nan</td>\n",
       "      <td id=\"T_7ef71_row2_col42\" class=\"data row2 col42\" >nan</td>\n",
       "      <td id=\"T_7ef71_row2_col43\" class=\"data row2 col43\" >Argues with Officials, Finesse Shot, Crowd Favourite</td>\n",
       "      <td id=\"T_7ef71_row2_col44\" class=\"data row2 col44\" >88</td>\n",
       "      <td id=\"T_7ef71_row2_col45\" class=\"data row2 col45\" >75</td>\n",
       "      <td id=\"T_7ef71_row2_col46\" class=\"data row2 col46\" >58</td>\n",
       "      <td id=\"T_7ef71_row2_col47\" class=\"data row2 col47\" >91</td>\n",
       "      <td id=\"T_7ef71_row2_col48\" class=\"data row2 col48\" >82</td>\n",
       "      <td id=\"T_7ef71_row2_col49\" class=\"data row2 col49\" >80</td>\n",
       "      <td id=\"T_7ef71_row2_col50\" class=\"data row2 col50\" >86</td>\n",
       "      <td id=\"T_7ef71_row2_col51\" class=\"data row2 col51\" >84</td>\n",
       "      <td id=\"T_7ef71_row2_col52\" class=\"data row2 col52\" >92</td>\n",
       "      <td id=\"T_7ef71_row2_col53\" class=\"data row2 col53\" >89</td>\n",
       "      <td id=\"T_7ef71_row2_col54\" class=\"data row2 col54\" >50</td>\n",
       "      <td id=\"T_7ef71_row2_col55\" class=\"data row2 col55\" >41</td>\n",
       "      <td id=\"T_7ef71_row2_col56\" class=\"data row2 col56\" >60</td>\n",
       "      <td id=\"T_7ef71_row2_col57\" class=\"data row2 col57\" >87</td>\n",
       "      <td id=\"T_7ef71_row2_col58\" class=\"data row2 col58\" >71</td>\n",
       "      <td id=\"T_7ef71_row2_col59\" class=\"data row2 col59\" >87</td>\n",
       "      <td id=\"T_7ef71_row2_col60\" class=\"data row2 col60\" >30</td>\n",
       "      <td id=\"T_7ef71_row2_col61\" class=\"data row2 col61\" >74</td>\n",
       "      <td id=\"T_7ef71_row2_col62\" class=\"data row2 col62\" >73</td>\n",
       "      <td id=\"T_7ef71_row2_col63\" class=\"data row2 col63\" >86</td>\n",
       "      <td id=\"T_7ef71_row2_col64\" class=\"data row2 col64\" >60</td>\n",
       "      <td id=\"T_7ef71_row2_col65\" class=\"data row2 col65\" >76</td>\n",
       "      <td id=\"T_7ef71_row2_col66\" class=\"data row2 col66\" >75</td>\n",
       "      <td id=\"T_7ef71_row2_col67\" class=\"data row2 col67\" >89</td>\n",
       "      <td id=\"T_7ef71_row2_col68\" class=\"data row2 col68\" >73</td>\n",
       "      <td id=\"T_7ef71_row2_col69\" class=\"data row2 col69\" >88</td>\n",
       "      <td id=\"T_7ef71_row2_col70\" class=\"data row2 col70\" >72</td>\n",
       "      <td id=\"T_7ef71_row2_col71\" class=\"data row2 col71\" >70</td>\n",
       "      <td id=\"T_7ef71_row2_col72\" class=\"data row2 col72\" >62</td>\n",
       "      <td id=\"T_7ef71_row2_col73\" class=\"data row2 col73\" >10</td>\n",
       "      <td id=\"T_7ef71_row2_col74\" class=\"data row2 col74\" >11</td>\n",
       "      <td id=\"T_7ef71_row2_col75\" class=\"data row2 col75\" >13</td>\n",
       "      <td id=\"T_7ef71_row2_col76\" class=\"data row2 col76\" >7</td>\n",
       "      <td id=\"T_7ef71_row2_col77\" class=\"data row2 col77\" >10</td>\n",
       "      <td id=\"T_7ef71_row2_col78\" class=\"data row2 col78\" >75+3</td>\n",
       "      <td id=\"T_7ef71_row2_col79\" class=\"data row2 col79\" >75+3</td>\n",
       "      <td id=\"T_7ef71_row2_col80\" class=\"data row2 col80\" >75+3</td>\n",
       "      <td id=\"T_7ef71_row2_col81\" class=\"data row2 col81\" >78+3</td>\n",
       "      <td id=\"T_7ef71_row2_col82\" class=\"data row2 col82\" >79+3</td>\n",
       "      <td id=\"T_7ef71_row2_col83\" class=\"data row2 col83\" >79+3</td>\n",
       "      <td id=\"T_7ef71_row2_col84\" class=\"data row2 col84\" >79+3</td>\n",
       "      <td id=\"T_7ef71_row2_col85\" class=\"data row2 col85\" >78+3</td>\n",
       "      <td id=\"T_7ef71_row2_col86\" class=\"data row2 col86\" >81+3</td>\n",
       "      <td id=\"T_7ef71_row2_col87\" class=\"data row2 col87\" >81+3</td>\n",
       "      <td id=\"T_7ef71_row2_col88\" class=\"data row2 col88\" >81+3</td>\n",
       "      <td id=\"T_7ef71_row2_col89\" class=\"data row2 col89\" >79+3</td>\n",
       "      <td id=\"T_7ef71_row2_col90\" class=\"data row2 col90\" >85+3</td>\n",
       "      <td id=\"T_7ef71_row2_col91\" class=\"data row2 col91\" >85+3</td>\n",
       "      <td id=\"T_7ef71_row2_col92\" class=\"data row2 col92\" >85+3</td>\n",
       "      <td id=\"T_7ef71_row2_col93\" class=\"data row2 col93\" >79+3</td>\n",
       "      <td id=\"T_7ef71_row2_col94\" class=\"data row2 col94\" >75+3</td>\n",
       "      <td id=\"T_7ef71_row2_col95\" class=\"data row2 col95\" >79+3</td>\n",
       "      <td id=\"T_7ef71_row2_col96\" class=\"data row2 col96\" >79+3</td>\n",
       "      <td id=\"T_7ef71_row2_col97\" class=\"data row2 col97\" >79+3</td>\n",
       "      <td id=\"T_7ef71_row2_col98\" class=\"data row2 col98\" >75+3</td>\n",
       "      <td id=\"T_7ef71_row2_col99\" class=\"data row2 col99\" >72+3</td>\n",
       "      <td id=\"T_7ef71_row2_col100\" class=\"data row2 col100\" >69+3</td>\n",
       "      <td id=\"T_7ef71_row2_col101\" class=\"data row2 col101\" >69+3</td>\n",
       "      <td id=\"T_7ef71_row2_col102\" class=\"data row2 col102\" >69+3</td>\n",
       "      <td id=\"T_7ef71_row2_col103\" class=\"data row2 col103\" >72+3</td>\n",
       "    </tr>\n",
       "    <tr>\n",
       "      <td id=\"T_7ef71_row3_col0\" class=\"data row3 col0\" >188350</td>\n",
       "      <td id=\"T_7ef71_row3_col1\" class=\"data row3 col1\" >https://sofifa.com/player/188350/marco-reus/20/159586</td>\n",
       "      <td id=\"T_7ef71_row3_col2\" class=\"data row3 col2\" >M. Reus</td>\n",
       "      <td id=\"T_7ef71_row3_col3\" class=\"data row3 col3\" >Marco Reus</td>\n",
       "      <td id=\"T_7ef71_row3_col4\" class=\"data row3 col4\" >30</td>\n",
       "      <td id=\"T_7ef71_row3_col5\" class=\"data row3 col5\" >1989-05-31</td>\n",
       "      <td id=\"T_7ef71_row3_col6\" class=\"data row3 col6\" >180</td>\n",
       "      <td id=\"T_7ef71_row3_col7\" class=\"data row3 col7\" >71</td>\n",
       "      <td id=\"T_7ef71_row3_col8\" class=\"data row3 col8\" >Germany</td>\n",
       "      <td id=\"T_7ef71_row3_col9\" class=\"data row3 col9\" >Borussia Dortmund</td>\n",
       "      <td id=\"T_7ef71_row3_col10\" class=\"data row3 col10\" >88</td>\n",
       "      <td id=\"T_7ef71_row3_col11\" class=\"data row3 col11\" >88</td>\n",
       "      <td id=\"T_7ef71_row3_col12\" class=\"data row3 col12\" >56000000</td>\n",
       "      <td id=\"T_7ef71_row3_col13\" class=\"data row3 col13\" >170000</td>\n",
       "      <td id=\"T_7ef71_row3_col14\" class=\"data row3 col14\" >CAM, LM, ST</td>\n",
       "      <td id=\"T_7ef71_row3_col15\" class=\"data row3 col15\" >Right</td>\n",
       "      <td id=\"T_7ef71_row3_col16\" class=\"data row3 col16\" >4</td>\n",
       "      <td id=\"T_7ef71_row3_col17\" class=\"data row3 col17\" >4</td>\n",
       "      <td id=\"T_7ef71_row3_col18\" class=\"data row3 col18\" >4</td>\n",
       "      <td id=\"T_7ef71_row3_col19\" class=\"data row3 col19\" >High/Medium</td>\n",
       "      <td id=\"T_7ef71_row3_col20\" class=\"data row3 col20\" >Lean</td>\n",
       "      <td id=\"T_7ef71_row3_col21\" class=\"data row3 col21\" >Yes</td>\n",
       "      <td id=\"T_7ef71_row3_col22\" class=\"data row3 col22\" >92400000.000000</td>\n",
       "      <td id=\"T_7ef71_row3_col23\" class=\"data row3 col23\" >#Dribbler, #Playmaker  , #Distance Shooter, #FK Specialist, #Acrobat, #Clinical Finisher, #Complete Midfielder, #Complete Forward</td>\n",
       "      <td id=\"T_7ef71_row3_col24\" class=\"data row3 col24\" >CAM</td>\n",
       "      <td id=\"T_7ef71_row3_col25\" class=\"data row3 col25\" >11.000000</td>\n",
       "      <td id=\"T_7ef71_row3_col26\" class=\"data row3 col26\" >nan</td>\n",
       "      <td id=\"T_7ef71_row3_col27\" class=\"data row3 col27\" >2012-07-01</td>\n",
       "      <td id=\"T_7ef71_row3_col28\" class=\"data row3 col28\" >2023.000000</td>\n",
       "      <td id=\"T_7ef71_row3_col29\" class=\"data row3 col29\" >ST</td>\n",
       "      <td id=\"T_7ef71_row3_col30\" class=\"data row3 col30\" >11.000000</td>\n",
       "      <td id=\"T_7ef71_row3_col31\" class=\"data row3 col31\" >85.000000</td>\n",
       "      <td id=\"T_7ef71_row3_col32\" class=\"data row3 col32\" >88.000000</td>\n",
       "      <td id=\"T_7ef71_row3_col33\" class=\"data row3 col33\" >84.000000</td>\n",
       "      <td id=\"T_7ef71_row3_col34\" class=\"data row3 col34\" >87.000000</td>\n",
       "      <td id=\"T_7ef71_row3_col35\" class=\"data row3 col35\" >45.000000</td>\n",
       "      <td id=\"T_7ef71_row3_col36\" class=\"data row3 col36\" >66.000000</td>\n",
       "      <td id=\"T_7ef71_row3_col37\" class=\"data row3 col37\" >nan</td>\n",
       "      <td id=\"T_7ef71_row3_col38\" class=\"data row3 col38\" >nan</td>\n",
       "      <td id=\"T_7ef71_row3_col39\" class=\"data row3 col39\" >nan</td>\n",
       "      <td id=\"T_7ef71_row3_col40\" class=\"data row3 col40\" >nan</td>\n",
       "      <td id=\"T_7ef71_row3_col41\" class=\"data row3 col41\" >nan</td>\n",
       "      <td id=\"T_7ef71_row3_col42\" class=\"data row3 col42\" >nan</td>\n",
       "      <td id=\"T_7ef71_row3_col43\" class=\"data row3 col43\" >Power Free-Kick, Avoids Using Weaker Foot, Beat Offside Trap, Argues with Officials, Early Crosser, Finesse Shot, Speed Dribbler (CPU AI Only)</td>\n",
       "      <td id=\"T_7ef71_row3_col44\" class=\"data row3 col44\" >82</td>\n",
       "      <td id=\"T_7ef71_row3_col45\" class=\"data row3 col45\" >87</td>\n",
       "      <td id=\"T_7ef71_row3_col46\" class=\"data row3 col46\" >49</td>\n",
       "      <td id=\"T_7ef71_row3_col47\" class=\"data row3 col47\" >86</td>\n",
       "      <td id=\"T_7ef71_row3_col48\" class=\"data row3 col48\" >90</td>\n",
       "      <td id=\"T_7ef71_row3_col49\" class=\"data row3 col49\" >87</td>\n",
       "      <td id=\"T_7ef71_row3_col50\" class=\"data row3 col50\" >89</td>\n",
       "      <td id=\"T_7ef71_row3_col51\" class=\"data row3 col51\" >86</td>\n",
       "      <td id=\"T_7ef71_row3_col52\" class=\"data row3 col52\" >77</td>\n",
       "      <td id=\"T_7ef71_row3_col53\" class=\"data row3 col53\" >88</td>\n",
       "      <td id=\"T_7ef71_row3_col54\" class=\"data row3 col54\" >85</td>\n",
       "      <td id=\"T_7ef71_row3_col55\" class=\"data row3 col55\" >85</td>\n",
       "      <td id=\"T_7ef71_row3_col56\" class=\"data row3 col56\" >86</td>\n",
       "      <td id=\"T_7ef71_row3_col57\" class=\"data row3 col57\" >87</td>\n",
       "      <td id=\"T_7ef71_row3_col58\" class=\"data row3 col58\" >84</td>\n",
       "      <td id=\"T_7ef71_row3_col59\" class=\"data row3 col59\" >88</td>\n",
       "      <td id=\"T_7ef71_row3_col60\" class=\"data row3 col60\" >71</td>\n",
       "      <td id=\"T_7ef71_row3_col61\" class=\"data row3 col61\" >76</td>\n",
       "      <td id=\"T_7ef71_row3_col62\" class=\"data row3 col62\" >67</td>\n",
       "      <td id=\"T_7ef71_row3_col63\" class=\"data row3 col63\" >87</td>\n",
       "      <td id=\"T_7ef71_row3_col64\" class=\"data row3 col64\" >51</td>\n",
       "      <td id=\"T_7ef71_row3_col65\" class=\"data row3 col65\" >48</td>\n",
       "      <td id=\"T_7ef71_row3_col66\" class=\"data row3 col66\" >89</td>\n",
       "      <td id=\"T_7ef71_row3_col67\" class=\"data row3 col67\" >86</td>\n",
       "      <td id=\"T_7ef71_row3_col68\" class=\"data row3 col68\" >90</td>\n",
       "      <td id=\"T_7ef71_row3_col69\" class=\"data row3 col69\" >85</td>\n",
       "      <td id=\"T_7ef71_row3_col70\" class=\"data row3 col70\" >49</td>\n",
       "      <td id=\"T_7ef71_row3_col71\" class=\"data row3 col71\" >37</td>\n",
       "      <td id=\"T_7ef71_row3_col72\" class=\"data row3 col72\" >45</td>\n",
       "      <td id=\"T_7ef71_row3_col73\" class=\"data row3 col73\" >12</td>\n",
       "      <td id=\"T_7ef71_row3_col74\" class=\"data row3 col74\" >12</td>\n",
       "      <td id=\"T_7ef71_row3_col75\" class=\"data row3 col75\" >13</td>\n",
       "      <td id=\"T_7ef71_row3_col76\" class=\"data row3 col76\" >13</td>\n",
       "      <td id=\"T_7ef71_row3_col77\" class=\"data row3 col77\" >11</td>\n",
       "      <td id=\"T_7ef71_row3_col78\" class=\"data row3 col78\" >82+3</td>\n",
       "      <td id=\"T_7ef71_row3_col79\" class=\"data row3 col79\" >82+3</td>\n",
       "      <td id=\"T_7ef71_row3_col80\" class=\"data row3 col80\" >82+3</td>\n",
       "      <td id=\"T_7ef71_row3_col81\" class=\"data row3 col81\" >86+3</td>\n",
       "      <td id=\"T_7ef71_row3_col82\" class=\"data row3 col82\" >86+3</td>\n",
       "      <td id=\"T_7ef71_row3_col83\" class=\"data row3 col83\" >86+3</td>\n",
       "      <td id=\"T_7ef71_row3_col84\" class=\"data row3 col84\" >86+3</td>\n",
       "      <td id=\"T_7ef71_row3_col85\" class=\"data row3 col85\" >86+3</td>\n",
       "      <td id=\"T_7ef71_row3_col86\" class=\"data row3 col86\" >86+3</td>\n",
       "      <td id=\"T_7ef71_row3_col87\" class=\"data row3 col87\" >86+3</td>\n",
       "      <td id=\"T_7ef71_row3_col88\" class=\"data row3 col88\" >86+3</td>\n",
       "      <td id=\"T_7ef71_row3_col89\" class=\"data row3 col89\" >85+3</td>\n",
       "      <td id=\"T_7ef71_row3_col90\" class=\"data row3 col90\" >80+3</td>\n",
       "      <td id=\"T_7ef71_row3_col91\" class=\"data row3 col91\" >80+3</td>\n",
       "      <td id=\"T_7ef71_row3_col92\" class=\"data row3 col92\" >80+3</td>\n",
       "      <td id=\"T_7ef71_row3_col93\" class=\"data row3 col93\" >85+3</td>\n",
       "      <td id=\"T_7ef71_row3_col94\" class=\"data row3 col94\" >69+3</td>\n",
       "      <td id=\"T_7ef71_row3_col95\" class=\"data row3 col95\" >65+3</td>\n",
       "      <td id=\"T_7ef71_row3_col96\" class=\"data row3 col96\" >65+3</td>\n",
       "      <td id=\"T_7ef71_row3_col97\" class=\"data row3 col97\" >65+3</td>\n",
       "      <td id=\"T_7ef71_row3_col98\" class=\"data row3 col98\" >69+3</td>\n",
       "      <td id=\"T_7ef71_row3_col99\" class=\"data row3 col99\" >64+3</td>\n",
       "      <td id=\"T_7ef71_row3_col100\" class=\"data row3 col100\" >55+3</td>\n",
       "      <td id=\"T_7ef71_row3_col101\" class=\"data row3 col101\" >55+3</td>\n",
       "      <td id=\"T_7ef71_row3_col102\" class=\"data row3 col102\" >55+3</td>\n",
       "      <td id=\"T_7ef71_row3_col103\" class=\"data row3 col103\" >64+3</td>\n",
       "    </tr>\n",
       "    <tr>\n",
       "      <td id=\"T_7ef71_row4_col0\" class=\"data row4 col0\" >178603</td>\n",
       "      <td id=\"T_7ef71_row4_col1\" class=\"data row4 col1\" >https://sofifa.com/player/178603/mats-hummels/20/159586</td>\n",
       "      <td id=\"T_7ef71_row4_col2\" class=\"data row4 col2\" >M. Hummels</td>\n",
       "      <td id=\"T_7ef71_row4_col3\" class=\"data row4 col3\" >Mats  Hummels</td>\n",
       "      <td id=\"T_7ef71_row4_col4\" class=\"data row4 col4\" >30</td>\n",
       "      <td id=\"T_7ef71_row4_col5\" class=\"data row4 col5\" >1988-12-16</td>\n",
       "      <td id=\"T_7ef71_row4_col6\" class=\"data row4 col6\" >191</td>\n",
       "      <td id=\"T_7ef71_row4_col7\" class=\"data row4 col7\" >94</td>\n",
       "      <td id=\"T_7ef71_row4_col8\" class=\"data row4 col8\" >Germany</td>\n",
       "      <td id=\"T_7ef71_row4_col9\" class=\"data row4 col9\" >Borussia Dortmund</td>\n",
       "      <td id=\"T_7ef71_row4_col10\" class=\"data row4 col10\" >87</td>\n",
       "      <td id=\"T_7ef71_row4_col11\" class=\"data row4 col11\" >87</td>\n",
       "      <td id=\"T_7ef71_row4_col12\" class=\"data row4 col12\" >41000000</td>\n",
       "      <td id=\"T_7ef71_row4_col13\" class=\"data row4 col13\" >130000</td>\n",
       "      <td id=\"T_7ef71_row4_col14\" class=\"data row4 col14\" >CB</td>\n",
       "      <td id=\"T_7ef71_row4_col15\" class=\"data row4 col15\" >Right</td>\n",
       "      <td id=\"T_7ef71_row4_col16\" class=\"data row4 col16\" >4</td>\n",
       "      <td id=\"T_7ef71_row4_col17\" class=\"data row4 col17\" >3</td>\n",
       "      <td id=\"T_7ef71_row4_col18\" class=\"data row4 col18\" >3</td>\n",
       "      <td id=\"T_7ef71_row4_col19\" class=\"data row4 col19\" >High/Medium</td>\n",
       "      <td id=\"T_7ef71_row4_col20\" class=\"data row4 col20\" >Normal</td>\n",
       "      <td id=\"T_7ef71_row4_col21\" class=\"data row4 col21\" >Yes</td>\n",
       "      <td id=\"T_7ef71_row4_col22\" class=\"data row4 col22\" >67700000.000000</td>\n",
       "      <td id=\"T_7ef71_row4_col23\" class=\"data row4 col23\" >#Tackling , #Tactician </td>\n",
       "      <td id=\"T_7ef71_row4_col24\" class=\"data row4 col24\" >LCB</td>\n",
       "      <td id=\"T_7ef71_row4_col25\" class=\"data row4 col25\" >15.000000</td>\n",
       "      <td id=\"T_7ef71_row4_col26\" class=\"data row4 col26\" >nan</td>\n",
       "      <td id=\"T_7ef71_row4_col27\" class=\"data row4 col27\" >2019-07-01</td>\n",
       "      <td id=\"T_7ef71_row4_col28\" class=\"data row4 col28\" >2022.000000</td>\n",
       "      <td id=\"T_7ef71_row4_col29\" class=\"data row4 col29\" >nan</td>\n",
       "      <td id=\"T_7ef71_row4_col30\" class=\"data row4 col30\" >nan</td>\n",
       "      <td id=\"T_7ef71_row4_col31\" class=\"data row4 col31\" >51.000000</td>\n",
       "      <td id=\"T_7ef71_row4_col32\" class=\"data row4 col32\" >58.000000</td>\n",
       "      <td id=\"T_7ef71_row4_col33\" class=\"data row4 col33\" >76.000000</td>\n",
       "      <td id=\"T_7ef71_row4_col34\" class=\"data row4 col34\" >72.000000</td>\n",
       "      <td id=\"T_7ef71_row4_col35\" class=\"data row4 col35\" >89.000000</td>\n",
       "      <td id=\"T_7ef71_row4_col36\" class=\"data row4 col36\" >76.000000</td>\n",
       "      <td id=\"T_7ef71_row4_col37\" class=\"data row4 col37\" >nan</td>\n",
       "      <td id=\"T_7ef71_row4_col38\" class=\"data row4 col38\" >nan</td>\n",
       "      <td id=\"T_7ef71_row4_col39\" class=\"data row4 col39\" >nan</td>\n",
       "      <td id=\"T_7ef71_row4_col40\" class=\"data row4 col40\" >nan</td>\n",
       "      <td id=\"T_7ef71_row4_col41\" class=\"data row4 col41\" >nan</td>\n",
       "      <td id=\"T_7ef71_row4_col42\" class=\"data row4 col42\" >nan</td>\n",
       "      <td id=\"T_7ef71_row4_col43\" class=\"data row4 col43\" >Avoids Using Weaker Foot, Leadership, Finesse Shot, Long Passer (CPU AI Only), Speed Dribbler (CPU AI Only)</td>\n",
       "      <td id=\"T_7ef71_row4_col44\" class=\"data row4 col44\" >64</td>\n",
       "      <td id=\"T_7ef71_row4_col45\" class=\"data row4 col45\" >55</td>\n",
       "      <td id=\"T_7ef71_row4_col46\" class=\"data row4 col46\" >87</td>\n",
       "      <td id=\"T_7ef71_row4_col47\" class=\"data row4 col47\" >81</td>\n",
       "      <td id=\"T_7ef71_row4_col48\" class=\"data row4 col48\" >60</td>\n",
       "      <td id=\"T_7ef71_row4_col49\" class=\"data row4 col49\" >68</td>\n",
       "      <td id=\"T_7ef71_row4_col50\" class=\"data row4 col50\" >65</td>\n",
       "      <td id=\"T_7ef71_row4_col51\" class=\"data row4 col51\" >53</td>\n",
       "      <td id=\"T_7ef71_row4_col52\" class=\"data row4 col52\" >85</td>\n",
       "      <td id=\"T_7ef71_row4_col53\" class=\"data row4 col53\" >81</td>\n",
       "      <td id=\"T_7ef71_row4_col54\" class=\"data row4 col54\" >46</td>\n",
       "      <td id=\"T_7ef71_row4_col55\" class=\"data row4 col55\" >55</td>\n",
       "      <td id=\"T_7ef71_row4_col56\" class=\"data row4 col56\" >64</td>\n",
       "      <td id=\"T_7ef71_row4_col57\" class=\"data row4 col57\" >87</td>\n",
       "      <td id=\"T_7ef71_row4_col58\" class=\"data row4 col58\" >59</td>\n",
       "      <td id=\"T_7ef71_row4_col59\" class=\"data row4 col59\" >71</td>\n",
       "      <td id=\"T_7ef71_row4_col60\" class=\"data row4 col60\" >68</td>\n",
       "      <td id=\"T_7ef71_row4_col61\" class=\"data row4 col61\" >65</td>\n",
       "      <td id=\"T_7ef71_row4_col62\" class=\"data row4 col62\" >85</td>\n",
       "      <td id=\"T_7ef71_row4_col63\" class=\"data row4 col63\" >51</td>\n",
       "      <td id=\"T_7ef71_row4_col64\" class=\"data row4 col64\" >71</td>\n",
       "      <td id=\"T_7ef71_row4_col65\" class=\"data row4 col65\" >89</td>\n",
       "      <td id=\"T_7ef71_row4_col66\" class=\"data row4 col66\" >56</td>\n",
       "      <td id=\"T_7ef71_row4_col67\" class=\"data row4 col67\" >79</td>\n",
       "      <td id=\"T_7ef71_row4_col68\" class=\"data row4 col68\" >68</td>\n",
       "      <td id=\"T_7ef71_row4_col69\" class=\"data row4 col69\" >89</td>\n",
       "      <td id=\"T_7ef71_row4_col70\" class=\"data row4 col70\" >90</td>\n",
       "      <td id=\"T_7ef71_row4_col71\" class=\"data row4 col71\" >89</td>\n",
       "      <td id=\"T_7ef71_row4_col72\" class=\"data row4 col72\" >86</td>\n",
       "      <td id=\"T_7ef71_row4_col73\" class=\"data row4 col73\" >15</td>\n",
       "      <td id=\"T_7ef71_row4_col74\" class=\"data row4 col74\" >6</td>\n",
       "      <td id=\"T_7ef71_row4_col75\" class=\"data row4 col75\" >10</td>\n",
       "      <td id=\"T_7ef71_row4_col76\" class=\"data row4 col76\" >5</td>\n",
       "      <td id=\"T_7ef71_row4_col77\" class=\"data row4 col77\" >6</td>\n",
       "      <td id=\"T_7ef71_row4_col78\" class=\"data row4 col78\" >68+3</td>\n",
       "      <td id=\"T_7ef71_row4_col79\" class=\"data row4 col79\" >68+3</td>\n",
       "      <td id=\"T_7ef71_row4_col80\" class=\"data row4 col80\" >68+3</td>\n",
       "      <td id=\"T_7ef71_row4_col81\" class=\"data row4 col81\" >67+3</td>\n",
       "      <td id=\"T_7ef71_row4_col82\" class=\"data row4 col82\" >68+3</td>\n",
       "      <td id=\"T_7ef71_row4_col83\" class=\"data row4 col83\" >68+3</td>\n",
       "      <td id=\"T_7ef71_row4_col84\" class=\"data row4 col84\" >68+3</td>\n",
       "      <td id=\"T_7ef71_row4_col85\" class=\"data row4 col85\" >67+3</td>\n",
       "      <td id=\"T_7ef71_row4_col86\" class=\"data row4 col86\" >71+3</td>\n",
       "      <td id=\"T_7ef71_row4_col87\" class=\"data row4 col87\" >71+3</td>\n",
       "      <td id=\"T_7ef71_row4_col88\" class=\"data row4 col88\" >71+3</td>\n",
       "      <td id=\"T_7ef71_row4_col89\" class=\"data row4 col89\" >69+3</td>\n",
       "      <td id=\"T_7ef71_row4_col90\" class=\"data row4 col90\" >77+3</td>\n",
       "      <td id=\"T_7ef71_row4_col91\" class=\"data row4 col91\" >77+3</td>\n",
       "      <td id=\"T_7ef71_row4_col92\" class=\"data row4 col92\" >77+3</td>\n",
       "      <td id=\"T_7ef71_row4_col93\" class=\"data row4 col93\" >69+3</td>\n",
       "      <td id=\"T_7ef71_row4_col94\" class=\"data row4 col94\" >77+3</td>\n",
       "      <td id=\"T_7ef71_row4_col95\" class=\"data row4 col95\" >83+3</td>\n",
       "      <td id=\"T_7ef71_row4_col96\" class=\"data row4 col96\" >83+3</td>\n",
       "      <td id=\"T_7ef71_row4_col97\" class=\"data row4 col97\" >83+3</td>\n",
       "      <td id=\"T_7ef71_row4_col98\" class=\"data row4 col98\" >77+3</td>\n",
       "      <td id=\"T_7ef71_row4_col99\" class=\"data row4 col99\" >78+3</td>\n",
       "      <td id=\"T_7ef71_row4_col100\" class=\"data row4 col100\" >84+3</td>\n",
       "      <td id=\"T_7ef71_row4_col101\" class=\"data row4 col101\" >84+3</td>\n",
       "      <td id=\"T_7ef71_row4_col102\" class=\"data row4 col102\" >84+3</td>\n",
       "      <td id=\"T_7ef71_row4_col103\" class=\"data row4 col103\" >78+3</td>\n",
       "    </tr>\n",
       "    <tr>\n",
       "      <td id=\"T_7ef71_row5_col0\" class=\"data row5 col0\" >222492</td>\n",
       "      <td id=\"T_7ef71_row5_col1\" class=\"data row5 col1\" >https://sofifa.com/player/222492/leroy-sane/20/159586</td>\n",
       "      <td id=\"T_7ef71_row5_col2\" class=\"data row5 col2\" >L. Sané</td>\n",
       "      <td id=\"T_7ef71_row5_col3\" class=\"data row5 col3\" >Leroy Sané</td>\n",
       "      <td id=\"T_7ef71_row5_col4\" class=\"data row5 col4\" >23</td>\n",
       "      <td id=\"T_7ef71_row5_col5\" class=\"data row5 col5\" >1996-01-11</td>\n",
       "      <td id=\"T_7ef71_row5_col6\" class=\"data row5 col6\" >183</td>\n",
       "      <td id=\"T_7ef71_row5_col7\" class=\"data row5 col7\" >75</td>\n",
       "      <td id=\"T_7ef71_row5_col8\" class=\"data row5 col8\" >Germany</td>\n",
       "      <td id=\"T_7ef71_row5_col9\" class=\"data row5 col9\" >Manchester City</td>\n",
       "      <td id=\"T_7ef71_row5_col10\" class=\"data row5 col10\" >86</td>\n",
       "      <td id=\"T_7ef71_row5_col11\" class=\"data row5 col11\" >92</td>\n",
       "      <td id=\"T_7ef71_row5_col12\" class=\"data row5 col12\" >61000000</td>\n",
       "      <td id=\"T_7ef71_row5_col13\" class=\"data row5 col13\" >195000</td>\n",
       "      <td id=\"T_7ef71_row5_col14\" class=\"data row5 col14\" >LW</td>\n",
       "      <td id=\"T_7ef71_row5_col15\" class=\"data row5 col15\" >Left</td>\n",
       "      <td id=\"T_7ef71_row5_col16\" class=\"data row5 col16\" >2</td>\n",
       "      <td id=\"T_7ef71_row5_col17\" class=\"data row5 col17\" >3</td>\n",
       "      <td id=\"T_7ef71_row5_col18\" class=\"data row5 col18\" >4</td>\n",
       "      <td id=\"T_7ef71_row5_col19\" class=\"data row5 col19\" >High/Medium</td>\n",
       "      <td id=\"T_7ef71_row5_col20\" class=\"data row5 col20\" >Lean</td>\n",
       "      <td id=\"T_7ef71_row5_col21\" class=\"data row5 col21\" >Yes</td>\n",
       "      <td id=\"T_7ef71_row5_col22\" class=\"data row5 col22\" >125100000.000000</td>\n",
       "      <td id=\"T_7ef71_row5_col23\" class=\"data row5 col23\" >#Speedster, #Dribbler, #Acrobat</td>\n",
       "      <td id=\"T_7ef71_row5_col24\" class=\"data row5 col24\" >SUB</td>\n",
       "      <td id=\"T_7ef71_row5_col25\" class=\"data row5 col25\" >19.000000</td>\n",
       "      <td id=\"T_7ef71_row5_col26\" class=\"data row5 col26\" >nan</td>\n",
       "      <td id=\"T_7ef71_row5_col27\" class=\"data row5 col27\" >2016-08-02</td>\n",
       "      <td id=\"T_7ef71_row5_col28\" class=\"data row5 col28\" >2021.000000</td>\n",
       "      <td id=\"T_7ef71_row5_col29\" class=\"data row5 col29\" >LW</td>\n",
       "      <td id=\"T_7ef71_row5_col30\" class=\"data row5 col30\" >19.000000</td>\n",
       "      <td id=\"T_7ef71_row5_col31\" class=\"data row5 col31\" >95.000000</td>\n",
       "      <td id=\"T_7ef71_row5_col32\" class=\"data row5 col32\" >81.000000</td>\n",
       "      <td id=\"T_7ef71_row5_col33\" class=\"data row5 col33\" >79.000000</td>\n",
       "      <td id=\"T_7ef71_row5_col34\" class=\"data row5 col34\" >86.000000</td>\n",
       "      <td id=\"T_7ef71_row5_col35\" class=\"data row5 col35\" >38.000000</td>\n",
       "      <td id=\"T_7ef71_row5_col36\" class=\"data row5 col36\" >70.000000</td>\n",
       "      <td id=\"T_7ef71_row5_col37\" class=\"data row5 col37\" >nan</td>\n",
       "      <td id=\"T_7ef71_row5_col38\" class=\"data row5 col38\" >nan</td>\n",
       "      <td id=\"T_7ef71_row5_col39\" class=\"data row5 col39\" >nan</td>\n",
       "      <td id=\"T_7ef71_row5_col40\" class=\"data row5 col40\" >nan</td>\n",
       "      <td id=\"T_7ef71_row5_col41\" class=\"data row5 col41\" >nan</td>\n",
       "      <td id=\"T_7ef71_row5_col42\" class=\"data row5 col42\" >nan</td>\n",
       "      <td id=\"T_7ef71_row5_col43\" class=\"data row5 col43\" >Long Throw-in, Selfish, Early Crosser</td>\n",
       "      <td id=\"T_7ef71_row5_col44\" class=\"data row5 col44\" >83</td>\n",
       "      <td id=\"T_7ef71_row5_col45\" class=\"data row5 col45\" >81</td>\n",
       "      <td id=\"T_7ef71_row5_col46\" class=\"data row5 col46\" >72</td>\n",
       "      <td id=\"T_7ef71_row5_col47\" class=\"data row5 col47\" >80</td>\n",
       "      <td id=\"T_7ef71_row5_col48\" class=\"data row5 col48\" >85</td>\n",
       "      <td id=\"T_7ef71_row5_col49\" class=\"data row5 col49\" >88</td>\n",
       "      <td id=\"T_7ef71_row5_col50\" class=\"data row5 col50\" >83</td>\n",
       "      <td id=\"T_7ef71_row5_col51\" class=\"data row5 col51\" >82</td>\n",
       "      <td id=\"T_7ef71_row5_col52\" class=\"data row5 col52\" >64</td>\n",
       "      <td id=\"T_7ef71_row5_col53\" class=\"data row5 col53\" >85</td>\n",
       "      <td id=\"T_7ef71_row5_col54\" class=\"data row5 col54\" >93</td>\n",
       "      <td id=\"T_7ef71_row5_col55\" class=\"data row5 col55\" >96</td>\n",
       "      <td id=\"T_7ef71_row5_col56\" class=\"data row5 col56\" >86</td>\n",
       "      <td id=\"T_7ef71_row5_col57\" class=\"data row5 col57\" >81</td>\n",
       "      <td id=\"T_7ef71_row5_col58\" class=\"data row5 col58\" >80</td>\n",
       "      <td id=\"T_7ef71_row5_col59\" class=\"data row5 col59\" >87</td>\n",
       "      <td id=\"T_7ef71_row5_col60\" class=\"data row5 col60\" >64</td>\n",
       "      <td id=\"T_7ef71_row5_col61\" class=\"data row5 col61\" >78</td>\n",
       "      <td id=\"T_7ef71_row5_col62\" class=\"data row5 col62\" >70</td>\n",
       "      <td id=\"T_7ef71_row5_col63\" class=\"data row5 col63\" >78</td>\n",
       "      <td id=\"T_7ef71_row5_col64\" class=\"data row5 col64\" >61</td>\n",
       "      <td id=\"T_7ef71_row5_col65\" class=\"data row5 col65\" >34</td>\n",
       "      <td id=\"T_7ef71_row5_col66\" class=\"data row5 col66\" >84</td>\n",
       "      <td id=\"T_7ef71_row5_col67\" class=\"data row5 col67\" >82</td>\n",
       "      <td id=\"T_7ef71_row5_col68\" class=\"data row5 col68\" >71</td>\n",
       "      <td id=\"T_7ef71_row5_col69\" class=\"data row5 col69\" >80</td>\n",
       "      <td id=\"T_7ef71_row5_col70\" class=\"data row5 col70\" >36</td>\n",
       "      <td id=\"T_7ef71_row5_col71\" class=\"data row5 col71\" >32</td>\n",
       "      <td id=\"T_7ef71_row5_col72\" class=\"data row5 col72\" >35</td>\n",
       "      <td id=\"T_7ef71_row5_col73\" class=\"data row5 col73\" >8</td>\n",
       "      <td id=\"T_7ef71_row5_col74\" class=\"data row5 col74\" >12</td>\n",
       "      <td id=\"T_7ef71_row5_col75\" class=\"data row5 col75\" >9</td>\n",
       "      <td id=\"T_7ef71_row5_col76\" class=\"data row5 col76\" >9</td>\n",
       "      <td id=\"T_7ef71_row5_col77\" class=\"data row5 col77\" >14</td>\n",
       "      <td id=\"T_7ef71_row5_col78\" class=\"data row5 col78\" >82+2</td>\n",
       "      <td id=\"T_7ef71_row5_col79\" class=\"data row5 col79\" >82+2</td>\n",
       "      <td id=\"T_7ef71_row5_col80\" class=\"data row5 col80\" >82+2</td>\n",
       "      <td id=\"T_7ef71_row5_col81\" class=\"data row5 col81\" >84+2</td>\n",
       "      <td id=\"T_7ef71_row5_col82\" class=\"data row5 col82\" >84+2</td>\n",
       "      <td id=\"T_7ef71_row5_col83\" class=\"data row5 col83\" >84+2</td>\n",
       "      <td id=\"T_7ef71_row5_col84\" class=\"data row5 col84\" >84+2</td>\n",
       "      <td id=\"T_7ef71_row5_col85\" class=\"data row5 col85\" >84+2</td>\n",
       "      <td id=\"T_7ef71_row5_col86\" class=\"data row5 col86\" >83+2</td>\n",
       "      <td id=\"T_7ef71_row5_col87\" class=\"data row5 col87\" >83+2</td>\n",
       "      <td id=\"T_7ef71_row5_col88\" class=\"data row5 col88\" >83+2</td>\n",
       "      <td id=\"T_7ef71_row5_col89\" class=\"data row5 col89\" >83+2</td>\n",
       "      <td id=\"T_7ef71_row5_col90\" class=\"data row5 col90\" >74+2</td>\n",
       "      <td id=\"T_7ef71_row5_col91\" class=\"data row5 col91\" >74+2</td>\n",
       "      <td id=\"T_7ef71_row5_col92\" class=\"data row5 col92\" >74+2</td>\n",
       "      <td id=\"T_7ef71_row5_col93\" class=\"data row5 col93\" >83+2</td>\n",
       "      <td id=\"T_7ef71_row5_col94\" class=\"data row5 col94\" >65+2</td>\n",
       "      <td id=\"T_7ef71_row5_col95\" class=\"data row5 col95\" >59+2</td>\n",
       "      <td id=\"T_7ef71_row5_col96\" class=\"data row5 col96\" >59+2</td>\n",
       "      <td id=\"T_7ef71_row5_col97\" class=\"data row5 col97\" >59+2</td>\n",
       "      <td id=\"T_7ef71_row5_col98\" class=\"data row5 col98\" >65+2</td>\n",
       "      <td id=\"T_7ef71_row5_col99\" class=\"data row5 col99\" >61+2</td>\n",
       "      <td id=\"T_7ef71_row5_col100\" class=\"data row5 col100\" >52+2</td>\n",
       "      <td id=\"T_7ef71_row5_col101\" class=\"data row5 col101\" >52+2</td>\n",
       "      <td id=\"T_7ef71_row5_col102\" class=\"data row5 col102\" >52+2</td>\n",
       "      <td id=\"T_7ef71_row5_col103\" class=\"data row5 col103\" >61+2</td>\n",
       "    </tr>\n",
       "    <tr>\n",
       "      <td id=\"T_7ef71_row6_col0\" class=\"data row6 col0\" >212622</td>\n",
       "      <td id=\"T_7ef71_row6_col1\" class=\"data row6 col1\" >https://sofifa.com/player/212622/joshua-kimmich/20/159586</td>\n",
       "      <td id=\"T_7ef71_row6_col2\" class=\"data row6 col2\" >J. Kimmich</td>\n",
       "      <td id=\"T_7ef71_row6_col3\" class=\"data row6 col3\" >Joshua Kimmich</td>\n",
       "      <td id=\"T_7ef71_row6_col4\" class=\"data row6 col4\" >24</td>\n",
       "      <td id=\"T_7ef71_row6_col5\" class=\"data row6 col5\" >1995-02-08</td>\n",
       "      <td id=\"T_7ef71_row6_col6\" class=\"data row6 col6\" >176</td>\n",
       "      <td id=\"T_7ef71_row6_col7\" class=\"data row6 col7\" >73</td>\n",
       "      <td id=\"T_7ef71_row6_col8\" class=\"data row6 col8\" >Germany</td>\n",
       "      <td id=\"T_7ef71_row6_col9\" class=\"data row6 col9\" >FC Bayern München</td>\n",
       "      <td id=\"T_7ef71_row6_col10\" class=\"data row6 col10\" >86</td>\n",
       "      <td id=\"T_7ef71_row6_col11\" class=\"data row6 col11\" >88</td>\n",
       "      <td id=\"T_7ef71_row6_col12\" class=\"data row6 col12\" >48000000</td>\n",
       "      <td id=\"T_7ef71_row6_col13\" class=\"data row6 col13\" >125000</td>\n",
       "      <td id=\"T_7ef71_row6_col14\" class=\"data row6 col14\" >RB, CM, CDM</td>\n",
       "      <td id=\"T_7ef71_row6_col15\" class=\"data row6 col15\" >Right</td>\n",
       "      <td id=\"T_7ef71_row6_col16\" class=\"data row6 col16\" >3</td>\n",
       "      <td id=\"T_7ef71_row6_col17\" class=\"data row6 col17\" >4</td>\n",
       "      <td id=\"T_7ef71_row6_col18\" class=\"data row6 col18\" >3</td>\n",
       "      <td id=\"T_7ef71_row6_col19\" class=\"data row6 col19\" >High/Low</td>\n",
       "      <td id=\"T_7ef71_row6_col20\" class=\"data row6 col20\" >Lean</td>\n",
       "      <td id=\"T_7ef71_row6_col21\" class=\"data row6 col21\" >Yes</td>\n",
       "      <td id=\"T_7ef71_row6_col22\" class=\"data row6 col22\" >82800000.000000</td>\n",
       "      <td id=\"T_7ef71_row6_col23\" class=\"data row6 col23\" >#Crosser</td>\n",
       "      <td id=\"T_7ef71_row6_col24\" class=\"data row6 col24\" >RB</td>\n",
       "      <td id=\"T_7ef71_row6_col25\" class=\"data row6 col25\" >32.000000</td>\n",
       "      <td id=\"T_7ef71_row6_col26\" class=\"data row6 col26\" >nan</td>\n",
       "      <td id=\"T_7ef71_row6_col27\" class=\"data row6 col27\" >2015-07-01</td>\n",
       "      <td id=\"T_7ef71_row6_col28\" class=\"data row6 col28\" >2023.000000</td>\n",
       "      <td id=\"T_7ef71_row6_col29\" class=\"data row6 col29\" >CDM</td>\n",
       "      <td id=\"T_7ef71_row6_col30\" class=\"data row6 col30\" >6.000000</td>\n",
       "      <td id=\"T_7ef71_row6_col31\" class=\"data row6 col31\" >72.000000</td>\n",
       "      <td id=\"T_7ef71_row6_col32\" class=\"data row6 col32\" >69.000000</td>\n",
       "      <td id=\"T_7ef71_row6_col33\" class=\"data row6 col33\" >86.000000</td>\n",
       "      <td id=\"T_7ef71_row6_col34\" class=\"data row6 col34\" >84.000000</td>\n",
       "      <td id=\"T_7ef71_row6_col35\" class=\"data row6 col35\" >79.000000</td>\n",
       "      <td id=\"T_7ef71_row6_col36\" class=\"data row6 col36\" >78.000000</td>\n",
       "      <td id=\"T_7ef71_row6_col37\" class=\"data row6 col37\" >nan</td>\n",
       "      <td id=\"T_7ef71_row6_col38\" class=\"data row6 col38\" >nan</td>\n",
       "      <td id=\"T_7ef71_row6_col39\" class=\"data row6 col39\" >nan</td>\n",
       "      <td id=\"T_7ef71_row6_col40\" class=\"data row6 col40\" >nan</td>\n",
       "      <td id=\"T_7ef71_row6_col41\" class=\"data row6 col41\" >nan</td>\n",
       "      <td id=\"T_7ef71_row6_col42\" class=\"data row6 col42\" >nan</td>\n",
       "      <td id=\"T_7ef71_row6_col43\" class=\"data row6 col43\" >nan</td>\n",
       "      <td id=\"T_7ef71_row6_col44\" class=\"data row6 col44\" >91</td>\n",
       "      <td id=\"T_7ef71_row6_col45\" class=\"data row6 col45\" >66</td>\n",
       "      <td id=\"T_7ef71_row6_col46\" class=\"data row6 col46\" >74</td>\n",
       "      <td id=\"T_7ef71_row6_col47\" class=\"data row6 col47\" >87</td>\n",
       "      <td id=\"T_7ef71_row6_col48\" class=\"data row6 col48\" >67</td>\n",
       "      <td id=\"T_7ef71_row6_col49\" class=\"data row6 col49\" >83</td>\n",
       "      <td id=\"T_7ef71_row6_col50\" class=\"data row6 col50\" >85</td>\n",
       "      <td id=\"T_7ef71_row6_col51\" class=\"data row6 col51\" >61</td>\n",
       "      <td id=\"T_7ef71_row6_col52\" class=\"data row6 col52\" >85</td>\n",
       "      <td id=\"T_7ef71_row6_col53\" class=\"data row6 col53\" >85</td>\n",
       "      <td id=\"T_7ef71_row6_col54\" class=\"data row6 col54\" >77</td>\n",
       "      <td id=\"T_7ef71_row6_col55\" class=\"data row6 col55\" >68</td>\n",
       "      <td id=\"T_7ef71_row6_col56\" class=\"data row6 col56\" >84</td>\n",
       "      <td id=\"T_7ef71_row6_col57\" class=\"data row6 col57\" >87</td>\n",
       "      <td id=\"T_7ef71_row6_col58\" class=\"data row6 col58\" >84</td>\n",
       "      <td id=\"T_7ef71_row6_col59\" class=\"data row6 col59\" >76</td>\n",
       "      <td id=\"T_7ef71_row6_col60\" class=\"data row6 col60\" >79</td>\n",
       "      <td id=\"T_7ef71_row6_col61\" class=\"data row6 col61\" >94</td>\n",
       "      <td id=\"T_7ef71_row6_col62\" class=\"data row6 col62\" >66</td>\n",
       "      <td id=\"T_7ef71_row6_col63\" class=\"data row6 col63\" >71</td>\n",
       "      <td id=\"T_7ef71_row6_col64\" class=\"data row6 col64\" >86</td>\n",
       "      <td id=\"T_7ef71_row6_col65\" class=\"data row6 col65\" >80</td>\n",
       "      <td id=\"T_7ef71_row6_col66\" class=\"data row6 col66\" >80</td>\n",
       "      <td id=\"T_7ef71_row6_col67\" class=\"data row6 col67\" >84</td>\n",
       "      <td id=\"T_7ef71_row6_col68\" class=\"data row6 col68\" >44</td>\n",
       "      <td id=\"T_7ef71_row6_col69\" class=\"data row6 col69\" >85</td>\n",
       "      <td id=\"T_7ef71_row6_col70\" class=\"data row6 col70\" >78</td>\n",
       "      <td id=\"T_7ef71_row6_col71\" class=\"data row6 col71\" >80</td>\n",
       "      <td id=\"T_7ef71_row6_col72\" class=\"data row6 col72\" >79</td>\n",
       "      <td id=\"T_7ef71_row6_col73\" class=\"data row6 col73\" >8</td>\n",
       "      <td id=\"T_7ef71_row6_col74\" class=\"data row6 col74\" >15</td>\n",
       "      <td id=\"T_7ef71_row6_col75\" class=\"data row6 col75\" >7</td>\n",
       "      <td id=\"T_7ef71_row6_col76\" class=\"data row6 col76\" >15</td>\n",
       "      <td id=\"T_7ef71_row6_col77\" class=\"data row6 col77\" >15</td>\n",
       "      <td id=\"T_7ef71_row6_col78\" class=\"data row6 col78\" >76+3</td>\n",
       "      <td id=\"T_7ef71_row6_col79\" class=\"data row6 col79\" >76+3</td>\n",
       "      <td id=\"T_7ef71_row6_col80\" class=\"data row6 col80\" >76+3</td>\n",
       "      <td id=\"T_7ef71_row6_col81\" class=\"data row6 col81\" >80+3</td>\n",
       "      <td id=\"T_7ef71_row6_col82\" class=\"data row6 col82\" >79+3</td>\n",
       "      <td id=\"T_7ef71_row6_col83\" class=\"data row6 col83\" >79+3</td>\n",
       "      <td id=\"T_7ef71_row6_col84\" class=\"data row6 col84\" >79+3</td>\n",
       "      <td id=\"T_7ef71_row6_col85\" class=\"data row6 col85\" >80+3</td>\n",
       "      <td id=\"T_7ef71_row6_col86\" class=\"data row6 col86\" >81+3</td>\n",
       "      <td id=\"T_7ef71_row6_col87\" class=\"data row6 col87\" >81+3</td>\n",
       "      <td id=\"T_7ef71_row6_col88\" class=\"data row6 col88\" >81+3</td>\n",
       "      <td id=\"T_7ef71_row6_col89\" class=\"data row6 col89\" >82+3</td>\n",
       "      <td id=\"T_7ef71_row6_col90\" class=\"data row6 col90\" >84+3</td>\n",
       "      <td id=\"T_7ef71_row6_col91\" class=\"data row6 col91\" >84+3</td>\n",
       "      <td id=\"T_7ef71_row6_col92\" class=\"data row6 col92\" >84+3</td>\n",
       "      <td id=\"T_7ef71_row6_col93\" class=\"data row6 col93\" >82+3</td>\n",
       "      <td id=\"T_7ef71_row6_col94\" class=\"data row6 col94\" >83+3</td>\n",
       "      <td id=\"T_7ef71_row6_col95\" class=\"data row6 col95\" >82+3</td>\n",
       "      <td id=\"T_7ef71_row6_col96\" class=\"data row6 col96\" >82+3</td>\n",
       "      <td id=\"T_7ef71_row6_col97\" class=\"data row6 col97\" >82+3</td>\n",
       "      <td id=\"T_7ef71_row6_col98\" class=\"data row6 col98\" >83+3</td>\n",
       "      <td id=\"T_7ef71_row6_col99\" class=\"data row6 col99\" >81+3</td>\n",
       "      <td id=\"T_7ef71_row6_col100\" class=\"data row6 col100\" >78+3</td>\n",
       "      <td id=\"T_7ef71_row6_col101\" class=\"data row6 col101\" >78+3</td>\n",
       "      <td id=\"T_7ef71_row6_col102\" class=\"data row6 col102\" >78+3</td>\n",
       "      <td id=\"T_7ef71_row6_col103\" class=\"data row6 col103\" >81+3</td>\n",
       "    </tr>\n",
       "    <tr>\n",
       "      <td id=\"T_7ef71_row7_col0\" class=\"data row7 col0\" >189596</td>\n",
       "      <td id=\"T_7ef71_row7_col1\" class=\"data row7 col1\" >https://sofifa.com/player/189596/thomas-muller/20/159586</td>\n",
       "      <td id=\"T_7ef71_row7_col2\" class=\"data row7 col2\" >T. Müller</td>\n",
       "      <td id=\"T_7ef71_row7_col3\" class=\"data row7 col3\" >Thomas Müller</td>\n",
       "      <td id=\"T_7ef71_row7_col4\" class=\"data row7 col4\" >29</td>\n",
       "      <td id=\"T_7ef71_row7_col5\" class=\"data row7 col5\" >1989-09-13</td>\n",
       "      <td id=\"T_7ef71_row7_col6\" class=\"data row7 col6\" >186</td>\n",
       "      <td id=\"T_7ef71_row7_col7\" class=\"data row7 col7\" >75</td>\n",
       "      <td id=\"T_7ef71_row7_col8\" class=\"data row7 col8\" >Germany</td>\n",
       "      <td id=\"T_7ef71_row7_col9\" class=\"data row7 col9\" >FC Bayern München</td>\n",
       "      <td id=\"T_7ef71_row7_col10\" class=\"data row7 col10\" >86</td>\n",
       "      <td id=\"T_7ef71_row7_col11\" class=\"data row7 col11\" >86</td>\n",
       "      <td id=\"T_7ef71_row7_col12\" class=\"data row7 col12\" >43500000</td>\n",
       "      <td id=\"T_7ef71_row7_col13\" class=\"data row7 col13\" >170000</td>\n",
       "      <td id=\"T_7ef71_row7_col14\" class=\"data row7 col14\" >CAM, RM, RW</td>\n",
       "      <td id=\"T_7ef71_row7_col15\" class=\"data row7 col15\" >Right</td>\n",
       "      <td id=\"T_7ef71_row7_col16\" class=\"data row7 col16\" >4</td>\n",
       "      <td id=\"T_7ef71_row7_col17\" class=\"data row7 col17\" >4</td>\n",
       "      <td id=\"T_7ef71_row7_col18\" class=\"data row7 col18\" >3</td>\n",
       "      <td id=\"T_7ef71_row7_col19\" class=\"data row7 col19\" >High/High</td>\n",
       "      <td id=\"T_7ef71_row7_col20\" class=\"data row7 col20\" >Lean</td>\n",
       "      <td id=\"T_7ef71_row7_col21\" class=\"data row7 col21\" >Yes</td>\n",
       "      <td id=\"T_7ef71_row7_col22\" class=\"data row7 col22\" >71800000.000000</td>\n",
       "      <td id=\"T_7ef71_row7_col23\" class=\"data row7 col23\" >#Engine, #Clinical Finisher</td>\n",
       "      <td id=\"T_7ef71_row7_col24\" class=\"data row7 col24\" >SUB</td>\n",
       "      <td id=\"T_7ef71_row7_col25\" class=\"data row7 col25\" >25.000000</td>\n",
       "      <td id=\"T_7ef71_row7_col26\" class=\"data row7 col26\" >nan</td>\n",
       "      <td id=\"T_7ef71_row7_col27\" class=\"data row7 col27\" >2008-08-10</td>\n",
       "      <td id=\"T_7ef71_row7_col28\" class=\"data row7 col28\" >2021.000000</td>\n",
       "      <td id=\"T_7ef71_row7_col29\" class=\"data row7 col29\" >nan</td>\n",
       "      <td id=\"T_7ef71_row7_col30\" class=\"data row7 col30\" >nan</td>\n",
       "      <td id=\"T_7ef71_row7_col31\" class=\"data row7 col31\" >72.000000</td>\n",
       "      <td id=\"T_7ef71_row7_col32\" class=\"data row7 col32\" >83.000000</td>\n",
       "      <td id=\"T_7ef71_row7_col33\" class=\"data row7 col33\" >79.000000</td>\n",
       "      <td id=\"T_7ef71_row7_col34\" class=\"data row7 col34\" >78.000000</td>\n",
       "      <td id=\"T_7ef71_row7_col35\" class=\"data row7 col35\" >55.000000</td>\n",
       "      <td id=\"T_7ef71_row7_col36\" class=\"data row7 col36\" >71.000000</td>\n",
       "      <td id=\"T_7ef71_row7_col37\" class=\"data row7 col37\" >nan</td>\n",
       "      <td id=\"T_7ef71_row7_col38\" class=\"data row7 col38\" >nan</td>\n",
       "      <td id=\"T_7ef71_row7_col39\" class=\"data row7 col39\" >nan</td>\n",
       "      <td id=\"T_7ef71_row7_col40\" class=\"data row7 col40\" >nan</td>\n",
       "      <td id=\"T_7ef71_row7_col41\" class=\"data row7 col41\" >nan</td>\n",
       "      <td id=\"T_7ef71_row7_col42\" class=\"data row7 col42\" >nan</td>\n",
       "      <td id=\"T_7ef71_row7_col43\" class=\"data row7 col43\" >Diver, Speed Dribbler (CPU AI Only)</td>\n",
       "      <td id=\"T_7ef71_row7_col44\" class=\"data row7 col44\" >79</td>\n",
       "      <td id=\"T_7ef71_row7_col45\" class=\"data row7 col45\" >87</td>\n",
       "      <td id=\"T_7ef71_row7_col46\" class=\"data row7 col46\" >81</td>\n",
       "      <td id=\"T_7ef71_row7_col47\" class=\"data row7 col47\" >81</td>\n",
       "      <td id=\"T_7ef71_row7_col48\" class=\"data row7 col48\" >84</td>\n",
       "      <td id=\"T_7ef71_row7_col49\" class=\"data row7 col49\" >75</td>\n",
       "      <td id=\"T_7ef71_row7_col50\" class=\"data row7 col50\" >81</td>\n",
       "      <td id=\"T_7ef71_row7_col51\" class=\"data row7 col51\" >59</td>\n",
       "      <td id=\"T_7ef71_row7_col52\" class=\"data row7 col52\" >72</td>\n",
       "      <td id=\"T_7ef71_row7_col53\" class=\"data row7 col53\" >82</td>\n",
       "      <td id=\"T_7ef71_row7_col54\" class=\"data row7 col54\" >69</td>\n",
       "      <td id=\"T_7ef71_row7_col55\" class=\"data row7 col55\" >75</td>\n",
       "      <td id=\"T_7ef71_row7_col56\" class=\"data row7 col56\" >74</td>\n",
       "      <td id=\"T_7ef71_row7_col57\" class=\"data row7 col57\" >91</td>\n",
       "      <td id=\"T_7ef71_row7_col58\" class=\"data row7 col58\" >71</td>\n",
       "      <td id=\"T_7ef71_row7_col59\" class=\"data row7 col59\" >78</td>\n",
       "      <td id=\"T_7ef71_row7_col60\" class=\"data row7 col60\" >77</td>\n",
       "      <td id=\"T_7ef71_row7_col61\" class=\"data row7 col61\" >86</td>\n",
       "      <td id=\"T_7ef71_row7_col62\" class=\"data row7 col62\" >67</td>\n",
       "      <td id=\"T_7ef71_row7_col63\" class=\"data row7 col63\" >80</td>\n",
       "      <td id=\"T_7ef71_row7_col64\" class=\"data row7 col64\" >61</td>\n",
       "      <td id=\"T_7ef71_row7_col65\" class=\"data row7 col65\" >58</td>\n",
       "      <td id=\"T_7ef71_row7_col66\" class=\"data row7 col66\" >92</td>\n",
       "      <td id=\"T_7ef71_row7_col67\" class=\"data row7 col67\" >85</td>\n",
       "      <td id=\"T_7ef71_row7_col68\" class=\"data row7 col68\" >60</td>\n",
       "      <td id=\"T_7ef71_row7_col69\" class=\"data row7 col69\" >84</td>\n",
       "      <td id=\"T_7ef71_row7_col70\" class=\"data row7 col70\" >44</td>\n",
       "      <td id=\"T_7ef71_row7_col71\" class=\"data row7 col71\" >57</td>\n",
       "      <td id=\"T_7ef71_row7_col72\" class=\"data row7 col72\" >46</td>\n",
       "      <td id=\"T_7ef71_row7_col73\" class=\"data row7 col73\" >6</td>\n",
       "      <td id=\"T_7ef71_row7_col74\" class=\"data row7 col74\" >7</td>\n",
       "      <td id=\"T_7ef71_row7_col75\" class=\"data row7 col75\" >11</td>\n",
       "      <td id=\"T_7ef71_row7_col76\" class=\"data row7 col76\" >14</td>\n",
       "      <td id=\"T_7ef71_row7_col77\" class=\"data row7 col77\" >14</td>\n",
       "      <td id=\"T_7ef71_row7_col78\" class=\"data row7 col78\" >82+3</td>\n",
       "      <td id=\"T_7ef71_row7_col79\" class=\"data row7 col79\" >82+3</td>\n",
       "      <td id=\"T_7ef71_row7_col80\" class=\"data row7 col80\" >82+3</td>\n",
       "      <td id=\"T_7ef71_row7_col81\" class=\"data row7 col81\" >81+3</td>\n",
       "      <td id=\"T_7ef71_row7_col82\" class=\"data row7 col82\" >82+3</td>\n",
       "      <td id=\"T_7ef71_row7_col83\" class=\"data row7 col83\" >82+3</td>\n",
       "      <td id=\"T_7ef71_row7_col84\" class=\"data row7 col84\" >82+3</td>\n",
       "      <td id=\"T_7ef71_row7_col85\" class=\"data row7 col85\" >81+3</td>\n",
       "      <td id=\"T_7ef71_row7_col86\" class=\"data row7 col86\" >81+3</td>\n",
       "      <td id=\"T_7ef71_row7_col87\" class=\"data row7 col87\" >81+3</td>\n",
       "      <td id=\"T_7ef71_row7_col88\" class=\"data row7 col88\" >81+3</td>\n",
       "      <td id=\"T_7ef71_row7_col89\" class=\"data row7 col89\" >80+3</td>\n",
       "      <td id=\"T_7ef71_row7_col90\" class=\"data row7 col90\" >79+3</td>\n",
       "      <td id=\"T_7ef71_row7_col91\" class=\"data row7 col91\" >79+3</td>\n",
       "      <td id=\"T_7ef71_row7_col92\" class=\"data row7 col92\" >79+3</td>\n",
       "      <td id=\"T_7ef71_row7_col93\" class=\"data row7 col93\" >80+3</td>\n",
       "      <td id=\"T_7ef71_row7_col94\" class=\"data row7 col94\" >69+3</td>\n",
       "      <td id=\"T_7ef71_row7_col95\" class=\"data row7 col95\" >68+3</td>\n",
       "      <td id=\"T_7ef71_row7_col96\" class=\"data row7 col96\" >68+3</td>\n",
       "      <td id=\"T_7ef71_row7_col97\" class=\"data row7 col97\" >68+3</td>\n",
       "      <td id=\"T_7ef71_row7_col98\" class=\"data row7 col98\" >69+3</td>\n",
       "      <td id=\"T_7ef71_row7_col99\" class=\"data row7 col99\" >67+3</td>\n",
       "      <td id=\"T_7ef71_row7_col100\" class=\"data row7 col100\" >62+3</td>\n",
       "      <td id=\"T_7ef71_row7_col101\" class=\"data row7 col101\" >62+3</td>\n",
       "      <td id=\"T_7ef71_row7_col102\" class=\"data row7 col102\" >62+3</td>\n",
       "      <td id=\"T_7ef71_row7_col103\" class=\"data row7 col103\" >67+3</td>\n",
       "    </tr>\n",
       "    <tr>\n",
       "      <td id=\"T_7ef71_row8_col0\" class=\"data row8 col0\" >212190</td>\n",
       "      <td id=\"T_7ef71_row8_col1\" class=\"data row8 col1\" >https://sofifa.com/player/212190/niklas-sule/20/159586</td>\n",
       "      <td id=\"T_7ef71_row8_col2\" class=\"data row8 col2\" >N. Süle</td>\n",
       "      <td id=\"T_7ef71_row8_col3\" class=\"data row8 col3\" >Niklas Süle</td>\n",
       "      <td id=\"T_7ef71_row8_col4\" class=\"data row8 col4\" >23</td>\n",
       "      <td id=\"T_7ef71_row8_col5\" class=\"data row8 col5\" >1995-09-03</td>\n",
       "      <td id=\"T_7ef71_row8_col6\" class=\"data row8 col6\" >195</td>\n",
       "      <td id=\"T_7ef71_row8_col7\" class=\"data row8 col7\" >97</td>\n",
       "      <td id=\"T_7ef71_row8_col8\" class=\"data row8 col8\" >Germany</td>\n",
       "      <td id=\"T_7ef71_row8_col9\" class=\"data row8 col9\" >FC Bayern München</td>\n",
       "      <td id=\"T_7ef71_row8_col10\" class=\"data row8 col10\" >85</td>\n",
       "      <td id=\"T_7ef71_row8_col11\" class=\"data row8 col11\" >90</td>\n",
       "      <td id=\"T_7ef71_row8_col12\" class=\"data row8 col12\" >46500000</td>\n",
       "      <td id=\"T_7ef71_row8_col13\" class=\"data row8 col13\" >115000</td>\n",
       "      <td id=\"T_7ef71_row8_col14\" class=\"data row8 col14\" >CB</td>\n",
       "      <td id=\"T_7ef71_row8_col15\" class=\"data row8 col15\" >Right</td>\n",
       "      <td id=\"T_7ef71_row8_col16\" class=\"data row8 col16\" >2</td>\n",
       "      <td id=\"T_7ef71_row8_col17\" class=\"data row8 col17\" >3</td>\n",
       "      <td id=\"T_7ef71_row8_col18\" class=\"data row8 col18\" >2</td>\n",
       "      <td id=\"T_7ef71_row8_col19\" class=\"data row8 col19\" >Medium/Medium</td>\n",
       "      <td id=\"T_7ef71_row8_col20\" class=\"data row8 col20\" >Stocky</td>\n",
       "      <td id=\"T_7ef71_row8_col21\" class=\"data row8 col21\" >Yes</td>\n",
       "      <td id=\"T_7ef71_row8_col22\" class=\"data row8 col22\" >80200000.000000</td>\n",
       "      <td id=\"T_7ef71_row8_col23\" class=\"data row8 col23\" >#Aerial Threat, #Tackling , #Strength</td>\n",
       "      <td id=\"T_7ef71_row8_col24\" class=\"data row8 col24\" >RCB</td>\n",
       "      <td id=\"T_7ef71_row8_col25\" class=\"data row8 col25\" >4.000000</td>\n",
       "      <td id=\"T_7ef71_row8_col26\" class=\"data row8 col26\" >nan</td>\n",
       "      <td id=\"T_7ef71_row8_col27\" class=\"data row8 col27\" >2017-07-01</td>\n",
       "      <td id=\"T_7ef71_row8_col28\" class=\"data row8 col28\" >2022.000000</td>\n",
       "      <td id=\"T_7ef71_row8_col29\" class=\"data row8 col29\" >RCB</td>\n",
       "      <td id=\"T_7ef71_row8_col30\" class=\"data row8 col30\" >15.000000</td>\n",
       "      <td id=\"T_7ef71_row8_col31\" class=\"data row8 col31\" >72.000000</td>\n",
       "      <td id=\"T_7ef71_row8_col32\" class=\"data row8 col32\" >42.000000</td>\n",
       "      <td id=\"T_7ef71_row8_col33\" class=\"data row8 col33\" >55.000000</td>\n",
       "      <td id=\"T_7ef71_row8_col34\" class=\"data row8 col34\" >50.000000</td>\n",
       "      <td id=\"T_7ef71_row8_col35\" class=\"data row8 col35\" >86.000000</td>\n",
       "      <td id=\"T_7ef71_row8_col36\" class=\"data row8 col36\" >82.000000</td>\n",
       "      <td id=\"T_7ef71_row8_col37\" class=\"data row8 col37\" >nan</td>\n",
       "      <td id=\"T_7ef71_row8_col38\" class=\"data row8 col38\" >nan</td>\n",
       "      <td id=\"T_7ef71_row8_col39\" class=\"data row8 col39\" >nan</td>\n",
       "      <td id=\"T_7ef71_row8_col40\" class=\"data row8 col40\" >nan</td>\n",
       "      <td id=\"T_7ef71_row8_col41\" class=\"data row8 col41\" >nan</td>\n",
       "      <td id=\"T_7ef71_row8_col42\" class=\"data row8 col42\" >nan</td>\n",
       "      <td id=\"T_7ef71_row8_col43\" class=\"data row8 col43\" >nan</td>\n",
       "      <td id=\"T_7ef71_row8_col44\" class=\"data row8 col44\" >34</td>\n",
       "      <td id=\"T_7ef71_row8_col45\" class=\"data row8 col45\" >22</td>\n",
       "      <td id=\"T_7ef71_row8_col46\" class=\"data row8 col46\" >86</td>\n",
       "      <td id=\"T_7ef71_row8_col47\" class=\"data row8 col47\" >78</td>\n",
       "      <td id=\"T_7ef71_row8_col48\" class=\"data row8 col48\" >33</td>\n",
       "      <td id=\"T_7ef71_row8_col49\" class=\"data row8 col49\" >43</td>\n",
       "      <td id=\"T_7ef71_row8_col50\" class=\"data row8 col50\" >28</td>\n",
       "      <td id=\"T_7ef71_row8_col51\" class=\"data row8 col51\" >30</td>\n",
       "      <td id=\"T_7ef71_row8_col52\" class=\"data row8 col52\" >69</td>\n",
       "      <td id=\"T_7ef71_row8_col53\" class=\"data row8 col53\" >63</td>\n",
       "      <td id=\"T_7ef71_row8_col54\" class=\"data row8 col54\" >53</td>\n",
       "      <td id=\"T_7ef71_row8_col55\" class=\"data row8 col55\" >87</td>\n",
       "      <td id=\"T_7ef71_row8_col56\" class=\"data row8 col56\" >34</td>\n",
       "      <td id=\"T_7ef71_row8_col57\" class=\"data row8 col57\" >81</td>\n",
       "      <td id=\"T_7ef71_row8_col58\" class=\"data row8 col58\" >33</td>\n",
       "      <td id=\"T_7ef71_row8_col59\" class=\"data row8 col59\" >77</td>\n",
       "      <td id=\"T_7ef71_row8_col60\" class=\"data row8 col60\" >40</td>\n",
       "      <td id=\"T_7ef71_row8_col61\" class=\"data row8 col61\" >66</td>\n",
       "      <td id=\"T_7ef71_row8_col62\" class=\"data row8 col62\" >94</td>\n",
       "      <td id=\"T_7ef71_row8_col63\" class=\"data row8 col63\" >62</td>\n",
       "      <td id=\"T_7ef71_row8_col64\" class=\"data row8 col64\" >83</td>\n",
       "      <td id=\"T_7ef71_row8_col65\" class=\"data row8 col65\" >81</td>\n",
       "      <td id=\"T_7ef71_row8_col66\" class=\"data row8 col66\" >26</td>\n",
       "      <td id=\"T_7ef71_row8_col67\" class=\"data row8 col67\" >40</td>\n",
       "      <td id=\"T_7ef71_row8_col68\" class=\"data row8 col68\" >32</td>\n",
       "      <td id=\"T_7ef71_row8_col69\" class=\"data row8 col69\" >75</td>\n",
       "      <td id=\"T_7ef71_row8_col70\" class=\"data row8 col70\" >85</td>\n",
       "      <td id=\"T_7ef71_row8_col71\" class=\"data row8 col71\" >89</td>\n",
       "      <td id=\"T_7ef71_row8_col72\" class=\"data row8 col72\" >87</td>\n",
       "      <td id=\"T_7ef71_row8_col73\" class=\"data row8 col73\" >15</td>\n",
       "      <td id=\"T_7ef71_row8_col74\" class=\"data row8 col74\" >7</td>\n",
       "      <td id=\"T_7ef71_row8_col75\" class=\"data row8 col75\" >14</td>\n",
       "      <td id=\"T_7ef71_row8_col76\" class=\"data row8 col76\" >7</td>\n",
       "      <td id=\"T_7ef71_row8_col77\" class=\"data row8 col77\" >15</td>\n",
       "      <td id=\"T_7ef71_row8_col78\" class=\"data row8 col78\" >57+2</td>\n",
       "      <td id=\"T_7ef71_row8_col79\" class=\"data row8 col79\" >57+2</td>\n",
       "      <td id=\"T_7ef71_row8_col80\" class=\"data row8 col80\" >57+2</td>\n",
       "      <td id=\"T_7ef71_row8_col81\" class=\"data row8 col81\" >50+2</td>\n",
       "      <td id=\"T_7ef71_row8_col82\" class=\"data row8 col82\" >53+2</td>\n",
       "      <td id=\"T_7ef71_row8_col83\" class=\"data row8 col83\" >53+2</td>\n",
       "      <td id=\"T_7ef71_row8_col84\" class=\"data row8 col84\" >53+2</td>\n",
       "      <td id=\"T_7ef71_row8_col85\" class=\"data row8 col85\" >50+2</td>\n",
       "      <td id=\"T_7ef71_row8_col86\" class=\"data row8 col86\" >54+2</td>\n",
       "      <td id=\"T_7ef71_row8_col87\" class=\"data row8 col87\" >54+2</td>\n",
       "      <td id=\"T_7ef71_row8_col88\" class=\"data row8 col88\" >54+2</td>\n",
       "      <td id=\"T_7ef71_row8_col89\" class=\"data row8 col89\" >54+2</td>\n",
       "      <td id=\"T_7ef71_row8_col90\" class=\"data row8 col90\" >62+2</td>\n",
       "      <td id=\"T_7ef71_row8_col91\" class=\"data row8 col91\" >62+2</td>\n",
       "      <td id=\"T_7ef71_row8_col92\" class=\"data row8 col92\" >62+2</td>\n",
       "      <td id=\"T_7ef71_row8_col93\" class=\"data row8 col93\" >54+2</td>\n",
       "      <td id=\"T_7ef71_row8_col94\" class=\"data row8 col94\" >71+2</td>\n",
       "      <td id=\"T_7ef71_row8_col95\" class=\"data row8 col95\" >77+2</td>\n",
       "      <td id=\"T_7ef71_row8_col96\" class=\"data row8 col96\" >77+2</td>\n",
       "      <td id=\"T_7ef71_row8_col97\" class=\"data row8 col97\" >77+2</td>\n",
       "      <td id=\"T_7ef71_row8_col98\" class=\"data row8 col98\" >71+2</td>\n",
       "      <td id=\"T_7ef71_row8_col99\" class=\"data row8 col99\" >75+2</td>\n",
       "      <td id=\"T_7ef71_row8_col100\" class=\"data row8 col100\" >83+2</td>\n",
       "      <td id=\"T_7ef71_row8_col101\" class=\"data row8 col101\" >83+2</td>\n",
       "      <td id=\"T_7ef71_row8_col102\" class=\"data row8 col102\" >83+2</td>\n",
       "      <td id=\"T_7ef71_row8_col103\" class=\"data row8 col103\" >75+2</td>\n",
       "    </tr>\n",
       "    <tr>\n",
       "      <td id=\"T_7ef71_row9_col0\" class=\"data row9 col0\" >235790</td>\n",
       "      <td id=\"T_7ef71_row9_col1\" class=\"data row9 col1\" >https://sofifa.com/player/235790/kai-havertz/20/159586</td>\n",
       "      <td id=\"T_7ef71_row9_col2\" class=\"data row9 col2\" >K. Havertz</td>\n",
       "      <td id=\"T_7ef71_row9_col3\" class=\"data row9 col3\" >Kai Havertz</td>\n",
       "      <td id=\"T_7ef71_row9_col4\" class=\"data row9 col4\" >20</td>\n",
       "      <td id=\"T_7ef71_row9_col5\" class=\"data row9 col5\" >1999-06-11</td>\n",
       "      <td id=\"T_7ef71_row9_col6\" class=\"data row9 col6\" >188</td>\n",
       "      <td id=\"T_7ef71_row9_col7\" class=\"data row9 col7\" >83</td>\n",
       "      <td id=\"T_7ef71_row9_col8\" class=\"data row9 col8\" >Germany</td>\n",
       "      <td id=\"T_7ef71_row9_col9\" class=\"data row9 col9\" >Bayer 04 Leverkusen</td>\n",
       "      <td id=\"T_7ef71_row9_col10\" class=\"data row9 col10\" >84</td>\n",
       "      <td id=\"T_7ef71_row9_col11\" class=\"data row9 col11\" >92</td>\n",
       "      <td id=\"T_7ef71_row9_col12\" class=\"data row9 col12\" >46000000</td>\n",
       "      <td id=\"T_7ef71_row9_col13\" class=\"data row9 col13\" >70000</td>\n",
       "      <td id=\"T_7ef71_row9_col14\" class=\"data row9 col14\" >CAM, RM</td>\n",
       "      <td id=\"T_7ef71_row9_col15\" class=\"data row9 col15\" >Left</td>\n",
       "      <td id=\"T_7ef71_row9_col16\" class=\"data row9 col16\" >1</td>\n",
       "      <td id=\"T_7ef71_row9_col17\" class=\"data row9 col17\" >4</td>\n",
       "      <td id=\"T_7ef71_row9_col18\" class=\"data row9 col18\" >4</td>\n",
       "      <td id=\"T_7ef71_row9_col19\" class=\"data row9 col19\" >Medium/Medium</td>\n",
       "      <td id=\"T_7ef71_row9_col20\" class=\"data row9 col20\" >Lean</td>\n",
       "      <td id=\"T_7ef71_row9_col21\" class=\"data row9 col21\" >Yes</td>\n",
       "      <td id=\"T_7ef71_row9_col22\" class=\"data row9 col22\" >87400000.000000</td>\n",
       "      <td id=\"T_7ef71_row9_col23\" class=\"data row9 col23\" >nan</td>\n",
       "      <td id=\"T_7ef71_row9_col24\" class=\"data row9 col24\" >RF</td>\n",
       "      <td id=\"T_7ef71_row9_col25\" class=\"data row9 col25\" >29.000000</td>\n",
       "      <td id=\"T_7ef71_row9_col26\" class=\"data row9 col26\" >nan</td>\n",
       "      <td id=\"T_7ef71_row9_col27\" class=\"data row9 col27\" >2016-07-01</td>\n",
       "      <td id=\"T_7ef71_row9_col28\" class=\"data row9 col28\" >2022.000000</td>\n",
       "      <td id=\"T_7ef71_row9_col29\" class=\"data row9 col29\" >SUB</td>\n",
       "      <td id=\"T_7ef71_row9_col30\" class=\"data row9 col30\" >23.000000</td>\n",
       "      <td id=\"T_7ef71_row9_col31\" class=\"data row9 col31\" >84.000000</td>\n",
       "      <td id=\"T_7ef71_row9_col32\" class=\"data row9 col32\" >78.000000</td>\n",
       "      <td id=\"T_7ef71_row9_col33\" class=\"data row9 col33\" >79.000000</td>\n",
       "      <td id=\"T_7ef71_row9_col34\" class=\"data row9 col34\" >84.000000</td>\n",
       "      <td id=\"T_7ef71_row9_col35\" class=\"data row9 col35\" >44.000000</td>\n",
       "      <td id=\"T_7ef71_row9_col36\" class=\"data row9 col36\" >65.000000</td>\n",
       "      <td id=\"T_7ef71_row9_col37\" class=\"data row9 col37\" >nan</td>\n",
       "      <td id=\"T_7ef71_row9_col38\" class=\"data row9 col38\" >nan</td>\n",
       "      <td id=\"T_7ef71_row9_col39\" class=\"data row9 col39\" >nan</td>\n",
       "      <td id=\"T_7ef71_row9_col40\" class=\"data row9 col40\" >nan</td>\n",
       "      <td id=\"T_7ef71_row9_col41\" class=\"data row9 col41\" >nan</td>\n",
       "      <td id=\"T_7ef71_row9_col42\" class=\"data row9 col42\" >nan</td>\n",
       "      <td id=\"T_7ef71_row9_col43\" class=\"data row9 col43\" >Beat Offside Trap, Leadership, Argues with Officials, Finesse Shot, Speed Dribbler (CPU AI Only), Crowd Favourite</td>\n",
       "      <td id=\"T_7ef71_row9_col44\" class=\"data row9 col44\" >73</td>\n",
       "      <td id=\"T_7ef71_row9_col45\" class=\"data row9 col45\" >81</td>\n",
       "      <td id=\"T_7ef71_row9_col46\" class=\"data row9 col46\" >74</td>\n",
       "      <td id=\"T_7ef71_row9_col47\" class=\"data row9 col47\" >85</td>\n",
       "      <td id=\"T_7ef71_row9_col48\" class=\"data row9 col48\" >80</td>\n",
       "      <td id=\"T_7ef71_row9_col49\" class=\"data row9 col49\" >84</td>\n",
       "      <td id=\"T_7ef71_row9_col50\" class=\"data row9 col50\" >79</td>\n",
       "      <td id=\"T_7ef71_row9_col51\" class=\"data row9 col51\" >53</td>\n",
       "      <td id=\"T_7ef71_row9_col52\" class=\"data row9 col52\" >78</td>\n",
       "      <td id=\"T_7ef71_row9_col53\" class=\"data row9 col53\" >87</td>\n",
       "      <td id=\"T_7ef71_row9_col54\" class=\"data row9 col54\" >77</td>\n",
       "      <td id=\"T_7ef71_row9_col55\" class=\"data row9 col55\" >89</td>\n",
       "      <td id=\"T_7ef71_row9_col56\" class=\"data row9 col56\" >78</td>\n",
       "      <td id=\"T_7ef71_row9_col57\" class=\"data row9 col57\" >82</td>\n",
       "      <td id=\"T_7ef71_row9_col58\" class=\"data row9 col58\" >73</td>\n",
       "      <td id=\"T_7ef71_row9_col59\" class=\"data row9 col59\" >73</td>\n",
       "      <td id=\"T_7ef71_row9_col60\" class=\"data row9 col60\" >69</td>\n",
       "      <td id=\"T_7ef71_row9_col61\" class=\"data row9 col61\" >82</td>\n",
       "      <td id=\"T_7ef71_row9_col62\" class=\"data row9 col62\" >65</td>\n",
       "      <td id=\"T_7ef71_row9_col63\" class=\"data row9 col63\" >75</td>\n",
       "      <td id=\"T_7ef71_row9_col64\" class=\"data row9 col64\" >41</td>\n",
       "      <td id=\"T_7ef71_row9_col65\" class=\"data row9 col65\" >38</td>\n",
       "      <td id=\"T_7ef71_row9_col66\" class=\"data row9 col66\" >83</td>\n",
       "      <td id=\"T_7ef71_row9_col67\" class=\"data row9 col67\" >82</td>\n",
       "      <td id=\"T_7ef71_row9_col68\" class=\"data row9 col68\" >69</td>\n",
       "      <td id=\"T_7ef71_row9_col69\" class=\"data row9 col69\" >84</td>\n",
       "      <td id=\"T_7ef71_row9_col70\" class=\"data row9 col70\" >39</td>\n",
       "      <td id=\"T_7ef71_row9_col71\" class=\"data row9 col71\" >46</td>\n",
       "      <td id=\"T_7ef71_row9_col72\" class=\"data row9 col72\" >38</td>\n",
       "      <td id=\"T_7ef71_row9_col73\" class=\"data row9 col73\" >6</td>\n",
       "      <td id=\"T_7ef71_row9_col74\" class=\"data row9 col74\" >8</td>\n",
       "      <td id=\"T_7ef71_row9_col75\" class=\"data row9 col75\" >11</td>\n",
       "      <td id=\"T_7ef71_row9_col76\" class=\"data row9 col76\" >10</td>\n",
       "      <td id=\"T_7ef71_row9_col77\" class=\"data row9 col77\" >12</td>\n",
       "      <td id=\"T_7ef71_row9_col78\" class=\"data row9 col78\" >80+2</td>\n",
       "      <td id=\"T_7ef71_row9_col79\" class=\"data row9 col79\" >80+2</td>\n",
       "      <td id=\"T_7ef71_row9_col80\" class=\"data row9 col80\" >80+2</td>\n",
       "      <td id=\"T_7ef71_row9_col81\" class=\"data row9 col81\" >82+2</td>\n",
       "      <td id=\"T_7ef71_row9_col82\" class=\"data row9 col82\" >82+2</td>\n",
       "      <td id=\"T_7ef71_row9_col83\" class=\"data row9 col83\" >82+2</td>\n",
       "      <td id=\"T_7ef71_row9_col84\" class=\"data row9 col84\" >82+2</td>\n",
       "      <td id=\"T_7ef71_row9_col85\" class=\"data row9 col85\" >82+2</td>\n",
       "      <td id=\"T_7ef71_row9_col86\" class=\"data row9 col86\" >82+2</td>\n",
       "      <td id=\"T_7ef71_row9_col87\" class=\"data row9 col87\" >82+2</td>\n",
       "      <td id=\"T_7ef71_row9_col88\" class=\"data row9 col88\" >82+2</td>\n",
       "      <td id=\"T_7ef71_row9_col89\" class=\"data row9 col89\" >82+2</td>\n",
       "      <td id=\"T_7ef71_row9_col90\" class=\"data row9 col90\" >78+2</td>\n",
       "      <td id=\"T_7ef71_row9_col91\" class=\"data row9 col91\" >78+2</td>\n",
       "      <td id=\"T_7ef71_row9_col92\" class=\"data row9 col92\" >78+2</td>\n",
       "      <td id=\"T_7ef71_row9_col93\" class=\"data row9 col93\" >82+2</td>\n",
       "      <td id=\"T_7ef71_row9_col94\" class=\"data row9 col94\" >65+2</td>\n",
       "      <td id=\"T_7ef71_row9_col95\" class=\"data row9 col95\" >63+2</td>\n",
       "      <td id=\"T_7ef71_row9_col96\" class=\"data row9 col96\" >63+2</td>\n",
       "      <td id=\"T_7ef71_row9_col97\" class=\"data row9 col97\" >63+2</td>\n",
       "      <td id=\"T_7ef71_row9_col98\" class=\"data row9 col98\" >65+2</td>\n",
       "      <td id=\"T_7ef71_row9_col99\" class=\"data row9 col99\" >62+2</td>\n",
       "      <td id=\"T_7ef71_row9_col100\" class=\"data row9 col100\" >54+2</td>\n",
       "      <td id=\"T_7ef71_row9_col101\" class=\"data row9 col101\" >54+2</td>\n",
       "      <td id=\"T_7ef71_row9_col102\" class=\"data row9 col102\" >54+2</td>\n",
       "      <td id=\"T_7ef71_row9_col103\" class=\"data row9 col103\" >62+2</td>\n",
       "    </tr>\n",
       "  </tbody>\n",
       "</table>\n"
      ],
      "text/plain": [
       "<pandas.io.formats.style.Styler at 0x7faeaa070c10>"
      ]
     },
     "execution_count": 446,
     "metadata": {},
     "output_type": "execute_result"
    }
   ],
   "source": [
    "germany = df[df['nationality']=='Germany']\n",
    "germany.head(10).style.hide().set_table_styles([{'selector': 'tr:hover', 'props': [('background-color', 'green')]}])"
   ]
  },
  {
   "cell_type": "code",
   "execution_count": 445,
   "metadata": {},
   "outputs": [
    {
     "data": {
      "text/html": [
       "<style type=\"text/css\">\n",
       "#T_d6f39 tr:hover {\n",
       "  background-color: green;\n",
       "}\n",
       "</style>\n",
       "<table id=\"T_d6f39\">\n",
       "  <thead>\n",
       "    <tr>\n",
       "      <th id=\"T_d6f39_level0_col0\" class=\"col_heading level0 col0\" >short_name</th>\n",
       "      <th id=\"T_d6f39_level0_col1\" class=\"col_heading level0 col1\" >height_cm</th>\n",
       "      <th id=\"T_d6f39_level0_col2\" class=\"col_heading level0 col2\" >weight_kg</th>\n",
       "      <th id=\"T_d6f39_level0_col3\" class=\"col_heading level0 col3\" >wage_eur</th>\n",
       "    </tr>\n",
       "  </thead>\n",
       "  <tbody>\n",
       "    <tr>\n",
       "      <td id=\"T_d6f39_row0_col0\" class=\"data row0 col0\" >T. Holý</td>\n",
       "      <td id=\"T_d6f39_row0_col1\" class=\"data row0 col1\" >205</td>\n",
       "      <td id=\"T_d6f39_row0_col2\" class=\"data row0 col2\" >102</td>\n",
       "      <td id=\"T_d6f39_row0_col3\" class=\"data row0 col3\" >3000</td>\n",
       "    </tr>\n",
       "    <tr>\n",
       "      <td id=\"T_d6f39_row1_col0\" class=\"data row1 col0\" >C. Pantilimon</td>\n",
       "      <td id=\"T_d6f39_row1_col1\" class=\"data row1 col1\" >203</td>\n",
       "      <td id=\"T_d6f39_row1_col2\" class=\"data row1 col2\" >96</td>\n",
       "      <td id=\"T_d6f39_row1_col3\" class=\"data row1 col3\" >25000</td>\n",
       "    </tr>\n",
       "    <tr>\n",
       "      <td id=\"T_d6f39_row2_col0\" class=\"data row2 col0\" >L. Traoré</td>\n",
       "      <td id=\"T_d6f39_row2_col1\" class=\"data row2 col1\" >203</td>\n",
       "      <td id=\"T_d6f39_row2_col2\" class=\"data row2 col2\" >87</td>\n",
       "      <td id=\"T_d6f39_row2_col3\" class=\"data row2 col3\" >9000</td>\n",
       "    </tr>\n",
       "    <tr>\n",
       "      <td id=\"T_d6f39_row3_col0\" class=\"data row3 col0\" >A. Ba</td>\n",
       "      <td id=\"T_d6f39_row3_col1\" class=\"data row3 col1\" >203</td>\n",
       "      <td id=\"T_d6f39_row3_col2\" class=\"data row3 col2\" >94</td>\n",
       "      <td id=\"T_d6f39_row3_col3\" class=\"data row3 col3\" >2000</td>\n",
       "    </tr>\n",
       "    <tr>\n",
       "      <td id=\"T_d6f39_row4_col0\" class=\"data row4 col0\" >A. Chapman</td>\n",
       "      <td id=\"T_d6f39_row4_col1\" class=\"data row4 col1\" >203</td>\n",
       "      <td id=\"T_d6f39_row4_col2\" class=\"data row4 col2\" >92</td>\n",
       "      <td id=\"T_d6f39_row4_col3\" class=\"data row4 col3\" >2000</td>\n",
       "    </tr>\n",
       "  </tbody>\n",
       "</table>\n"
      ],
      "text/plain": [
       "<pandas.io.formats.style.Styler at 0x7faeaa086250>"
      ]
     },
     "execution_count": 445,
     "metadata": {},
     "output_type": "execute_result"
    }
   ],
   "source": [
    "top_5_height = df.nlargest(5, 'height_cm')[['short_name', 'height_cm', 'weight_kg', 'wage_eur']]\n",
    "top_5_weight = df.nlargest(5, 'weight_kg')[['short_name', 'height_cm', 'weight_kg', 'wage_eur']]\n",
    "top_5_wage = df.nlargest(5, 'wage_eur')[['short_name', 'height_cm', 'weight_kg', 'wage_eur']]\n",
    "\n",
    "top_5_records_df = pd.concat([top_5_height, top_5_weight, top_5_wage]).drop_duplicates().reset_index(drop=True)\n",
    "top_5_records_df.head().style.hide().set_table_styles([{'selector': 'tr:hover', 'props': [('background-color', 'green')]}])"
   ]
  },
  {
   "cell_type": "code",
   "execution_count": 429,
   "metadata": {},
   "outputs": [
    {
     "data": {
      "text/html": [
       "<style type=\"text/css\">\n",
       "#T_92a7a tr:hover {\n",
       "  background-color: green;\n",
       "}\n",
       "</style>\n",
       "<table id=\"T_92a7a\">\n",
       "  <thead>\n",
       "    <tr>\n",
       "      <th id=\"T_92a7a_level0_col0\" class=\"col_heading level0 col0\" >Name</th>\n",
       "      <th id=\"T_92a7a_level0_col1\" class=\"col_heading level0 col1\" >Wage</th>\n",
       "    </tr>\n",
       "  </thead>\n",
       "  <tbody>\n",
       "    <tr>\n",
       "      <td id=\"T_92a7a_row0_col0\" class=\"data row0 col0\" >T. Kroos</td>\n",
       "      <td id=\"T_92a7a_row0_col1\" class=\"data row0 col1\" >330000</td>\n",
       "    </tr>\n",
       "    <tr>\n",
       "      <td id=\"T_92a7a_row1_col0\" class=\"data row1 col0\" >M. ter Stegen</td>\n",
       "      <td id=\"T_92a7a_row1_col1\" class=\"data row1 col1\" >250000</td>\n",
       "    </tr>\n",
       "    <tr>\n",
       "      <td id=\"T_92a7a_row2_col0\" class=\"data row2 col0\" >L. Sané</td>\n",
       "      <td id=\"T_92a7a_row2_col1\" class=\"data row2 col1\" >195000</td>\n",
       "    </tr>\n",
       "    <tr>\n",
       "      <td id=\"T_92a7a_row3_col0\" class=\"data row3 col0\" >I. Gündoğan</td>\n",
       "      <td id=\"T_92a7a_row3_col1\" class=\"data row3 col1\" >180000</td>\n",
       "    </tr>\n",
       "    <tr>\n",
       "      <td id=\"T_92a7a_row4_col0\" class=\"data row4 col0\" >T. Müller</td>\n",
       "      <td id=\"T_92a7a_row4_col1\" class=\"data row4 col1\" >170000</td>\n",
       "    </tr>\n",
       "  </tbody>\n",
       "</table>\n"
      ],
      "text/plain": [
       "<pandas.io.formats.style.Styler at 0x7faea9eebbe0>"
      ]
     },
     "execution_count": 429,
     "metadata": {},
     "output_type": "execute_result"
    }
   ],
   "source": [
    "germany_top_5 = pd.DataFrame({'Name':germany['short_name'], 'Wage':germany['wage_eur']})\n",
    "germany_top_5 = germany_top_5.sort_values(by='Wage', ascending=False)\n",
    "germany_top_5.head().style.hide().set_table_styles([{'selector': 'tr:hover', 'props': [('background-color', 'green')]}])"
   ]
  },
  {
   "cell_type": "code",
   "execution_count": 430,
   "metadata": {},
   "outputs": [
    {
     "data": {
      "text/html": [
       "<style type=\"text/css\">\n",
       "#T_df6bb tr:hover {\n",
       "  background-color: green;\n",
       "}\n",
       "</style>\n",
       "<table id=\"T_df6bb\">\n",
       "  <thead>\n",
       "    <tr>\n",
       "      <th id=\"T_df6bb_level0_col0\" class=\"col_heading level0 col0\" >Name</th>\n",
       "      <th id=\"T_df6bb_level0_col1\" class=\"col_heading level0 col1\" >Shooting</th>\n",
       "    </tr>\n",
       "  </thead>\n",
       "  <tbody>\n",
       "    <tr>\n",
       "      <td id=\"T_df6bb_row0_col0\" class=\"data row0 col0\" >Cristiano Ronaldo</td>\n",
       "      <td id=\"T_df6bb_row0_col1\" class=\"data row0 col1\" >93</td>\n",
       "    </tr>\n",
       "    <tr>\n",
       "      <td id=\"T_df6bb_row1_col0\" class=\"data row1 col0\" >L. Messi</td>\n",
       "      <td id=\"T_df6bb_row1_col1\" class=\"data row1 col1\" >92</td>\n",
       "    </tr>\n",
       "    <tr>\n",
       "      <td id=\"T_df6bb_row2_col0\" class=\"data row2 col0\" >H. Kane</td>\n",
       "      <td id=\"T_df6bb_row2_col1\" class=\"data row2 col1\" >91</td>\n",
       "    </tr>\n",
       "    <tr>\n",
       "      <td id=\"T_df6bb_row3_col0\" class=\"data row3 col0\" >S. Agüero</td>\n",
       "      <td id=\"T_df6bb_row3_col1\" class=\"data row3 col1\" >90</td>\n",
       "    </tr>\n",
       "    <tr>\n",
       "      <td id=\"T_df6bb_row4_col0\" class=\"data row4 col0\" >F. Quagliarella</td>\n",
       "      <td id=\"T_df6bb_row4_col1\" class=\"data row4 col1\" >89</td>\n",
       "    </tr>\n",
       "  </tbody>\n",
       "</table>\n"
      ],
      "text/plain": [
       "<pandas.io.formats.style.Styler at 0x7faeac2a9100>"
      ]
     },
     "execution_count": 430,
     "metadata": {},
     "output_type": "execute_result"
    }
   ],
   "source": [
    "top_shooters = df.sort_values(by='shooting', ascending=False)\n",
    "top_shooters['shooting'] = top_shooters['shooting'].replace([np.nan], 0).astype(int)\n",
    "pd.DataFrame({'Name':top_shooters['short_name'], 'Shooting':top_shooters['shooting']}).head().style.hide().set_table_styles([{'selector': 'tr:hover', 'props': [('background-color', 'green')]}])"
   ]
  },
  {
   "cell_type": "code",
   "execution_count": 431,
   "metadata": {},
   "outputs": [
    {
     "data": {
      "text/html": [
       "<style type=\"text/css\">\n",
       "#T_8324e tr:hover {\n",
       "  background-color: green;\n",
       "}\n",
       "</style>\n",
       "<table id=\"T_8324e\">\n",
       "  <thead>\n",
       "    <tr>\n",
       "      <th id=\"T_8324e_level0_col0\" class=\"col_heading level0 col0\" >Name</th>\n",
       "      <th id=\"T_8324e_level0_col1\" class=\"col_heading level0 col1\" >Nationality</th>\n",
       "      <th id=\"T_8324e_level0_col2\" class=\"col_heading level0 col2\" >Club</th>\n",
       "      <th id=\"T_8324e_level0_col3\" class=\"col_heading level0 col3\" >Defending</th>\n",
       "    </tr>\n",
       "  </thead>\n",
       "  <tbody>\n",
       "    <tr>\n",
       "      <td id=\"T_8324e_row0_col0\" class=\"data row0 col0\" >G. Chiellini</td>\n",
       "      <td id=\"T_8324e_row0_col1\" class=\"data row0 col1\" >Italy</td>\n",
       "      <td id=\"T_8324e_row0_col2\" class=\"data row0 col2\" >Juventus</td>\n",
       "      <td id=\"T_8324e_row0_col3\" class=\"data row0 col3\" >90</td>\n",
       "    </tr>\n",
       "    <tr>\n",
       "      <td id=\"T_8324e_row1_col0\" class=\"data row1 col0\" >V. van Dijk</td>\n",
       "      <td id=\"T_8324e_row1_col1\" class=\"data row1 col1\" >Netherlands</td>\n",
       "      <td id=\"T_8324e_row1_col2\" class=\"data row1 col2\" >Liverpool</td>\n",
       "      <td id=\"T_8324e_row1_col3\" class=\"data row1 col3\" >90</td>\n",
       "    </tr>\n",
       "    <tr>\n",
       "      <td id=\"T_8324e_row2_col0\" class=\"data row2 col0\" >K. Koulibaly</td>\n",
       "      <td id=\"T_8324e_row2_col1\" class=\"data row2 col1\" >Senegal</td>\n",
       "      <td id=\"T_8324e_row2_col2\" class=\"data row2 col2\" >Napoli</td>\n",
       "      <td id=\"T_8324e_row2_col3\" class=\"data row2 col3\" >89</td>\n",
       "    </tr>\n",
       "    <tr>\n",
       "      <td id=\"T_8324e_row3_col0\" class=\"data row3 col0\" >D. Godín</td>\n",
       "      <td id=\"T_8324e_row3_col1\" class=\"data row3 col1\" >Uruguay</td>\n",
       "      <td id=\"T_8324e_row3_col2\" class=\"data row3 col2\" >Inter</td>\n",
       "      <td id=\"T_8324e_row3_col3\" class=\"data row3 col3\" >89</td>\n",
       "    </tr>\n",
       "    <tr>\n",
       "      <td id=\"T_8324e_row4_col0\" class=\"data row4 col0\" >M. Hummels</td>\n",
       "      <td id=\"T_8324e_row4_col1\" class=\"data row4 col1\" >Germany</td>\n",
       "      <td id=\"T_8324e_row4_col2\" class=\"data row4 col2\" >Borussia Dortmund</td>\n",
       "      <td id=\"T_8324e_row4_col3\" class=\"data row4 col3\" >89</td>\n",
       "    </tr>\n",
       "  </tbody>\n",
       "</table>\n"
      ],
      "text/plain": [
       "<pandas.io.formats.style.Styler at 0x7faeab767730>"
      ]
     },
     "execution_count": 431,
     "metadata": {},
     "output_type": "execute_result"
    }
   ],
   "source": [
    "top_defenders = df.sort_values(by='defending', ascending=False)\n",
    "top_defenders['defending'] = top_defenders['defending'].replace([np.nan], 0).astype(int)\n",
    "pd.DataFrame({'Name':top_defenders['short_name'], 'Nationality':top_defenders['nationality'], 'Club':top_defenders['club'], 'Defending':top_defenders['defending']}).head().style.hide().set_table_styles([{'selector': 'tr:hover', 'props': [('background-color', 'green')]}])"
   ]
  },
  {
   "cell_type": "code",
   "execution_count": 527,
   "metadata": {},
   "outputs": [
    {
     "data": {
      "text/html": [
       "<style type=\"text/css\">\n",
       "</style>\n",
       "<table id=\"T_b018c\">\n",
       "  <thead>\n",
       "    <tr>\n",
       "      <th id=\"T_b018c_level0_col0\" class=\"col_heading level0 col0\" >nationality</th>\n",
       "      <th id=\"T_b018c_level0_col1\" class=\"col_heading level0 col1\" >average wage</th>\n",
       "    </tr>\n",
       "  </thead>\n",
       "  <tbody>\n",
       "    <tr>\n",
       "      <td id=\"T_b018c_row0_col0\" class=\"data row0 col0\" >Dominican Republic</td>\n",
       "      <td id=\"T_b018c_row0_col1\" class=\"data row0 col1\" >$ 38,250.00</td>\n",
       "    </tr>\n",
       "    <tr>\n",
       "      <td id=\"T_b018c_row1_col0\" class=\"data row1 col0\" >Armenia</td>\n",
       "      <td id=\"T_b018c_row1_col1\" class=\"data row1 col1\" >$ 23,500.00</td>\n",
       "    </tr>\n",
       "    <tr>\n",
       "      <td id=\"T_b018c_row2_col0\" class=\"data row2 col0\" >Gabon</td>\n",
       "      <td id=\"T_b018c_row2_col1\" class=\"data row2 col1\" >$ 22,125.00</td>\n",
       "    </tr>\n",
       "    <tr>\n",
       "      <td id=\"T_b018c_row3_col0\" class=\"data row3 col0\" >Algeria</td>\n",
       "      <td id=\"T_b018c_row3_col1\" class=\"data row3 col1\" >$ 21,840.00</td>\n",
       "    </tr>\n",
       "    <tr>\n",
       "      <td id=\"T_b018c_row4_col0\" class=\"data row4 col0\" >Syria</td>\n",
       "      <td id=\"T_b018c_row4_col1\" class=\"data row4 col1\" >$ 21,500.00</td>\n",
       "    </tr>\n",
       "    <tr>\n",
       "      <td id=\"T_b018c_row5_col0\" class=\"data row5 col0\" >Croatia</td>\n",
       "      <td id=\"T_b018c_row5_col1\" class=\"data row5 col1\" >$ 19,619.05</td>\n",
       "    </tr>\n",
       "    <tr>\n",
       "      <td id=\"T_b018c_row6_col0\" class=\"data row6 col0\" >Chad</td>\n",
       "      <td id=\"T_b018c_row6_col1\" class=\"data row6 col1\" >$ 19,000.00</td>\n",
       "    </tr>\n",
       "    <tr>\n",
       "      <td id=\"T_b018c_row7_col0\" class=\"data row7 col0\" >Central African Rep.</td>\n",
       "      <td id=\"T_b018c_row7_col1\" class=\"data row7 col1\" >$ 17,000.00</td>\n",
       "    </tr>\n",
       "    <tr>\n",
       "      <td id=\"T_b018c_row8_col0\" class=\"data row8 col0\" >Belgium</td>\n",
       "      <td id=\"T_b018c_row8_col1\" class=\"data row8 col1\" >$ 16,973.88</td>\n",
       "    </tr>\n",
       "    <tr>\n",
       "      <td id=\"T_b018c_row9_col0\" class=\"data row9 col0\" >Brazil</td>\n",
       "      <td id=\"T_b018c_row9_col1\" class=\"data row9 col1\" >$ 16,646.84</td>\n",
       "    </tr>\n",
       "  </tbody>\n",
       "</table>\n"
      ],
      "text/plain": [
       "<pandas.io.formats.style.Styler at 0x7faeaa782dc0>"
      ]
     },
     "execution_count": 527,
     "metadata": {},
     "output_type": "execute_result"
    }
   ],
   "source": [
    "nationalities = df.groupby('nationality')['wage_eur'].mean()\n",
    "avg_wage = nationalities.to_frame(name='average wage')\n",
    "avg_wage = avg_wage.sort_values(by='average wage', ascending=False).applymap('$ {:,.2f}'.format)\n",
    "\n",
    "avg_wage.reset_index().head(10).style.hide()"
   ]
  },
  {
   "cell_type": "code",
   "execution_count": 565,
   "metadata": {},
   "outputs": [
    {
     "data": {
      "application/vnd.plotly.v1+json": {
       "config": {
        "plotlyServerURL": "https://plot.ly"
       },
       "data": [
        {
         "alignmentgroup": "True",
         "hovertemplate": "Nationality=%{x}<br>Average Wage=%{y}<extra></extra>",
         "legendgroup": "",
         "marker": {
          "color": "#636efa",
          "pattern": {
           "shape": ""
          }
         },
         "name": "",
         "offsetgroup": "",
         "orientation": "v",
         "showlegend": false,
         "textposition": "auto",
         "type": "bar",
         "x": [
          "Dominican Republic",
          "Armenia",
          "Gabon",
          "Algeria",
          "Syria",
          "Croatia",
          "Chad",
          "Central African Rep.",
          "Belgium",
          "Brazil"
         ],
         "xaxis": "x",
         "y": [
          38250,
          23500,
          22125,
          21840,
          21500,
          19619.05,
          19000,
          17000,
          16973.88,
          16646.84
         ],
         "yaxis": "y"
        }
       ],
       "layout": {
        "barmode": "relative",
        "legend": {
         "tracegroupgap": 0
        },
        "template": {
         "data": {
          "bar": [
           {
            "error_x": {
             "color": "#2a3f5f"
            },
            "error_y": {
             "color": "#2a3f5f"
            },
            "marker": {
             "line": {
              "color": "#E5ECF6",
              "width": 0.5
             },
             "pattern": {
              "fillmode": "overlay",
              "size": 10,
              "solidity": 0.2
             }
            },
            "type": "bar"
           }
          ],
          "barpolar": [
           {
            "marker": {
             "line": {
              "color": "#E5ECF6",
              "width": 0.5
             },
             "pattern": {
              "fillmode": "overlay",
              "size": 10,
              "solidity": 0.2
             }
            },
            "type": "barpolar"
           }
          ],
          "carpet": [
           {
            "aaxis": {
             "endlinecolor": "#2a3f5f",
             "gridcolor": "white",
             "linecolor": "white",
             "minorgridcolor": "white",
             "startlinecolor": "#2a3f5f"
            },
            "baxis": {
             "endlinecolor": "#2a3f5f",
             "gridcolor": "white",
             "linecolor": "white",
             "minorgridcolor": "white",
             "startlinecolor": "#2a3f5f"
            },
            "type": "carpet"
           }
          ],
          "choropleth": [
           {
            "colorbar": {
             "outlinewidth": 0,
             "ticks": ""
            },
            "type": "choropleth"
           }
          ],
          "contour": [
           {
            "colorbar": {
             "outlinewidth": 0,
             "ticks": ""
            },
            "colorscale": [
             [
              0,
              "#0d0887"
             ],
             [
              0.1111111111111111,
              "#46039f"
             ],
             [
              0.2222222222222222,
              "#7201a8"
             ],
             [
              0.3333333333333333,
              "#9c179e"
             ],
             [
              0.4444444444444444,
              "#bd3786"
             ],
             [
              0.5555555555555556,
              "#d8576b"
             ],
             [
              0.6666666666666666,
              "#ed7953"
             ],
             [
              0.7777777777777778,
              "#fb9f3a"
             ],
             [
              0.8888888888888888,
              "#fdca26"
             ],
             [
              1,
              "#f0f921"
             ]
            ],
            "type": "contour"
           }
          ],
          "contourcarpet": [
           {
            "colorbar": {
             "outlinewidth": 0,
             "ticks": ""
            },
            "type": "contourcarpet"
           }
          ],
          "heatmap": [
           {
            "colorbar": {
             "outlinewidth": 0,
             "ticks": ""
            },
            "colorscale": [
             [
              0,
              "#0d0887"
             ],
             [
              0.1111111111111111,
              "#46039f"
             ],
             [
              0.2222222222222222,
              "#7201a8"
             ],
             [
              0.3333333333333333,
              "#9c179e"
             ],
             [
              0.4444444444444444,
              "#bd3786"
             ],
             [
              0.5555555555555556,
              "#d8576b"
             ],
             [
              0.6666666666666666,
              "#ed7953"
             ],
             [
              0.7777777777777778,
              "#fb9f3a"
             ],
             [
              0.8888888888888888,
              "#fdca26"
             ],
             [
              1,
              "#f0f921"
             ]
            ],
            "type": "heatmap"
           }
          ],
          "heatmapgl": [
           {
            "colorbar": {
             "outlinewidth": 0,
             "ticks": ""
            },
            "colorscale": [
             [
              0,
              "#0d0887"
             ],
             [
              0.1111111111111111,
              "#46039f"
             ],
             [
              0.2222222222222222,
              "#7201a8"
             ],
             [
              0.3333333333333333,
              "#9c179e"
             ],
             [
              0.4444444444444444,
              "#bd3786"
             ],
             [
              0.5555555555555556,
              "#d8576b"
             ],
             [
              0.6666666666666666,
              "#ed7953"
             ],
             [
              0.7777777777777778,
              "#fb9f3a"
             ],
             [
              0.8888888888888888,
              "#fdca26"
             ],
             [
              1,
              "#f0f921"
             ]
            ],
            "type": "heatmapgl"
           }
          ],
          "histogram": [
           {
            "marker": {
             "pattern": {
              "fillmode": "overlay",
              "size": 10,
              "solidity": 0.2
             }
            },
            "type": "histogram"
           }
          ],
          "histogram2d": [
           {
            "colorbar": {
             "outlinewidth": 0,
             "ticks": ""
            },
            "colorscale": [
             [
              0,
              "#0d0887"
             ],
             [
              0.1111111111111111,
              "#46039f"
             ],
             [
              0.2222222222222222,
              "#7201a8"
             ],
             [
              0.3333333333333333,
              "#9c179e"
             ],
             [
              0.4444444444444444,
              "#bd3786"
             ],
             [
              0.5555555555555556,
              "#d8576b"
             ],
             [
              0.6666666666666666,
              "#ed7953"
             ],
             [
              0.7777777777777778,
              "#fb9f3a"
             ],
             [
              0.8888888888888888,
              "#fdca26"
             ],
             [
              1,
              "#f0f921"
             ]
            ],
            "type": "histogram2d"
           }
          ],
          "histogram2dcontour": [
           {
            "colorbar": {
             "outlinewidth": 0,
             "ticks": ""
            },
            "colorscale": [
             [
              0,
              "#0d0887"
             ],
             [
              0.1111111111111111,
              "#46039f"
             ],
             [
              0.2222222222222222,
              "#7201a8"
             ],
             [
              0.3333333333333333,
              "#9c179e"
             ],
             [
              0.4444444444444444,
              "#bd3786"
             ],
             [
              0.5555555555555556,
              "#d8576b"
             ],
             [
              0.6666666666666666,
              "#ed7953"
             ],
             [
              0.7777777777777778,
              "#fb9f3a"
             ],
             [
              0.8888888888888888,
              "#fdca26"
             ],
             [
              1,
              "#f0f921"
             ]
            ],
            "type": "histogram2dcontour"
           }
          ],
          "mesh3d": [
           {
            "colorbar": {
             "outlinewidth": 0,
             "ticks": ""
            },
            "type": "mesh3d"
           }
          ],
          "parcoords": [
           {
            "line": {
             "colorbar": {
              "outlinewidth": 0,
              "ticks": ""
             }
            },
            "type": "parcoords"
           }
          ],
          "pie": [
           {
            "automargin": true,
            "type": "pie"
           }
          ],
          "scatter": [
           {
            "fillpattern": {
             "fillmode": "overlay",
             "size": 10,
             "solidity": 0.2
            },
            "type": "scatter"
           }
          ],
          "scatter3d": [
           {
            "line": {
             "colorbar": {
              "outlinewidth": 0,
              "ticks": ""
             }
            },
            "marker": {
             "colorbar": {
              "outlinewidth": 0,
              "ticks": ""
             }
            },
            "type": "scatter3d"
           }
          ],
          "scattercarpet": [
           {
            "marker": {
             "colorbar": {
              "outlinewidth": 0,
              "ticks": ""
             }
            },
            "type": "scattercarpet"
           }
          ],
          "scattergeo": [
           {
            "marker": {
             "colorbar": {
              "outlinewidth": 0,
              "ticks": ""
             }
            },
            "type": "scattergeo"
           }
          ],
          "scattergl": [
           {
            "marker": {
             "colorbar": {
              "outlinewidth": 0,
              "ticks": ""
             }
            },
            "type": "scattergl"
           }
          ],
          "scattermapbox": [
           {
            "marker": {
             "colorbar": {
              "outlinewidth": 0,
              "ticks": ""
             }
            },
            "type": "scattermapbox"
           }
          ],
          "scatterpolar": [
           {
            "marker": {
             "colorbar": {
              "outlinewidth": 0,
              "ticks": ""
             }
            },
            "type": "scatterpolar"
           }
          ],
          "scatterpolargl": [
           {
            "marker": {
             "colorbar": {
              "outlinewidth": 0,
              "ticks": ""
             }
            },
            "type": "scatterpolargl"
           }
          ],
          "scatterternary": [
           {
            "marker": {
             "colorbar": {
              "outlinewidth": 0,
              "ticks": ""
             }
            },
            "type": "scatterternary"
           }
          ],
          "surface": [
           {
            "colorbar": {
             "outlinewidth": 0,
             "ticks": ""
            },
            "colorscale": [
             [
              0,
              "#0d0887"
             ],
             [
              0.1111111111111111,
              "#46039f"
             ],
             [
              0.2222222222222222,
              "#7201a8"
             ],
             [
              0.3333333333333333,
              "#9c179e"
             ],
             [
              0.4444444444444444,
              "#bd3786"
             ],
             [
              0.5555555555555556,
              "#d8576b"
             ],
             [
              0.6666666666666666,
              "#ed7953"
             ],
             [
              0.7777777777777778,
              "#fb9f3a"
             ],
             [
              0.8888888888888888,
              "#fdca26"
             ],
             [
              1,
              "#f0f921"
             ]
            ],
            "type": "surface"
           }
          ],
          "table": [
           {
            "cells": {
             "fill": {
              "color": "#EBF0F8"
             },
             "line": {
              "color": "white"
             }
            },
            "header": {
             "fill": {
              "color": "#C8D4E3"
             },
             "line": {
              "color": "white"
             }
            },
            "type": "table"
           }
          ]
         },
         "layout": {
          "annotationdefaults": {
           "arrowcolor": "#2a3f5f",
           "arrowhead": 0,
           "arrowwidth": 1
          },
          "autotypenumbers": "strict",
          "coloraxis": {
           "colorbar": {
            "outlinewidth": 0,
            "ticks": ""
           }
          },
          "colorscale": {
           "diverging": [
            [
             0,
             "#8e0152"
            ],
            [
             0.1,
             "#c51b7d"
            ],
            [
             0.2,
             "#de77ae"
            ],
            [
             0.3,
             "#f1b6da"
            ],
            [
             0.4,
             "#fde0ef"
            ],
            [
             0.5,
             "#f7f7f7"
            ],
            [
             0.6,
             "#e6f5d0"
            ],
            [
             0.7,
             "#b8e186"
            ],
            [
             0.8,
             "#7fbc41"
            ],
            [
             0.9,
             "#4d9221"
            ],
            [
             1,
             "#276419"
            ]
           ],
           "sequential": [
            [
             0,
             "#0d0887"
            ],
            [
             0.1111111111111111,
             "#46039f"
            ],
            [
             0.2222222222222222,
             "#7201a8"
            ],
            [
             0.3333333333333333,
             "#9c179e"
            ],
            [
             0.4444444444444444,
             "#bd3786"
            ],
            [
             0.5555555555555556,
             "#d8576b"
            ],
            [
             0.6666666666666666,
             "#ed7953"
            ],
            [
             0.7777777777777778,
             "#fb9f3a"
            ],
            [
             0.8888888888888888,
             "#fdca26"
            ],
            [
             1,
             "#f0f921"
            ]
           ],
           "sequentialminus": [
            [
             0,
             "#0d0887"
            ],
            [
             0.1111111111111111,
             "#46039f"
            ],
            [
             0.2222222222222222,
             "#7201a8"
            ],
            [
             0.3333333333333333,
             "#9c179e"
            ],
            [
             0.4444444444444444,
             "#bd3786"
            ],
            [
             0.5555555555555556,
             "#d8576b"
            ],
            [
             0.6666666666666666,
             "#ed7953"
            ],
            [
             0.7777777777777778,
             "#fb9f3a"
            ],
            [
             0.8888888888888888,
             "#fdca26"
            ],
            [
             1,
             "#f0f921"
            ]
           ]
          },
          "colorway": [
           "#636efa",
           "#EF553B",
           "#00cc96",
           "#ab63fa",
           "#FFA15A",
           "#19d3f3",
           "#FF6692",
           "#B6E880",
           "#FF97FF",
           "#FECB52"
          ],
          "font": {
           "color": "#2a3f5f"
          },
          "geo": {
           "bgcolor": "white",
           "lakecolor": "white",
           "landcolor": "#E5ECF6",
           "showlakes": true,
           "showland": true,
           "subunitcolor": "white"
          },
          "hoverlabel": {
           "align": "left"
          },
          "hovermode": "closest",
          "mapbox": {
           "style": "light"
          },
          "paper_bgcolor": "white",
          "plot_bgcolor": "#E5ECF6",
          "polar": {
           "angularaxis": {
            "gridcolor": "white",
            "linecolor": "white",
            "ticks": ""
           },
           "bgcolor": "#E5ECF6",
           "radialaxis": {
            "gridcolor": "white",
            "linecolor": "white",
            "ticks": ""
           }
          },
          "scene": {
           "xaxis": {
            "backgroundcolor": "#E5ECF6",
            "gridcolor": "white",
            "gridwidth": 2,
            "linecolor": "white",
            "showbackground": true,
            "ticks": "",
            "zerolinecolor": "white"
           },
           "yaxis": {
            "backgroundcolor": "#E5ECF6",
            "gridcolor": "white",
            "gridwidth": 2,
            "linecolor": "white",
            "showbackground": true,
            "ticks": "",
            "zerolinecolor": "white"
           },
           "zaxis": {
            "backgroundcolor": "#E5ECF6",
            "gridcolor": "white",
            "gridwidth": 2,
            "linecolor": "white",
            "showbackground": true,
            "ticks": "",
            "zerolinecolor": "white"
           }
          },
          "shapedefaults": {
           "line": {
            "color": "#2a3f5f"
           }
          },
          "ternary": {
           "aaxis": {
            "gridcolor": "white",
            "linecolor": "white",
            "ticks": ""
           },
           "baxis": {
            "gridcolor": "white",
            "linecolor": "white",
            "ticks": ""
           },
           "bgcolor": "#E5ECF6",
           "caxis": {
            "gridcolor": "white",
            "linecolor": "white",
            "ticks": ""
           }
          },
          "title": {
           "x": 0.05
          },
          "xaxis": {
           "automargin": true,
           "gridcolor": "white",
           "linecolor": "white",
           "ticks": "",
           "title": {
            "standoff": 15
           },
           "zerolinecolor": "white",
           "zerolinewidth": 2
          },
          "yaxis": {
           "automargin": true,
           "gridcolor": "white",
           "linecolor": "white",
           "ticks": "",
           "title": {
            "standoff": 15
           },
           "zerolinecolor": "white",
           "zerolinewidth": 2
          }
         }
        },
        "title": {
         "text": "Top 10 Nationalities by Average Wage"
        },
        "xaxis": {
         "anchor": "y",
         "categoryarray": [
          "Dominican Republic",
          "Armenia",
          "Gabon",
          "Algeria",
          "Syria",
          "Croatia",
          "Chad",
          "Central African Rep.",
          "Belgium",
          "Brazil"
         ],
         "categoryorder": "array",
         "domain": [
          0,
          1
         ],
         "title": {
          "text": "Nationality"
         }
        },
        "yaxis": {
         "anchor": "x",
         "domain": [
          0,
          1
         ],
         "range": [
          0,
          42075
         ],
         "title": {
          "text": "Average Wage"
         }
        }
       }
      },
      "text/html": [
       "<div>                            <div id=\"ee60c975-586f-4c29-82b1-0be85bfb1b00\" class=\"plotly-graph-div\" style=\"height:525px; width:100%;\"></div>            <script type=\"text/javascript\">                require([\"plotly\"], function(Plotly) {                    window.PLOTLYENV=window.PLOTLYENV || {};                                    if (document.getElementById(\"ee60c975-586f-4c29-82b1-0be85bfb1b00\")) {                    Plotly.newPlot(                        \"ee60c975-586f-4c29-82b1-0be85bfb1b00\",                        [{\"alignmentgroup\":\"True\",\"hovertemplate\":\"Nationality=%{x}\\u003cbr\\u003eAverage Wage=%{y}\\u003cextra\\u003e\\u003c\\u002fextra\\u003e\",\"legendgroup\":\"\",\"marker\":{\"color\":\"#636efa\",\"pattern\":{\"shape\":\"\"}},\"name\":\"\",\"offsetgroup\":\"\",\"orientation\":\"v\",\"showlegend\":false,\"textposition\":\"auto\",\"x\":[\"Dominican Republic\",\"Armenia\",\"Gabon\",\"Algeria\",\"Syria\",\"Croatia\",\"Chad\",\"Central African Rep.\",\"Belgium\",\"Brazil\"],\"xaxis\":\"x\",\"y\":[38250.0,23500.0,22125.0,21840.0,21500.0,19619.05,19000.0,17000.0,16973.88,16646.84],\"yaxis\":\"y\",\"type\":\"bar\"}],                        {\"template\":{\"data\":{\"histogram2dcontour\":[{\"type\":\"histogram2dcontour\",\"colorbar\":{\"outlinewidth\":0,\"ticks\":\"\"},\"colorscale\":[[0.0,\"#0d0887\"],[0.1111111111111111,\"#46039f\"],[0.2222222222222222,\"#7201a8\"],[0.3333333333333333,\"#9c179e\"],[0.4444444444444444,\"#bd3786\"],[0.5555555555555556,\"#d8576b\"],[0.6666666666666666,\"#ed7953\"],[0.7777777777777778,\"#fb9f3a\"],[0.8888888888888888,\"#fdca26\"],[1.0,\"#f0f921\"]]}],\"choropleth\":[{\"type\":\"choropleth\",\"colorbar\":{\"outlinewidth\":0,\"ticks\":\"\"}}],\"histogram2d\":[{\"type\":\"histogram2d\",\"colorbar\":{\"outlinewidth\":0,\"ticks\":\"\"},\"colorscale\":[[0.0,\"#0d0887\"],[0.1111111111111111,\"#46039f\"],[0.2222222222222222,\"#7201a8\"],[0.3333333333333333,\"#9c179e\"],[0.4444444444444444,\"#bd3786\"],[0.5555555555555556,\"#d8576b\"],[0.6666666666666666,\"#ed7953\"],[0.7777777777777778,\"#fb9f3a\"],[0.8888888888888888,\"#fdca26\"],[1.0,\"#f0f921\"]]}],\"heatmap\":[{\"type\":\"heatmap\",\"colorbar\":{\"outlinewidth\":0,\"ticks\":\"\"},\"colorscale\":[[0.0,\"#0d0887\"],[0.1111111111111111,\"#46039f\"],[0.2222222222222222,\"#7201a8\"],[0.3333333333333333,\"#9c179e\"],[0.4444444444444444,\"#bd3786\"],[0.5555555555555556,\"#d8576b\"],[0.6666666666666666,\"#ed7953\"],[0.7777777777777778,\"#fb9f3a\"],[0.8888888888888888,\"#fdca26\"],[1.0,\"#f0f921\"]]}],\"heatmapgl\":[{\"type\":\"heatmapgl\",\"colorbar\":{\"outlinewidth\":0,\"ticks\":\"\"},\"colorscale\":[[0.0,\"#0d0887\"],[0.1111111111111111,\"#46039f\"],[0.2222222222222222,\"#7201a8\"],[0.3333333333333333,\"#9c179e\"],[0.4444444444444444,\"#bd3786\"],[0.5555555555555556,\"#d8576b\"],[0.6666666666666666,\"#ed7953\"],[0.7777777777777778,\"#fb9f3a\"],[0.8888888888888888,\"#fdca26\"],[1.0,\"#f0f921\"]]}],\"contourcarpet\":[{\"type\":\"contourcarpet\",\"colorbar\":{\"outlinewidth\":0,\"ticks\":\"\"}}],\"contour\":[{\"type\":\"contour\",\"colorbar\":{\"outlinewidth\":0,\"ticks\":\"\"},\"colorscale\":[[0.0,\"#0d0887\"],[0.1111111111111111,\"#46039f\"],[0.2222222222222222,\"#7201a8\"],[0.3333333333333333,\"#9c179e\"],[0.4444444444444444,\"#bd3786\"],[0.5555555555555556,\"#d8576b\"],[0.6666666666666666,\"#ed7953\"],[0.7777777777777778,\"#fb9f3a\"],[0.8888888888888888,\"#fdca26\"],[1.0,\"#f0f921\"]]}],\"surface\":[{\"type\":\"surface\",\"colorbar\":{\"outlinewidth\":0,\"ticks\":\"\"},\"colorscale\":[[0.0,\"#0d0887\"],[0.1111111111111111,\"#46039f\"],[0.2222222222222222,\"#7201a8\"],[0.3333333333333333,\"#9c179e\"],[0.4444444444444444,\"#bd3786\"],[0.5555555555555556,\"#d8576b\"],[0.6666666666666666,\"#ed7953\"],[0.7777777777777778,\"#fb9f3a\"],[0.8888888888888888,\"#fdca26\"],[1.0,\"#f0f921\"]]}],\"mesh3d\":[{\"type\":\"mesh3d\",\"colorbar\":{\"outlinewidth\":0,\"ticks\":\"\"}}],\"scatter\":[{\"fillpattern\":{\"fillmode\":\"overlay\",\"size\":10,\"solidity\":0.2},\"type\":\"scatter\"}],\"parcoords\":[{\"type\":\"parcoords\",\"line\":{\"colorbar\":{\"outlinewidth\":0,\"ticks\":\"\"}}}],\"scatterpolargl\":[{\"type\":\"scatterpolargl\",\"marker\":{\"colorbar\":{\"outlinewidth\":0,\"ticks\":\"\"}}}],\"bar\":[{\"error_x\":{\"color\":\"#2a3f5f\"},\"error_y\":{\"color\":\"#2a3f5f\"},\"marker\":{\"line\":{\"color\":\"#E5ECF6\",\"width\":0.5},\"pattern\":{\"fillmode\":\"overlay\",\"size\":10,\"solidity\":0.2}},\"type\":\"bar\"}],\"scattergeo\":[{\"type\":\"scattergeo\",\"marker\":{\"colorbar\":{\"outlinewidth\":0,\"ticks\":\"\"}}}],\"scatterpolar\":[{\"type\":\"scatterpolar\",\"marker\":{\"colorbar\":{\"outlinewidth\":0,\"ticks\":\"\"}}}],\"histogram\":[{\"marker\":{\"pattern\":{\"fillmode\":\"overlay\",\"size\":10,\"solidity\":0.2}},\"type\":\"histogram\"}],\"scattergl\":[{\"type\":\"scattergl\",\"marker\":{\"colorbar\":{\"outlinewidth\":0,\"ticks\":\"\"}}}],\"scatter3d\":[{\"type\":\"scatter3d\",\"line\":{\"colorbar\":{\"outlinewidth\":0,\"ticks\":\"\"}},\"marker\":{\"colorbar\":{\"outlinewidth\":0,\"ticks\":\"\"}}}],\"scattermapbox\":[{\"type\":\"scattermapbox\",\"marker\":{\"colorbar\":{\"outlinewidth\":0,\"ticks\":\"\"}}}],\"scatterternary\":[{\"type\":\"scatterternary\",\"marker\":{\"colorbar\":{\"outlinewidth\":0,\"ticks\":\"\"}}}],\"scattercarpet\":[{\"type\":\"scattercarpet\",\"marker\":{\"colorbar\":{\"outlinewidth\":0,\"ticks\":\"\"}}}],\"carpet\":[{\"aaxis\":{\"endlinecolor\":\"#2a3f5f\",\"gridcolor\":\"white\",\"linecolor\":\"white\",\"minorgridcolor\":\"white\",\"startlinecolor\":\"#2a3f5f\"},\"baxis\":{\"endlinecolor\":\"#2a3f5f\",\"gridcolor\":\"white\",\"linecolor\":\"white\",\"minorgridcolor\":\"white\",\"startlinecolor\":\"#2a3f5f\"},\"type\":\"carpet\"}],\"table\":[{\"cells\":{\"fill\":{\"color\":\"#EBF0F8\"},\"line\":{\"color\":\"white\"}},\"header\":{\"fill\":{\"color\":\"#C8D4E3\"},\"line\":{\"color\":\"white\"}},\"type\":\"table\"}],\"barpolar\":[{\"marker\":{\"line\":{\"color\":\"#E5ECF6\",\"width\":0.5},\"pattern\":{\"fillmode\":\"overlay\",\"size\":10,\"solidity\":0.2}},\"type\":\"barpolar\"}],\"pie\":[{\"automargin\":true,\"type\":\"pie\"}]},\"layout\":{\"autotypenumbers\":\"strict\",\"colorway\":[\"#636efa\",\"#EF553B\",\"#00cc96\",\"#ab63fa\",\"#FFA15A\",\"#19d3f3\",\"#FF6692\",\"#B6E880\",\"#FF97FF\",\"#FECB52\"],\"font\":{\"color\":\"#2a3f5f\"},\"hovermode\":\"closest\",\"hoverlabel\":{\"align\":\"left\"},\"paper_bgcolor\":\"white\",\"plot_bgcolor\":\"#E5ECF6\",\"polar\":{\"bgcolor\":\"#E5ECF6\",\"angularaxis\":{\"gridcolor\":\"white\",\"linecolor\":\"white\",\"ticks\":\"\"},\"radialaxis\":{\"gridcolor\":\"white\",\"linecolor\":\"white\",\"ticks\":\"\"}},\"ternary\":{\"bgcolor\":\"#E5ECF6\",\"aaxis\":{\"gridcolor\":\"white\",\"linecolor\":\"white\",\"ticks\":\"\"},\"baxis\":{\"gridcolor\":\"white\",\"linecolor\":\"white\",\"ticks\":\"\"},\"caxis\":{\"gridcolor\":\"white\",\"linecolor\":\"white\",\"ticks\":\"\"}},\"coloraxis\":{\"colorbar\":{\"outlinewidth\":0,\"ticks\":\"\"}},\"colorscale\":{\"sequential\":[[0.0,\"#0d0887\"],[0.1111111111111111,\"#46039f\"],[0.2222222222222222,\"#7201a8\"],[0.3333333333333333,\"#9c179e\"],[0.4444444444444444,\"#bd3786\"],[0.5555555555555556,\"#d8576b\"],[0.6666666666666666,\"#ed7953\"],[0.7777777777777778,\"#fb9f3a\"],[0.8888888888888888,\"#fdca26\"],[1.0,\"#f0f921\"]],\"sequentialminus\":[[0.0,\"#0d0887\"],[0.1111111111111111,\"#46039f\"],[0.2222222222222222,\"#7201a8\"],[0.3333333333333333,\"#9c179e\"],[0.4444444444444444,\"#bd3786\"],[0.5555555555555556,\"#d8576b\"],[0.6666666666666666,\"#ed7953\"],[0.7777777777777778,\"#fb9f3a\"],[0.8888888888888888,\"#fdca26\"],[1.0,\"#f0f921\"]],\"diverging\":[[0,\"#8e0152\"],[0.1,\"#c51b7d\"],[0.2,\"#de77ae\"],[0.3,\"#f1b6da\"],[0.4,\"#fde0ef\"],[0.5,\"#f7f7f7\"],[0.6,\"#e6f5d0\"],[0.7,\"#b8e186\"],[0.8,\"#7fbc41\"],[0.9,\"#4d9221\"],[1,\"#276419\"]]},\"xaxis\":{\"gridcolor\":\"white\",\"linecolor\":\"white\",\"ticks\":\"\",\"title\":{\"standoff\":15},\"zerolinecolor\":\"white\",\"automargin\":true,\"zerolinewidth\":2},\"yaxis\":{\"gridcolor\":\"white\",\"linecolor\":\"white\",\"ticks\":\"\",\"title\":{\"standoff\":15},\"zerolinecolor\":\"white\",\"automargin\":true,\"zerolinewidth\":2},\"scene\":{\"xaxis\":{\"backgroundcolor\":\"#E5ECF6\",\"gridcolor\":\"white\",\"linecolor\":\"white\",\"showbackground\":true,\"ticks\":\"\",\"zerolinecolor\":\"white\",\"gridwidth\":2},\"yaxis\":{\"backgroundcolor\":\"#E5ECF6\",\"gridcolor\":\"white\",\"linecolor\":\"white\",\"showbackground\":true,\"ticks\":\"\",\"zerolinecolor\":\"white\",\"gridwidth\":2},\"zaxis\":{\"backgroundcolor\":\"#E5ECF6\",\"gridcolor\":\"white\",\"linecolor\":\"white\",\"showbackground\":true,\"ticks\":\"\",\"zerolinecolor\":\"white\",\"gridwidth\":2}},\"shapedefaults\":{\"line\":{\"color\":\"#2a3f5f\"}},\"annotationdefaults\":{\"arrowcolor\":\"#2a3f5f\",\"arrowhead\":0,\"arrowwidth\":1},\"geo\":{\"bgcolor\":\"white\",\"landcolor\":\"#E5ECF6\",\"subunitcolor\":\"white\",\"showland\":true,\"showlakes\":true,\"lakecolor\":\"white\"},\"title\":{\"x\":0.05},\"mapbox\":{\"style\":\"light\"}}},\"xaxis\":{\"anchor\":\"y\",\"domain\":[0.0,1.0],\"title\":{\"text\":\"Nationality\"},\"categoryorder\":\"array\",\"categoryarray\":[\"Dominican Republic\",\"Armenia\",\"Gabon\",\"Algeria\",\"Syria\",\"Croatia\",\"Chad\",\"Central African Rep.\",\"Belgium\",\"Brazil\"]},\"yaxis\":{\"anchor\":\"x\",\"domain\":[0.0,1.0],\"title\":{\"text\":\"Average Wage\"},\"range\":[0,42075.0]},\"legend\":{\"tracegroupgap\":0},\"title\":{\"text\":\"Top 10 Nationalities by Average Wage\"},\"barmode\":\"relative\"},                        {\"responsive\": true}                    ).then(function(){\n",
       "                            \n",
       "var gd = document.getElementById('ee60c975-586f-4c29-82b1-0be85bfb1b00');\n",
       "var x = new MutationObserver(function (mutations, observer) {{\n",
       "        var display = window.getComputedStyle(gd).display;\n",
       "        if (!display || display === 'none') {{\n",
       "            console.log([gd, 'removed!']);\n",
       "            Plotly.purge(gd);\n",
       "            observer.disconnect();\n",
       "        }}\n",
       "}});\n",
       "\n",
       "// Listen for the removal of the full notebook cells\n",
       "var notebookContainer = gd.closest('#notebook-container');\n",
       "if (notebookContainer) {{\n",
       "    x.observe(notebookContainer, {childList: true});\n",
       "}}\n",
       "\n",
       "// Listen for the clearing of the current output cell\n",
       "var outputEl = gd.closest('.output');\n",
       "if (outputEl) {{\n",
       "    x.observe(outputEl, {childList: true});\n",
       "}}\n",
       "\n",
       "                        })                };                });            </script>        </div>"
      ]
     },
     "metadata": {},
     "output_type": "display_data"
    }
   ],
   "source": [
    "avg_wage_top_10 = avg_wage.reset_index().head(10)\n",
    "avg_wage_top_10 = avg_wage_top_10.sort_values(by='average wage', ascending=False)\n",
    "avg_wage_top_10['average wage'] = avg_wage_top_10['average wage'].str.replace('$', '').str.replace(',', '')\n",
    "avg_wage_top_10['average wage'] = pd.to_numeric(avg_wage_top_10['average wage'])\n",
    "\n",
    "fig = px.bar(avg_wage_top_10, x='nationality', y='average wage', labels={'nationality': 'Nationality', 'average wage': 'Average Wage'}, category_orders={'nationality': avg_wage_top_10['nationality'].tolist()}, title='Top 10 Nationalities by Average Wage')\n",
    "\n",
    "fig.update_layout(yaxis_range=[0, avg_wage_top_10['average wage'].max() * 1.1])\n",
    "fig.show()\n"
   ]
  },
  {
   "cell_type": "code",
   "execution_count": 577,
   "metadata": {},
   "outputs": [
    {
     "data": {
      "application/vnd.plotly.v1+json": {
       "config": {
        "plotlyServerURL": "https://plot.ly"
       },
       "data": [
        {
         "coloraxis": "coloraxis",
         "hovertemplate": "Nationality: %{x}<br>Average Wage (EUR): %{y}<br>color: %{z}<extra></extra>",
         "name": "0",
         "texttemplate": "%{z}",
         "type": "heatmap",
         "x": [
          "Dominican Republic",
          "Armenia",
          "Gabon",
          "Algeria",
          "Syria",
          "Croatia",
          "Chad",
          "Central African Rep.",
          "Belgium",
          "Brazil"
         ],
         "xaxis": "x",
         "y": [
          "Average Wage"
         ],
         "yaxis": "y",
         "z": [
          [
           38250,
           23500,
           22125,
           21840,
           21500,
           19619.05,
           19000,
           17000,
           16973.88,
           16646.84
          ]
         ]
        }
       ],
       "layout": {
        "coloraxis": {
         "colorscale": [
          [
           0,
           "#440154"
          ],
          [
           0.1111111111111111,
           "#482878"
          ],
          [
           0.2222222222222222,
           "#3e4989"
          ],
          [
           0.3333333333333333,
           "#31688e"
          ],
          [
           0.4444444444444444,
           "#26828e"
          ],
          [
           0.5555555555555556,
           "#1f9e89"
          ],
          [
           0.6666666666666666,
           "#35b779"
          ],
          [
           0.7777777777777778,
           "#6ece58"
          ],
          [
           0.8888888888888888,
           "#b5de2b"
          ],
          [
           1,
           "#fde725"
          ]
         ]
        },
        "margin": {
         "t": 60
        },
        "template": {
         "data": {
          "bar": [
           {
            "error_x": {
             "color": "#2a3f5f"
            },
            "error_y": {
             "color": "#2a3f5f"
            },
            "marker": {
             "line": {
              "color": "#E5ECF6",
              "width": 0.5
             },
             "pattern": {
              "fillmode": "overlay",
              "size": 10,
              "solidity": 0.2
             }
            },
            "type": "bar"
           }
          ],
          "barpolar": [
           {
            "marker": {
             "line": {
              "color": "#E5ECF6",
              "width": 0.5
             },
             "pattern": {
              "fillmode": "overlay",
              "size": 10,
              "solidity": 0.2
             }
            },
            "type": "barpolar"
           }
          ],
          "carpet": [
           {
            "aaxis": {
             "endlinecolor": "#2a3f5f",
             "gridcolor": "white",
             "linecolor": "white",
             "minorgridcolor": "white",
             "startlinecolor": "#2a3f5f"
            },
            "baxis": {
             "endlinecolor": "#2a3f5f",
             "gridcolor": "white",
             "linecolor": "white",
             "minorgridcolor": "white",
             "startlinecolor": "#2a3f5f"
            },
            "type": "carpet"
           }
          ],
          "choropleth": [
           {
            "colorbar": {
             "outlinewidth": 0,
             "ticks": ""
            },
            "type": "choropleth"
           }
          ],
          "contour": [
           {
            "colorbar": {
             "outlinewidth": 0,
             "ticks": ""
            },
            "colorscale": [
             [
              0,
              "#0d0887"
             ],
             [
              0.1111111111111111,
              "#46039f"
             ],
             [
              0.2222222222222222,
              "#7201a8"
             ],
             [
              0.3333333333333333,
              "#9c179e"
             ],
             [
              0.4444444444444444,
              "#bd3786"
             ],
             [
              0.5555555555555556,
              "#d8576b"
             ],
             [
              0.6666666666666666,
              "#ed7953"
             ],
             [
              0.7777777777777778,
              "#fb9f3a"
             ],
             [
              0.8888888888888888,
              "#fdca26"
             ],
             [
              1,
              "#f0f921"
             ]
            ],
            "type": "contour"
           }
          ],
          "contourcarpet": [
           {
            "colorbar": {
             "outlinewidth": 0,
             "ticks": ""
            },
            "type": "contourcarpet"
           }
          ],
          "heatmap": [
           {
            "colorbar": {
             "outlinewidth": 0,
             "ticks": ""
            },
            "colorscale": [
             [
              0,
              "#0d0887"
             ],
             [
              0.1111111111111111,
              "#46039f"
             ],
             [
              0.2222222222222222,
              "#7201a8"
             ],
             [
              0.3333333333333333,
              "#9c179e"
             ],
             [
              0.4444444444444444,
              "#bd3786"
             ],
             [
              0.5555555555555556,
              "#d8576b"
             ],
             [
              0.6666666666666666,
              "#ed7953"
             ],
             [
              0.7777777777777778,
              "#fb9f3a"
             ],
             [
              0.8888888888888888,
              "#fdca26"
             ],
             [
              1,
              "#f0f921"
             ]
            ],
            "type": "heatmap"
           }
          ],
          "heatmapgl": [
           {
            "colorbar": {
             "outlinewidth": 0,
             "ticks": ""
            },
            "colorscale": [
             [
              0,
              "#0d0887"
             ],
             [
              0.1111111111111111,
              "#46039f"
             ],
             [
              0.2222222222222222,
              "#7201a8"
             ],
             [
              0.3333333333333333,
              "#9c179e"
             ],
             [
              0.4444444444444444,
              "#bd3786"
             ],
             [
              0.5555555555555556,
              "#d8576b"
             ],
             [
              0.6666666666666666,
              "#ed7953"
             ],
             [
              0.7777777777777778,
              "#fb9f3a"
             ],
             [
              0.8888888888888888,
              "#fdca26"
             ],
             [
              1,
              "#f0f921"
             ]
            ],
            "type": "heatmapgl"
           }
          ],
          "histogram": [
           {
            "marker": {
             "pattern": {
              "fillmode": "overlay",
              "size": 10,
              "solidity": 0.2
             }
            },
            "type": "histogram"
           }
          ],
          "histogram2d": [
           {
            "colorbar": {
             "outlinewidth": 0,
             "ticks": ""
            },
            "colorscale": [
             [
              0,
              "#0d0887"
             ],
             [
              0.1111111111111111,
              "#46039f"
             ],
             [
              0.2222222222222222,
              "#7201a8"
             ],
             [
              0.3333333333333333,
              "#9c179e"
             ],
             [
              0.4444444444444444,
              "#bd3786"
             ],
             [
              0.5555555555555556,
              "#d8576b"
             ],
             [
              0.6666666666666666,
              "#ed7953"
             ],
             [
              0.7777777777777778,
              "#fb9f3a"
             ],
             [
              0.8888888888888888,
              "#fdca26"
             ],
             [
              1,
              "#f0f921"
             ]
            ],
            "type": "histogram2d"
           }
          ],
          "histogram2dcontour": [
           {
            "colorbar": {
             "outlinewidth": 0,
             "ticks": ""
            },
            "colorscale": [
             [
              0,
              "#0d0887"
             ],
             [
              0.1111111111111111,
              "#46039f"
             ],
             [
              0.2222222222222222,
              "#7201a8"
             ],
             [
              0.3333333333333333,
              "#9c179e"
             ],
             [
              0.4444444444444444,
              "#bd3786"
             ],
             [
              0.5555555555555556,
              "#d8576b"
             ],
             [
              0.6666666666666666,
              "#ed7953"
             ],
             [
              0.7777777777777778,
              "#fb9f3a"
             ],
             [
              0.8888888888888888,
              "#fdca26"
             ],
             [
              1,
              "#f0f921"
             ]
            ],
            "type": "histogram2dcontour"
           }
          ],
          "mesh3d": [
           {
            "colorbar": {
             "outlinewidth": 0,
             "ticks": ""
            },
            "type": "mesh3d"
           }
          ],
          "parcoords": [
           {
            "line": {
             "colorbar": {
              "outlinewidth": 0,
              "ticks": ""
             }
            },
            "type": "parcoords"
           }
          ],
          "pie": [
           {
            "automargin": true,
            "type": "pie"
           }
          ],
          "scatter": [
           {
            "fillpattern": {
             "fillmode": "overlay",
             "size": 10,
             "solidity": 0.2
            },
            "type": "scatter"
           }
          ],
          "scatter3d": [
           {
            "line": {
             "colorbar": {
              "outlinewidth": 0,
              "ticks": ""
             }
            },
            "marker": {
             "colorbar": {
              "outlinewidth": 0,
              "ticks": ""
             }
            },
            "type": "scatter3d"
           }
          ],
          "scattercarpet": [
           {
            "marker": {
             "colorbar": {
              "outlinewidth": 0,
              "ticks": ""
             }
            },
            "type": "scattercarpet"
           }
          ],
          "scattergeo": [
           {
            "marker": {
             "colorbar": {
              "outlinewidth": 0,
              "ticks": ""
             }
            },
            "type": "scattergeo"
           }
          ],
          "scattergl": [
           {
            "marker": {
             "colorbar": {
              "outlinewidth": 0,
              "ticks": ""
             }
            },
            "type": "scattergl"
           }
          ],
          "scattermapbox": [
           {
            "marker": {
             "colorbar": {
              "outlinewidth": 0,
              "ticks": ""
             }
            },
            "type": "scattermapbox"
           }
          ],
          "scatterpolar": [
           {
            "marker": {
             "colorbar": {
              "outlinewidth": 0,
              "ticks": ""
             }
            },
            "type": "scatterpolar"
           }
          ],
          "scatterpolargl": [
           {
            "marker": {
             "colorbar": {
              "outlinewidth": 0,
              "ticks": ""
             }
            },
            "type": "scatterpolargl"
           }
          ],
          "scatterternary": [
           {
            "marker": {
             "colorbar": {
              "outlinewidth": 0,
              "ticks": ""
             }
            },
            "type": "scatterternary"
           }
          ],
          "surface": [
           {
            "colorbar": {
             "outlinewidth": 0,
             "ticks": ""
            },
            "colorscale": [
             [
              0,
              "#0d0887"
             ],
             [
              0.1111111111111111,
              "#46039f"
             ],
             [
              0.2222222222222222,
              "#7201a8"
             ],
             [
              0.3333333333333333,
              "#9c179e"
             ],
             [
              0.4444444444444444,
              "#bd3786"
             ],
             [
              0.5555555555555556,
              "#d8576b"
             ],
             [
              0.6666666666666666,
              "#ed7953"
             ],
             [
              0.7777777777777778,
              "#fb9f3a"
             ],
             [
              0.8888888888888888,
              "#fdca26"
             ],
             [
              1,
              "#f0f921"
             ]
            ],
            "type": "surface"
           }
          ],
          "table": [
           {
            "cells": {
             "fill": {
              "color": "#EBF0F8"
             },
             "line": {
              "color": "white"
             }
            },
            "header": {
             "fill": {
              "color": "#C8D4E3"
             },
             "line": {
              "color": "white"
             }
            },
            "type": "table"
           }
          ]
         },
         "layout": {
          "annotationdefaults": {
           "arrowcolor": "#2a3f5f",
           "arrowhead": 0,
           "arrowwidth": 1
          },
          "autotypenumbers": "strict",
          "coloraxis": {
           "colorbar": {
            "outlinewidth": 0,
            "ticks": ""
           }
          },
          "colorscale": {
           "diverging": [
            [
             0,
             "#8e0152"
            ],
            [
             0.1,
             "#c51b7d"
            ],
            [
             0.2,
             "#de77ae"
            ],
            [
             0.3,
             "#f1b6da"
            ],
            [
             0.4,
             "#fde0ef"
            ],
            [
             0.5,
             "#f7f7f7"
            ],
            [
             0.6,
             "#e6f5d0"
            ],
            [
             0.7,
             "#b8e186"
            ],
            [
             0.8,
             "#7fbc41"
            ],
            [
             0.9,
             "#4d9221"
            ],
            [
             1,
             "#276419"
            ]
           ],
           "sequential": [
            [
             0,
             "#0d0887"
            ],
            [
             0.1111111111111111,
             "#46039f"
            ],
            [
             0.2222222222222222,
             "#7201a8"
            ],
            [
             0.3333333333333333,
             "#9c179e"
            ],
            [
             0.4444444444444444,
             "#bd3786"
            ],
            [
             0.5555555555555556,
             "#d8576b"
            ],
            [
             0.6666666666666666,
             "#ed7953"
            ],
            [
             0.7777777777777778,
             "#fb9f3a"
            ],
            [
             0.8888888888888888,
             "#fdca26"
            ],
            [
             1,
             "#f0f921"
            ]
           ],
           "sequentialminus": [
            [
             0,
             "#0d0887"
            ],
            [
             0.1111111111111111,
             "#46039f"
            ],
            [
             0.2222222222222222,
             "#7201a8"
            ],
            [
             0.3333333333333333,
             "#9c179e"
            ],
            [
             0.4444444444444444,
             "#bd3786"
            ],
            [
             0.5555555555555556,
             "#d8576b"
            ],
            [
             0.6666666666666666,
             "#ed7953"
            ],
            [
             0.7777777777777778,
             "#fb9f3a"
            ],
            [
             0.8888888888888888,
             "#fdca26"
            ],
            [
             1,
             "#f0f921"
            ]
           ]
          },
          "colorway": [
           "#636efa",
           "#EF553B",
           "#00cc96",
           "#ab63fa",
           "#FFA15A",
           "#19d3f3",
           "#FF6692",
           "#B6E880",
           "#FF97FF",
           "#FECB52"
          ],
          "font": {
           "color": "#2a3f5f"
          },
          "geo": {
           "bgcolor": "white",
           "lakecolor": "white",
           "landcolor": "#E5ECF6",
           "showlakes": true,
           "showland": true,
           "subunitcolor": "white"
          },
          "hoverlabel": {
           "align": "left"
          },
          "hovermode": "closest",
          "mapbox": {
           "style": "light"
          },
          "paper_bgcolor": "white",
          "plot_bgcolor": "#E5ECF6",
          "polar": {
           "angularaxis": {
            "gridcolor": "white",
            "linecolor": "white",
            "ticks": ""
           },
           "bgcolor": "#E5ECF6",
           "radialaxis": {
            "gridcolor": "white",
            "linecolor": "white",
            "ticks": ""
           }
          },
          "scene": {
           "xaxis": {
            "backgroundcolor": "#E5ECF6",
            "gridcolor": "white",
            "gridwidth": 2,
            "linecolor": "white",
            "showbackground": true,
            "ticks": "",
            "zerolinecolor": "white"
           },
           "yaxis": {
            "backgroundcolor": "#E5ECF6",
            "gridcolor": "white",
            "gridwidth": 2,
            "linecolor": "white",
            "showbackground": true,
            "ticks": "",
            "zerolinecolor": "white"
           },
           "zaxis": {
            "backgroundcolor": "#E5ECF6",
            "gridcolor": "white",
            "gridwidth": 2,
            "linecolor": "white",
            "showbackground": true,
            "ticks": "",
            "zerolinecolor": "white"
           }
          },
          "shapedefaults": {
           "line": {
            "color": "#2a3f5f"
           }
          },
          "ternary": {
           "aaxis": {
            "gridcolor": "white",
            "linecolor": "white",
            "ticks": ""
           },
           "baxis": {
            "gridcolor": "white",
            "linecolor": "white",
            "ticks": ""
           },
           "bgcolor": "#E5ECF6",
           "caxis": {
            "gridcolor": "white",
            "linecolor": "white",
            "ticks": ""
           }
          },
          "title": {
           "x": 0.05
          },
          "xaxis": {
           "automargin": true,
           "gridcolor": "white",
           "linecolor": "white",
           "ticks": "",
           "title": {
            "standoff": 15
           },
           "zerolinecolor": "white",
           "zerolinewidth": 2
          },
          "yaxis": {
           "automargin": true,
           "gridcolor": "white",
           "linecolor": "white",
           "ticks": "",
           "title": {
            "standoff": 15
           },
           "zerolinecolor": "white",
           "zerolinewidth": 2
          }
         }
        },
        "xaxis": {
         "anchor": "y",
         "constrain": "domain",
         "domain": [
          0,
          1
         ],
         "scaleanchor": "y",
         "title": {
          "text": "Nationality"
         }
        },
        "yaxis": {
         "anchor": "x",
         "autorange": "reversed",
         "constrain": "domain",
         "domain": [
          0,
          1
         ],
         "title": {
          "text": "Average Wage (EUR)"
         }
        }
       }
      },
      "text/html": [
       "<div>                            <div id=\"e948349a-21e0-4d0b-9b87-0b9849e0736e\" class=\"plotly-graph-div\" style=\"height:525px; width:100%;\"></div>            <script type=\"text/javascript\">                require([\"plotly\"], function(Plotly) {                    window.PLOTLYENV=window.PLOTLYENV || {};                                    if (document.getElementById(\"e948349a-21e0-4d0b-9b87-0b9849e0736e\")) {                    Plotly.newPlot(                        \"e948349a-21e0-4d0b-9b87-0b9849e0736e\",                        [{\"coloraxis\":\"coloraxis\",\"name\":\"0\",\"texttemplate\":\"%{z}\",\"x\":[\"Dominican Republic\",\"Armenia\",\"Gabon\",\"Algeria\",\"Syria\",\"Croatia\",\"Chad\",\"Central African Rep.\",\"Belgium\",\"Brazil\"],\"y\":[\"Average Wage\"],\"z\":[[38250.0,23500.0,22125.0,21840.0,21500.0,19619.05,19000.0,17000.0,16973.88,16646.84]],\"type\":\"heatmap\",\"xaxis\":\"x\",\"yaxis\":\"y\",\"hovertemplate\":\"Nationality: %{x}\\u003cbr\\u003eAverage Wage (EUR): %{y}\\u003cbr\\u003ecolor: %{z}\\u003cextra\\u003e\\u003c\\u002fextra\\u003e\"}],                        {\"template\":{\"data\":{\"histogram2dcontour\":[{\"type\":\"histogram2dcontour\",\"colorbar\":{\"outlinewidth\":0,\"ticks\":\"\"},\"colorscale\":[[0.0,\"#0d0887\"],[0.1111111111111111,\"#46039f\"],[0.2222222222222222,\"#7201a8\"],[0.3333333333333333,\"#9c179e\"],[0.4444444444444444,\"#bd3786\"],[0.5555555555555556,\"#d8576b\"],[0.6666666666666666,\"#ed7953\"],[0.7777777777777778,\"#fb9f3a\"],[0.8888888888888888,\"#fdca26\"],[1.0,\"#f0f921\"]]}],\"choropleth\":[{\"type\":\"choropleth\",\"colorbar\":{\"outlinewidth\":0,\"ticks\":\"\"}}],\"histogram2d\":[{\"type\":\"histogram2d\",\"colorbar\":{\"outlinewidth\":0,\"ticks\":\"\"},\"colorscale\":[[0.0,\"#0d0887\"],[0.1111111111111111,\"#46039f\"],[0.2222222222222222,\"#7201a8\"],[0.3333333333333333,\"#9c179e\"],[0.4444444444444444,\"#bd3786\"],[0.5555555555555556,\"#d8576b\"],[0.6666666666666666,\"#ed7953\"],[0.7777777777777778,\"#fb9f3a\"],[0.8888888888888888,\"#fdca26\"],[1.0,\"#f0f921\"]]}],\"heatmap\":[{\"type\":\"heatmap\",\"colorbar\":{\"outlinewidth\":0,\"ticks\":\"\"},\"colorscale\":[[0.0,\"#0d0887\"],[0.1111111111111111,\"#46039f\"],[0.2222222222222222,\"#7201a8\"],[0.3333333333333333,\"#9c179e\"],[0.4444444444444444,\"#bd3786\"],[0.5555555555555556,\"#d8576b\"],[0.6666666666666666,\"#ed7953\"],[0.7777777777777778,\"#fb9f3a\"],[0.8888888888888888,\"#fdca26\"],[1.0,\"#f0f921\"]]}],\"heatmapgl\":[{\"type\":\"heatmapgl\",\"colorbar\":{\"outlinewidth\":0,\"ticks\":\"\"},\"colorscale\":[[0.0,\"#0d0887\"],[0.1111111111111111,\"#46039f\"],[0.2222222222222222,\"#7201a8\"],[0.3333333333333333,\"#9c179e\"],[0.4444444444444444,\"#bd3786\"],[0.5555555555555556,\"#d8576b\"],[0.6666666666666666,\"#ed7953\"],[0.7777777777777778,\"#fb9f3a\"],[0.8888888888888888,\"#fdca26\"],[1.0,\"#f0f921\"]]}],\"contourcarpet\":[{\"type\":\"contourcarpet\",\"colorbar\":{\"outlinewidth\":0,\"ticks\":\"\"}}],\"contour\":[{\"type\":\"contour\",\"colorbar\":{\"outlinewidth\":0,\"ticks\":\"\"},\"colorscale\":[[0.0,\"#0d0887\"],[0.1111111111111111,\"#46039f\"],[0.2222222222222222,\"#7201a8\"],[0.3333333333333333,\"#9c179e\"],[0.4444444444444444,\"#bd3786\"],[0.5555555555555556,\"#d8576b\"],[0.6666666666666666,\"#ed7953\"],[0.7777777777777778,\"#fb9f3a\"],[0.8888888888888888,\"#fdca26\"],[1.0,\"#f0f921\"]]}],\"surface\":[{\"type\":\"surface\",\"colorbar\":{\"outlinewidth\":0,\"ticks\":\"\"},\"colorscale\":[[0.0,\"#0d0887\"],[0.1111111111111111,\"#46039f\"],[0.2222222222222222,\"#7201a8\"],[0.3333333333333333,\"#9c179e\"],[0.4444444444444444,\"#bd3786\"],[0.5555555555555556,\"#d8576b\"],[0.6666666666666666,\"#ed7953\"],[0.7777777777777778,\"#fb9f3a\"],[0.8888888888888888,\"#fdca26\"],[1.0,\"#f0f921\"]]}],\"mesh3d\":[{\"type\":\"mesh3d\",\"colorbar\":{\"outlinewidth\":0,\"ticks\":\"\"}}],\"scatter\":[{\"fillpattern\":{\"fillmode\":\"overlay\",\"size\":10,\"solidity\":0.2},\"type\":\"scatter\"}],\"parcoords\":[{\"type\":\"parcoords\",\"line\":{\"colorbar\":{\"outlinewidth\":0,\"ticks\":\"\"}}}],\"scatterpolargl\":[{\"type\":\"scatterpolargl\",\"marker\":{\"colorbar\":{\"outlinewidth\":0,\"ticks\":\"\"}}}],\"bar\":[{\"error_x\":{\"color\":\"#2a3f5f\"},\"error_y\":{\"color\":\"#2a3f5f\"},\"marker\":{\"line\":{\"color\":\"#E5ECF6\",\"width\":0.5},\"pattern\":{\"fillmode\":\"overlay\",\"size\":10,\"solidity\":0.2}},\"type\":\"bar\"}],\"scattergeo\":[{\"type\":\"scattergeo\",\"marker\":{\"colorbar\":{\"outlinewidth\":0,\"ticks\":\"\"}}}],\"scatterpolar\":[{\"type\":\"scatterpolar\",\"marker\":{\"colorbar\":{\"outlinewidth\":0,\"ticks\":\"\"}}}],\"histogram\":[{\"marker\":{\"pattern\":{\"fillmode\":\"overlay\",\"size\":10,\"solidity\":0.2}},\"type\":\"histogram\"}],\"scattergl\":[{\"type\":\"scattergl\",\"marker\":{\"colorbar\":{\"outlinewidth\":0,\"ticks\":\"\"}}}],\"scatter3d\":[{\"type\":\"scatter3d\",\"line\":{\"colorbar\":{\"outlinewidth\":0,\"ticks\":\"\"}},\"marker\":{\"colorbar\":{\"outlinewidth\":0,\"ticks\":\"\"}}}],\"scattermapbox\":[{\"type\":\"scattermapbox\",\"marker\":{\"colorbar\":{\"outlinewidth\":0,\"ticks\":\"\"}}}],\"scatterternary\":[{\"type\":\"scatterternary\",\"marker\":{\"colorbar\":{\"outlinewidth\":0,\"ticks\":\"\"}}}],\"scattercarpet\":[{\"type\":\"scattercarpet\",\"marker\":{\"colorbar\":{\"outlinewidth\":0,\"ticks\":\"\"}}}],\"carpet\":[{\"aaxis\":{\"endlinecolor\":\"#2a3f5f\",\"gridcolor\":\"white\",\"linecolor\":\"white\",\"minorgridcolor\":\"white\",\"startlinecolor\":\"#2a3f5f\"},\"baxis\":{\"endlinecolor\":\"#2a3f5f\",\"gridcolor\":\"white\",\"linecolor\":\"white\",\"minorgridcolor\":\"white\",\"startlinecolor\":\"#2a3f5f\"},\"type\":\"carpet\"}],\"table\":[{\"cells\":{\"fill\":{\"color\":\"#EBF0F8\"},\"line\":{\"color\":\"white\"}},\"header\":{\"fill\":{\"color\":\"#C8D4E3\"},\"line\":{\"color\":\"white\"}},\"type\":\"table\"}],\"barpolar\":[{\"marker\":{\"line\":{\"color\":\"#E5ECF6\",\"width\":0.5},\"pattern\":{\"fillmode\":\"overlay\",\"size\":10,\"solidity\":0.2}},\"type\":\"barpolar\"}],\"pie\":[{\"automargin\":true,\"type\":\"pie\"}]},\"layout\":{\"autotypenumbers\":\"strict\",\"colorway\":[\"#636efa\",\"#EF553B\",\"#00cc96\",\"#ab63fa\",\"#FFA15A\",\"#19d3f3\",\"#FF6692\",\"#B6E880\",\"#FF97FF\",\"#FECB52\"],\"font\":{\"color\":\"#2a3f5f\"},\"hovermode\":\"closest\",\"hoverlabel\":{\"align\":\"left\"},\"paper_bgcolor\":\"white\",\"plot_bgcolor\":\"#E5ECF6\",\"polar\":{\"bgcolor\":\"#E5ECF6\",\"angularaxis\":{\"gridcolor\":\"white\",\"linecolor\":\"white\",\"ticks\":\"\"},\"radialaxis\":{\"gridcolor\":\"white\",\"linecolor\":\"white\",\"ticks\":\"\"}},\"ternary\":{\"bgcolor\":\"#E5ECF6\",\"aaxis\":{\"gridcolor\":\"white\",\"linecolor\":\"white\",\"ticks\":\"\"},\"baxis\":{\"gridcolor\":\"white\",\"linecolor\":\"white\",\"ticks\":\"\"},\"caxis\":{\"gridcolor\":\"white\",\"linecolor\":\"white\",\"ticks\":\"\"}},\"coloraxis\":{\"colorbar\":{\"outlinewidth\":0,\"ticks\":\"\"}},\"colorscale\":{\"sequential\":[[0.0,\"#0d0887\"],[0.1111111111111111,\"#46039f\"],[0.2222222222222222,\"#7201a8\"],[0.3333333333333333,\"#9c179e\"],[0.4444444444444444,\"#bd3786\"],[0.5555555555555556,\"#d8576b\"],[0.6666666666666666,\"#ed7953\"],[0.7777777777777778,\"#fb9f3a\"],[0.8888888888888888,\"#fdca26\"],[1.0,\"#f0f921\"]],\"sequentialminus\":[[0.0,\"#0d0887\"],[0.1111111111111111,\"#46039f\"],[0.2222222222222222,\"#7201a8\"],[0.3333333333333333,\"#9c179e\"],[0.4444444444444444,\"#bd3786\"],[0.5555555555555556,\"#d8576b\"],[0.6666666666666666,\"#ed7953\"],[0.7777777777777778,\"#fb9f3a\"],[0.8888888888888888,\"#fdca26\"],[1.0,\"#f0f921\"]],\"diverging\":[[0,\"#8e0152\"],[0.1,\"#c51b7d\"],[0.2,\"#de77ae\"],[0.3,\"#f1b6da\"],[0.4,\"#fde0ef\"],[0.5,\"#f7f7f7\"],[0.6,\"#e6f5d0\"],[0.7,\"#b8e186\"],[0.8,\"#7fbc41\"],[0.9,\"#4d9221\"],[1,\"#276419\"]]},\"xaxis\":{\"gridcolor\":\"white\",\"linecolor\":\"white\",\"ticks\":\"\",\"title\":{\"standoff\":15},\"zerolinecolor\":\"white\",\"automargin\":true,\"zerolinewidth\":2},\"yaxis\":{\"gridcolor\":\"white\",\"linecolor\":\"white\",\"ticks\":\"\",\"title\":{\"standoff\":15},\"zerolinecolor\":\"white\",\"automargin\":true,\"zerolinewidth\":2},\"scene\":{\"xaxis\":{\"backgroundcolor\":\"#E5ECF6\",\"gridcolor\":\"white\",\"linecolor\":\"white\",\"showbackground\":true,\"ticks\":\"\",\"zerolinecolor\":\"white\",\"gridwidth\":2},\"yaxis\":{\"backgroundcolor\":\"#E5ECF6\",\"gridcolor\":\"white\",\"linecolor\":\"white\",\"showbackground\":true,\"ticks\":\"\",\"zerolinecolor\":\"white\",\"gridwidth\":2},\"zaxis\":{\"backgroundcolor\":\"#E5ECF6\",\"gridcolor\":\"white\",\"linecolor\":\"white\",\"showbackground\":true,\"ticks\":\"\",\"zerolinecolor\":\"white\",\"gridwidth\":2}},\"shapedefaults\":{\"line\":{\"color\":\"#2a3f5f\"}},\"annotationdefaults\":{\"arrowcolor\":\"#2a3f5f\",\"arrowhead\":0,\"arrowwidth\":1},\"geo\":{\"bgcolor\":\"white\",\"landcolor\":\"#E5ECF6\",\"subunitcolor\":\"white\",\"showland\":true,\"showlakes\":true,\"lakecolor\":\"white\"},\"title\":{\"x\":0.05},\"mapbox\":{\"style\":\"light\"}}},\"xaxis\":{\"anchor\":\"y\",\"domain\":[0.0,1.0],\"scaleanchor\":\"y\",\"constrain\":\"domain\",\"title\":{\"text\":\"Nationality\"}},\"yaxis\":{\"anchor\":\"x\",\"domain\":[0.0,1.0],\"autorange\":\"reversed\",\"constrain\":\"domain\",\"title\":{\"text\":\"Average Wage (EUR)\"}},\"coloraxis\":{\"colorscale\":[[0.0,\"#440154\"],[0.1111111111111111,\"#482878\"],[0.2222222222222222,\"#3e4989\"],[0.3333333333333333,\"#31688e\"],[0.4444444444444444,\"#26828e\"],[0.5555555555555556,\"#1f9e89\"],[0.6666666666666666,\"#35b779\"],[0.7777777777777778,\"#6ece58\"],[0.8888888888888888,\"#b5de2b\"],[1.0,\"#fde725\"]]},\"margin\":{\"t\":60}},                        {\"responsive\": true}                    ).then(function(){\n",
       "                            \n",
       "var gd = document.getElementById('e948349a-21e0-4d0b-9b87-0b9849e0736e');\n",
       "var x = new MutationObserver(function (mutations, observer) {{\n",
       "        var display = window.getComputedStyle(gd).display;\n",
       "        if (!display || display === 'none') {{\n",
       "            console.log([gd, 'removed!']);\n",
       "            Plotly.purge(gd);\n",
       "            observer.disconnect();\n",
       "        }}\n",
       "}});\n",
       "\n",
       "// Listen for the removal of the full notebook cells\n",
       "var notebookContainer = gd.closest('#notebook-container');\n",
       "if (notebookContainer) {{\n",
       "    x.observe(notebookContainer, {childList: true});\n",
       "}}\n",
       "\n",
       "// Listen for the clearing of the current output cell\n",
       "var outputEl = gd.closest('.output');\n",
       "if (outputEl) {{\n",
       "    x.observe(outputEl, {childList: true});\n",
       "}}\n",
       "\n",
       "                        })                };                });            </script>        </div>"
      ]
     },
     "metadata": {},
     "output_type": "display_data"
    }
   ],
   "source": [
    "fig = px.imshow(avg_wage_top_10[['average wage']].T, labels=dict(x='Nationality', y='Average Wage (EUR)'), x=avg_wage_top_10['nationality'], y=['Average Wage'], text_auto=True, color_continuous_scale=\"Viridis\")\n",
    "fig.show()"
   ]
  },
  {
   "cell_type": "code",
   "execution_count": 591,
   "metadata": {},
   "outputs": [
    {
     "data": {
      "application/vnd.plotly.v1+json": {
       "config": {
        "plotlyServerURL": "https://plot.ly"
       },
       "data": [
        {
         "hovertemplate": "average wage=%{r}<br>nationality=%{theta}<extra></extra>",
         "legendgroup": "",
         "marker": {
          "color": "#636efa",
          "size": 15,
          "symbol": "circle"
         },
         "mode": "markers",
         "name": "",
         "r": [
          38250,
          23500,
          22125,
          21840,
          21500,
          19619.05,
          19000,
          17000,
          16973.88,
          16646.84
         ],
         "showlegend": false,
         "subplot": "polar",
         "theta": [
          "Dominican Republic",
          "Armenia",
          "Gabon",
          "Algeria",
          "Syria",
          "Croatia",
          "Chad",
          "Central African Rep.",
          "Belgium",
          "Brazil"
         ],
         "type": "scatterpolar"
        }
       ],
       "layout": {
        "height": 600,
        "legend": {
         "tracegroupgap": 0
        },
        "polar": {
         "angularaxis": {
          "direction": "clockwise",
          "rotation": 90
         },
         "domain": {
          "x": [
           0,
           1
          ],
          "y": [
           0,
           1
          ]
         }
        },
        "template": {
         "data": {
          "bar": [
           {
            "error_x": {
             "color": "#2a3f5f"
            },
            "error_y": {
             "color": "#2a3f5f"
            },
            "marker": {
             "line": {
              "color": "#E5ECF6",
              "width": 0.5
             },
             "pattern": {
              "fillmode": "overlay",
              "size": 10,
              "solidity": 0.2
             }
            },
            "type": "bar"
           }
          ],
          "barpolar": [
           {
            "marker": {
             "line": {
              "color": "#E5ECF6",
              "width": 0.5
             },
             "pattern": {
              "fillmode": "overlay",
              "size": 10,
              "solidity": 0.2
             }
            },
            "type": "barpolar"
           }
          ],
          "carpet": [
           {
            "aaxis": {
             "endlinecolor": "#2a3f5f",
             "gridcolor": "white",
             "linecolor": "white",
             "minorgridcolor": "white",
             "startlinecolor": "#2a3f5f"
            },
            "baxis": {
             "endlinecolor": "#2a3f5f",
             "gridcolor": "white",
             "linecolor": "white",
             "minorgridcolor": "white",
             "startlinecolor": "#2a3f5f"
            },
            "type": "carpet"
           }
          ],
          "choropleth": [
           {
            "colorbar": {
             "outlinewidth": 0,
             "ticks": ""
            },
            "type": "choropleth"
           }
          ],
          "contour": [
           {
            "colorbar": {
             "outlinewidth": 0,
             "ticks": ""
            },
            "colorscale": [
             [
              0,
              "#0d0887"
             ],
             [
              0.1111111111111111,
              "#46039f"
             ],
             [
              0.2222222222222222,
              "#7201a8"
             ],
             [
              0.3333333333333333,
              "#9c179e"
             ],
             [
              0.4444444444444444,
              "#bd3786"
             ],
             [
              0.5555555555555556,
              "#d8576b"
             ],
             [
              0.6666666666666666,
              "#ed7953"
             ],
             [
              0.7777777777777778,
              "#fb9f3a"
             ],
             [
              0.8888888888888888,
              "#fdca26"
             ],
             [
              1,
              "#f0f921"
             ]
            ],
            "type": "contour"
           }
          ],
          "contourcarpet": [
           {
            "colorbar": {
             "outlinewidth": 0,
             "ticks": ""
            },
            "type": "contourcarpet"
           }
          ],
          "heatmap": [
           {
            "colorbar": {
             "outlinewidth": 0,
             "ticks": ""
            },
            "colorscale": [
             [
              0,
              "#0d0887"
             ],
             [
              0.1111111111111111,
              "#46039f"
             ],
             [
              0.2222222222222222,
              "#7201a8"
             ],
             [
              0.3333333333333333,
              "#9c179e"
             ],
             [
              0.4444444444444444,
              "#bd3786"
             ],
             [
              0.5555555555555556,
              "#d8576b"
             ],
             [
              0.6666666666666666,
              "#ed7953"
             ],
             [
              0.7777777777777778,
              "#fb9f3a"
             ],
             [
              0.8888888888888888,
              "#fdca26"
             ],
             [
              1,
              "#f0f921"
             ]
            ],
            "type": "heatmap"
           }
          ],
          "heatmapgl": [
           {
            "colorbar": {
             "outlinewidth": 0,
             "ticks": ""
            },
            "colorscale": [
             [
              0,
              "#0d0887"
             ],
             [
              0.1111111111111111,
              "#46039f"
             ],
             [
              0.2222222222222222,
              "#7201a8"
             ],
             [
              0.3333333333333333,
              "#9c179e"
             ],
             [
              0.4444444444444444,
              "#bd3786"
             ],
             [
              0.5555555555555556,
              "#d8576b"
             ],
             [
              0.6666666666666666,
              "#ed7953"
             ],
             [
              0.7777777777777778,
              "#fb9f3a"
             ],
             [
              0.8888888888888888,
              "#fdca26"
             ],
             [
              1,
              "#f0f921"
             ]
            ],
            "type": "heatmapgl"
           }
          ],
          "histogram": [
           {
            "marker": {
             "pattern": {
              "fillmode": "overlay",
              "size": 10,
              "solidity": 0.2
             }
            },
            "type": "histogram"
           }
          ],
          "histogram2d": [
           {
            "colorbar": {
             "outlinewidth": 0,
             "ticks": ""
            },
            "colorscale": [
             [
              0,
              "#0d0887"
             ],
             [
              0.1111111111111111,
              "#46039f"
             ],
             [
              0.2222222222222222,
              "#7201a8"
             ],
             [
              0.3333333333333333,
              "#9c179e"
             ],
             [
              0.4444444444444444,
              "#bd3786"
             ],
             [
              0.5555555555555556,
              "#d8576b"
             ],
             [
              0.6666666666666666,
              "#ed7953"
             ],
             [
              0.7777777777777778,
              "#fb9f3a"
             ],
             [
              0.8888888888888888,
              "#fdca26"
             ],
             [
              1,
              "#f0f921"
             ]
            ],
            "type": "histogram2d"
           }
          ],
          "histogram2dcontour": [
           {
            "colorbar": {
             "outlinewidth": 0,
             "ticks": ""
            },
            "colorscale": [
             [
              0,
              "#0d0887"
             ],
             [
              0.1111111111111111,
              "#46039f"
             ],
             [
              0.2222222222222222,
              "#7201a8"
             ],
             [
              0.3333333333333333,
              "#9c179e"
             ],
             [
              0.4444444444444444,
              "#bd3786"
             ],
             [
              0.5555555555555556,
              "#d8576b"
             ],
             [
              0.6666666666666666,
              "#ed7953"
             ],
             [
              0.7777777777777778,
              "#fb9f3a"
             ],
             [
              0.8888888888888888,
              "#fdca26"
             ],
             [
              1,
              "#f0f921"
             ]
            ],
            "type": "histogram2dcontour"
           }
          ],
          "mesh3d": [
           {
            "colorbar": {
             "outlinewidth": 0,
             "ticks": ""
            },
            "type": "mesh3d"
           }
          ],
          "parcoords": [
           {
            "line": {
             "colorbar": {
              "outlinewidth": 0,
              "ticks": ""
             }
            },
            "type": "parcoords"
           }
          ],
          "pie": [
           {
            "automargin": true,
            "type": "pie"
           }
          ],
          "scatter": [
           {
            "fillpattern": {
             "fillmode": "overlay",
             "size": 10,
             "solidity": 0.2
            },
            "type": "scatter"
           }
          ],
          "scatter3d": [
           {
            "line": {
             "colorbar": {
              "outlinewidth": 0,
              "ticks": ""
             }
            },
            "marker": {
             "colorbar": {
              "outlinewidth": 0,
              "ticks": ""
             }
            },
            "type": "scatter3d"
           }
          ],
          "scattercarpet": [
           {
            "marker": {
             "colorbar": {
              "outlinewidth": 0,
              "ticks": ""
             }
            },
            "type": "scattercarpet"
           }
          ],
          "scattergeo": [
           {
            "marker": {
             "colorbar": {
              "outlinewidth": 0,
              "ticks": ""
             }
            },
            "type": "scattergeo"
           }
          ],
          "scattergl": [
           {
            "marker": {
             "colorbar": {
              "outlinewidth": 0,
              "ticks": ""
             }
            },
            "type": "scattergl"
           }
          ],
          "scattermapbox": [
           {
            "marker": {
             "colorbar": {
              "outlinewidth": 0,
              "ticks": ""
             }
            },
            "type": "scattermapbox"
           }
          ],
          "scatterpolar": [
           {
            "marker": {
             "colorbar": {
              "outlinewidth": 0,
              "ticks": ""
             }
            },
            "type": "scatterpolar"
           }
          ],
          "scatterpolargl": [
           {
            "marker": {
             "colorbar": {
              "outlinewidth": 0,
              "ticks": ""
             }
            },
            "type": "scatterpolargl"
           }
          ],
          "scatterternary": [
           {
            "marker": {
             "colorbar": {
              "outlinewidth": 0,
              "ticks": ""
             }
            },
            "type": "scatterternary"
           }
          ],
          "surface": [
           {
            "colorbar": {
             "outlinewidth": 0,
             "ticks": ""
            },
            "colorscale": [
             [
              0,
              "#0d0887"
             ],
             [
              0.1111111111111111,
              "#46039f"
             ],
             [
              0.2222222222222222,
              "#7201a8"
             ],
             [
              0.3333333333333333,
              "#9c179e"
             ],
             [
              0.4444444444444444,
              "#bd3786"
             ],
             [
              0.5555555555555556,
              "#d8576b"
             ],
             [
              0.6666666666666666,
              "#ed7953"
             ],
             [
              0.7777777777777778,
              "#fb9f3a"
             ],
             [
              0.8888888888888888,
              "#fdca26"
             ],
             [
              1,
              "#f0f921"
             ]
            ],
            "type": "surface"
           }
          ],
          "table": [
           {
            "cells": {
             "fill": {
              "color": "#EBF0F8"
             },
             "line": {
              "color": "white"
             }
            },
            "header": {
             "fill": {
              "color": "#C8D4E3"
             },
             "line": {
              "color": "white"
             }
            },
            "type": "table"
           }
          ]
         },
         "layout": {
          "annotationdefaults": {
           "arrowcolor": "#2a3f5f",
           "arrowhead": 0,
           "arrowwidth": 1
          },
          "autotypenumbers": "strict",
          "coloraxis": {
           "colorbar": {
            "outlinewidth": 0,
            "ticks": ""
           }
          },
          "colorscale": {
           "diverging": [
            [
             0,
             "#8e0152"
            ],
            [
             0.1,
             "#c51b7d"
            ],
            [
             0.2,
             "#de77ae"
            ],
            [
             0.3,
             "#f1b6da"
            ],
            [
             0.4,
             "#fde0ef"
            ],
            [
             0.5,
             "#f7f7f7"
            ],
            [
             0.6,
             "#e6f5d0"
            ],
            [
             0.7,
             "#b8e186"
            ],
            [
             0.8,
             "#7fbc41"
            ],
            [
             0.9,
             "#4d9221"
            ],
            [
             1,
             "#276419"
            ]
           ],
           "sequential": [
            [
             0,
             "#0d0887"
            ],
            [
             0.1111111111111111,
             "#46039f"
            ],
            [
             0.2222222222222222,
             "#7201a8"
            ],
            [
             0.3333333333333333,
             "#9c179e"
            ],
            [
             0.4444444444444444,
             "#bd3786"
            ],
            [
             0.5555555555555556,
             "#d8576b"
            ],
            [
             0.6666666666666666,
             "#ed7953"
            ],
            [
             0.7777777777777778,
             "#fb9f3a"
            ],
            [
             0.8888888888888888,
             "#fdca26"
            ],
            [
             1,
             "#f0f921"
            ]
           ],
           "sequentialminus": [
            [
             0,
             "#0d0887"
            ],
            [
             0.1111111111111111,
             "#46039f"
            ],
            [
             0.2222222222222222,
             "#7201a8"
            ],
            [
             0.3333333333333333,
             "#9c179e"
            ],
            [
             0.4444444444444444,
             "#bd3786"
            ],
            [
             0.5555555555555556,
             "#d8576b"
            ],
            [
             0.6666666666666666,
             "#ed7953"
            ],
            [
             0.7777777777777778,
             "#fb9f3a"
            ],
            [
             0.8888888888888888,
             "#fdca26"
            ],
            [
             1,
             "#f0f921"
            ]
           ]
          },
          "colorway": [
           "#636efa",
           "#EF553B",
           "#00cc96",
           "#ab63fa",
           "#FFA15A",
           "#19d3f3",
           "#FF6692",
           "#B6E880",
           "#FF97FF",
           "#FECB52"
          ],
          "font": {
           "color": "#2a3f5f"
          },
          "geo": {
           "bgcolor": "white",
           "lakecolor": "white",
           "landcolor": "#E5ECF6",
           "showlakes": true,
           "showland": true,
           "subunitcolor": "white"
          },
          "hoverlabel": {
           "align": "left"
          },
          "hovermode": "closest",
          "mapbox": {
           "style": "light"
          },
          "paper_bgcolor": "white",
          "plot_bgcolor": "#E5ECF6",
          "polar": {
           "angularaxis": {
            "gridcolor": "white",
            "linecolor": "white",
            "ticks": ""
           },
           "bgcolor": "#E5ECF6",
           "radialaxis": {
            "gridcolor": "white",
            "linecolor": "white",
            "ticks": ""
           }
          },
          "scene": {
           "xaxis": {
            "backgroundcolor": "#E5ECF6",
            "gridcolor": "white",
            "gridwidth": 2,
            "linecolor": "white",
            "showbackground": true,
            "ticks": "",
            "zerolinecolor": "white"
           },
           "yaxis": {
            "backgroundcolor": "#E5ECF6",
            "gridcolor": "white",
            "gridwidth": 2,
            "linecolor": "white",
            "showbackground": true,
            "ticks": "",
            "zerolinecolor": "white"
           },
           "zaxis": {
            "backgroundcolor": "#E5ECF6",
            "gridcolor": "white",
            "gridwidth": 2,
            "linecolor": "white",
            "showbackground": true,
            "ticks": "",
            "zerolinecolor": "white"
           }
          },
          "shapedefaults": {
           "line": {
            "color": "#2a3f5f"
           }
          },
          "ternary": {
           "aaxis": {
            "gridcolor": "white",
            "linecolor": "white",
            "ticks": ""
           },
           "baxis": {
            "gridcolor": "white",
            "linecolor": "white",
            "ticks": ""
           },
           "bgcolor": "#E5ECF6",
           "caxis": {
            "gridcolor": "white",
            "linecolor": "white",
            "ticks": ""
           }
          },
          "title": {
           "x": 0.05
          },
          "xaxis": {
           "automargin": true,
           "gridcolor": "white",
           "linecolor": "white",
           "ticks": "",
           "title": {
            "standoff": 15
           },
           "zerolinecolor": "white",
           "zerolinewidth": 2
          },
          "yaxis": {
           "automargin": true,
           "gridcolor": "white",
           "linecolor": "white",
           "ticks": "",
           "title": {
            "standoff": 15
           },
           "zerolinecolor": "white",
           "zerolinewidth": 2
          }
         }
        },
        "title": {
         "text": "Top 10 Nationalities by Average Wage"
        },
        "width": 800
       }
      },
      "text/html": [
       "<div>                            <div id=\"3e73cd6c-c324-4d34-b109-2f74960d5405\" class=\"plotly-graph-div\" style=\"height:600px; width:800px;\"></div>            <script type=\"text/javascript\">                require([\"plotly\"], function(Plotly) {                    window.PLOTLYENV=window.PLOTLYENV || {};                                    if (document.getElementById(\"3e73cd6c-c324-4d34-b109-2f74960d5405\")) {                    Plotly.newPlot(                        \"3e73cd6c-c324-4d34-b109-2f74960d5405\",                        [{\"hovertemplate\":\"average wage=%{r}\\u003cbr\\u003enationality=%{theta}\\u003cextra\\u003e\\u003c\\u002fextra\\u003e\",\"legendgroup\":\"\",\"marker\":{\"color\":\"#636efa\",\"symbol\":\"circle\",\"size\":15},\"mode\":\"markers\",\"name\":\"\",\"r\":[38250.0,23500.0,22125.0,21840.0,21500.0,19619.05,19000.0,17000.0,16973.88,16646.84],\"showlegend\":false,\"subplot\":\"polar\",\"theta\":[\"Dominican Republic\",\"Armenia\",\"Gabon\",\"Algeria\",\"Syria\",\"Croatia\",\"Chad\",\"Central African Rep.\",\"Belgium\",\"Brazil\"],\"type\":\"scatterpolar\"}],                        {\"template\":{\"data\":{\"histogram2dcontour\":[{\"type\":\"histogram2dcontour\",\"colorbar\":{\"outlinewidth\":0,\"ticks\":\"\"},\"colorscale\":[[0.0,\"#0d0887\"],[0.1111111111111111,\"#46039f\"],[0.2222222222222222,\"#7201a8\"],[0.3333333333333333,\"#9c179e\"],[0.4444444444444444,\"#bd3786\"],[0.5555555555555556,\"#d8576b\"],[0.6666666666666666,\"#ed7953\"],[0.7777777777777778,\"#fb9f3a\"],[0.8888888888888888,\"#fdca26\"],[1.0,\"#f0f921\"]]}],\"choropleth\":[{\"type\":\"choropleth\",\"colorbar\":{\"outlinewidth\":0,\"ticks\":\"\"}}],\"histogram2d\":[{\"type\":\"histogram2d\",\"colorbar\":{\"outlinewidth\":0,\"ticks\":\"\"},\"colorscale\":[[0.0,\"#0d0887\"],[0.1111111111111111,\"#46039f\"],[0.2222222222222222,\"#7201a8\"],[0.3333333333333333,\"#9c179e\"],[0.4444444444444444,\"#bd3786\"],[0.5555555555555556,\"#d8576b\"],[0.6666666666666666,\"#ed7953\"],[0.7777777777777778,\"#fb9f3a\"],[0.8888888888888888,\"#fdca26\"],[1.0,\"#f0f921\"]]}],\"heatmap\":[{\"type\":\"heatmap\",\"colorbar\":{\"outlinewidth\":0,\"ticks\":\"\"},\"colorscale\":[[0.0,\"#0d0887\"],[0.1111111111111111,\"#46039f\"],[0.2222222222222222,\"#7201a8\"],[0.3333333333333333,\"#9c179e\"],[0.4444444444444444,\"#bd3786\"],[0.5555555555555556,\"#d8576b\"],[0.6666666666666666,\"#ed7953\"],[0.7777777777777778,\"#fb9f3a\"],[0.8888888888888888,\"#fdca26\"],[1.0,\"#f0f921\"]]}],\"heatmapgl\":[{\"type\":\"heatmapgl\",\"colorbar\":{\"outlinewidth\":0,\"ticks\":\"\"},\"colorscale\":[[0.0,\"#0d0887\"],[0.1111111111111111,\"#46039f\"],[0.2222222222222222,\"#7201a8\"],[0.3333333333333333,\"#9c179e\"],[0.4444444444444444,\"#bd3786\"],[0.5555555555555556,\"#d8576b\"],[0.6666666666666666,\"#ed7953\"],[0.7777777777777778,\"#fb9f3a\"],[0.8888888888888888,\"#fdca26\"],[1.0,\"#f0f921\"]]}],\"contourcarpet\":[{\"type\":\"contourcarpet\",\"colorbar\":{\"outlinewidth\":0,\"ticks\":\"\"}}],\"contour\":[{\"type\":\"contour\",\"colorbar\":{\"outlinewidth\":0,\"ticks\":\"\"},\"colorscale\":[[0.0,\"#0d0887\"],[0.1111111111111111,\"#46039f\"],[0.2222222222222222,\"#7201a8\"],[0.3333333333333333,\"#9c179e\"],[0.4444444444444444,\"#bd3786\"],[0.5555555555555556,\"#d8576b\"],[0.6666666666666666,\"#ed7953\"],[0.7777777777777778,\"#fb9f3a\"],[0.8888888888888888,\"#fdca26\"],[1.0,\"#f0f921\"]]}],\"surface\":[{\"type\":\"surface\",\"colorbar\":{\"outlinewidth\":0,\"ticks\":\"\"},\"colorscale\":[[0.0,\"#0d0887\"],[0.1111111111111111,\"#46039f\"],[0.2222222222222222,\"#7201a8\"],[0.3333333333333333,\"#9c179e\"],[0.4444444444444444,\"#bd3786\"],[0.5555555555555556,\"#d8576b\"],[0.6666666666666666,\"#ed7953\"],[0.7777777777777778,\"#fb9f3a\"],[0.8888888888888888,\"#fdca26\"],[1.0,\"#f0f921\"]]}],\"mesh3d\":[{\"type\":\"mesh3d\",\"colorbar\":{\"outlinewidth\":0,\"ticks\":\"\"}}],\"scatter\":[{\"fillpattern\":{\"fillmode\":\"overlay\",\"size\":10,\"solidity\":0.2},\"type\":\"scatter\"}],\"parcoords\":[{\"type\":\"parcoords\",\"line\":{\"colorbar\":{\"outlinewidth\":0,\"ticks\":\"\"}}}],\"scatterpolargl\":[{\"type\":\"scatterpolargl\",\"marker\":{\"colorbar\":{\"outlinewidth\":0,\"ticks\":\"\"}}}],\"bar\":[{\"error_x\":{\"color\":\"#2a3f5f\"},\"error_y\":{\"color\":\"#2a3f5f\"},\"marker\":{\"line\":{\"color\":\"#E5ECF6\",\"width\":0.5},\"pattern\":{\"fillmode\":\"overlay\",\"size\":10,\"solidity\":0.2}},\"type\":\"bar\"}],\"scattergeo\":[{\"type\":\"scattergeo\",\"marker\":{\"colorbar\":{\"outlinewidth\":0,\"ticks\":\"\"}}}],\"scatterpolar\":[{\"type\":\"scatterpolar\",\"marker\":{\"colorbar\":{\"outlinewidth\":0,\"ticks\":\"\"}}}],\"histogram\":[{\"marker\":{\"pattern\":{\"fillmode\":\"overlay\",\"size\":10,\"solidity\":0.2}},\"type\":\"histogram\"}],\"scattergl\":[{\"type\":\"scattergl\",\"marker\":{\"colorbar\":{\"outlinewidth\":0,\"ticks\":\"\"}}}],\"scatter3d\":[{\"type\":\"scatter3d\",\"line\":{\"colorbar\":{\"outlinewidth\":0,\"ticks\":\"\"}},\"marker\":{\"colorbar\":{\"outlinewidth\":0,\"ticks\":\"\"}}}],\"scattermapbox\":[{\"type\":\"scattermapbox\",\"marker\":{\"colorbar\":{\"outlinewidth\":0,\"ticks\":\"\"}}}],\"scatterternary\":[{\"type\":\"scatterternary\",\"marker\":{\"colorbar\":{\"outlinewidth\":0,\"ticks\":\"\"}}}],\"scattercarpet\":[{\"type\":\"scattercarpet\",\"marker\":{\"colorbar\":{\"outlinewidth\":0,\"ticks\":\"\"}}}],\"carpet\":[{\"aaxis\":{\"endlinecolor\":\"#2a3f5f\",\"gridcolor\":\"white\",\"linecolor\":\"white\",\"minorgridcolor\":\"white\",\"startlinecolor\":\"#2a3f5f\"},\"baxis\":{\"endlinecolor\":\"#2a3f5f\",\"gridcolor\":\"white\",\"linecolor\":\"white\",\"minorgridcolor\":\"white\",\"startlinecolor\":\"#2a3f5f\"},\"type\":\"carpet\"}],\"table\":[{\"cells\":{\"fill\":{\"color\":\"#EBF0F8\"},\"line\":{\"color\":\"white\"}},\"header\":{\"fill\":{\"color\":\"#C8D4E3\"},\"line\":{\"color\":\"white\"}},\"type\":\"table\"}],\"barpolar\":[{\"marker\":{\"line\":{\"color\":\"#E5ECF6\",\"width\":0.5},\"pattern\":{\"fillmode\":\"overlay\",\"size\":10,\"solidity\":0.2}},\"type\":\"barpolar\"}],\"pie\":[{\"automargin\":true,\"type\":\"pie\"}]},\"layout\":{\"autotypenumbers\":\"strict\",\"colorway\":[\"#636efa\",\"#EF553B\",\"#00cc96\",\"#ab63fa\",\"#FFA15A\",\"#19d3f3\",\"#FF6692\",\"#B6E880\",\"#FF97FF\",\"#FECB52\"],\"font\":{\"color\":\"#2a3f5f\"},\"hovermode\":\"closest\",\"hoverlabel\":{\"align\":\"left\"},\"paper_bgcolor\":\"white\",\"plot_bgcolor\":\"#E5ECF6\",\"polar\":{\"bgcolor\":\"#E5ECF6\",\"angularaxis\":{\"gridcolor\":\"white\",\"linecolor\":\"white\",\"ticks\":\"\"},\"radialaxis\":{\"gridcolor\":\"white\",\"linecolor\":\"white\",\"ticks\":\"\"}},\"ternary\":{\"bgcolor\":\"#E5ECF6\",\"aaxis\":{\"gridcolor\":\"white\",\"linecolor\":\"white\",\"ticks\":\"\"},\"baxis\":{\"gridcolor\":\"white\",\"linecolor\":\"white\",\"ticks\":\"\"},\"caxis\":{\"gridcolor\":\"white\",\"linecolor\":\"white\",\"ticks\":\"\"}},\"coloraxis\":{\"colorbar\":{\"outlinewidth\":0,\"ticks\":\"\"}},\"colorscale\":{\"sequential\":[[0.0,\"#0d0887\"],[0.1111111111111111,\"#46039f\"],[0.2222222222222222,\"#7201a8\"],[0.3333333333333333,\"#9c179e\"],[0.4444444444444444,\"#bd3786\"],[0.5555555555555556,\"#d8576b\"],[0.6666666666666666,\"#ed7953\"],[0.7777777777777778,\"#fb9f3a\"],[0.8888888888888888,\"#fdca26\"],[1.0,\"#f0f921\"]],\"sequentialminus\":[[0.0,\"#0d0887\"],[0.1111111111111111,\"#46039f\"],[0.2222222222222222,\"#7201a8\"],[0.3333333333333333,\"#9c179e\"],[0.4444444444444444,\"#bd3786\"],[0.5555555555555556,\"#d8576b\"],[0.6666666666666666,\"#ed7953\"],[0.7777777777777778,\"#fb9f3a\"],[0.8888888888888888,\"#fdca26\"],[1.0,\"#f0f921\"]],\"diverging\":[[0,\"#8e0152\"],[0.1,\"#c51b7d\"],[0.2,\"#de77ae\"],[0.3,\"#f1b6da\"],[0.4,\"#fde0ef\"],[0.5,\"#f7f7f7\"],[0.6,\"#e6f5d0\"],[0.7,\"#b8e186\"],[0.8,\"#7fbc41\"],[0.9,\"#4d9221\"],[1,\"#276419\"]]},\"xaxis\":{\"gridcolor\":\"white\",\"linecolor\":\"white\",\"ticks\":\"\",\"title\":{\"standoff\":15},\"zerolinecolor\":\"white\",\"automargin\":true,\"zerolinewidth\":2},\"yaxis\":{\"gridcolor\":\"white\",\"linecolor\":\"white\",\"ticks\":\"\",\"title\":{\"standoff\":15},\"zerolinecolor\":\"white\",\"automargin\":true,\"zerolinewidth\":2},\"scene\":{\"xaxis\":{\"backgroundcolor\":\"#E5ECF6\",\"gridcolor\":\"white\",\"linecolor\":\"white\",\"showbackground\":true,\"ticks\":\"\",\"zerolinecolor\":\"white\",\"gridwidth\":2},\"yaxis\":{\"backgroundcolor\":\"#E5ECF6\",\"gridcolor\":\"white\",\"linecolor\":\"white\",\"showbackground\":true,\"ticks\":\"\",\"zerolinecolor\":\"white\",\"gridwidth\":2},\"zaxis\":{\"backgroundcolor\":\"#E5ECF6\",\"gridcolor\":\"white\",\"linecolor\":\"white\",\"showbackground\":true,\"ticks\":\"\",\"zerolinecolor\":\"white\",\"gridwidth\":2}},\"shapedefaults\":{\"line\":{\"color\":\"#2a3f5f\"}},\"annotationdefaults\":{\"arrowcolor\":\"#2a3f5f\",\"arrowhead\":0,\"arrowwidth\":1},\"geo\":{\"bgcolor\":\"white\",\"landcolor\":\"#E5ECF6\",\"subunitcolor\":\"white\",\"showland\":true,\"showlakes\":true,\"lakecolor\":\"white\"},\"title\":{\"x\":0.05},\"mapbox\":{\"style\":\"light\"}}},\"polar\":{\"domain\":{\"x\":[0.0,1.0],\"y\":[0.0,1.0]},\"angularaxis\":{\"direction\":\"clockwise\",\"rotation\":90}},\"legend\":{\"tracegroupgap\":0},\"title\":{\"text\":\"Top 10 Nationalities by Average Wage\"},\"width\":800,\"height\":600},                        {\"responsive\": true}                    ).then(function(){\n",
       "                            \n",
       "var gd = document.getElementById('3e73cd6c-c324-4d34-b109-2f74960d5405');\n",
       "var x = new MutationObserver(function (mutations, observer) {{\n",
       "        var display = window.getComputedStyle(gd).display;\n",
       "        if (!display || display === 'none') {{\n",
       "            console.log([gd, 'removed!']);\n",
       "            Plotly.purge(gd);\n",
       "            observer.disconnect();\n",
       "        }}\n",
       "}});\n",
       "\n",
       "// Listen for the removal of the full notebook cells\n",
       "var notebookContainer = gd.closest('#notebook-container');\n",
       "if (notebookContainer) {{\n",
       "    x.observe(notebookContainer, {childList: true});\n",
       "}}\n",
       "\n",
       "// Listen for the clearing of the current output cell\n",
       "var outputEl = gd.closest('.output');\n",
       "if (outputEl) {{\n",
       "    x.observe(outputEl, {childList: true});\n",
       "}}\n",
       "\n",
       "                        })                };                });            </script>        </div>"
      ]
     },
     "metadata": {},
     "output_type": "display_data"
    }
   ],
   "source": [
    "fig = px.scatter_polar(avg_wage_top_10, r='average wage', theta='nationality', labels={'average wage': 'average wage'}, title='Top 10 Nationalities by Average Wage')\n",
    "fig.update_layout(width=800, height=600)\n",
    "fig.update_traces(marker=dict(size=15))\n",
    "fig.show()"
   ]
  }
 ],
 "metadata": {
  "kernelspec": {
   "display_name": "Python 3",
   "language": "python",
   "name": "python3"
  },
  "language_info": {
   "codemirror_mode": {
    "name": "ipython",
    "version": 3
   },
   "file_extension": ".py",
   "mimetype": "text/x-python",
   "name": "python",
   "nbconvert_exporter": "python",
   "pygments_lexer": "ipython3",
   "version": "3.9.4"
  },
  "orig_nbformat": 4
 },
 "nbformat": 4,
 "nbformat_minor": 2
}
